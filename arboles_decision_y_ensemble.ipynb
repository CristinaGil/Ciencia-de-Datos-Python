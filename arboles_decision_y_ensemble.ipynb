{
 "cells": [
  {
   "cell_type": "markdown",
   "metadata": {},
   "source": [
    "# **ÁRBOLES DE DECISIÓN Y MÉTODOS DE _ENSEMBLE_**\n",
    "\n",
    "Cristina Gil Martínez (cristina_gil_m@hotmail.com)\n",
    "\n",
    "Abril 2020\n",
    "\n",
    "Los ejemplos de este documento son la versión en Python de los explicados en mi publicación en RPubs [Árboles de decisión y métodos de ensemble](https://rpubs.com/Cristina_Gil/arboles_ensemble), donde se recoge además la explicación teórica de los métodos."
   ]
  },
  {
   "cell_type": "markdown",
   "metadata": {
    "toc": true
   },
   "source": [
    "<h1>Tabla de Contenidos<span class=\"tocSkip\"></span></h1>\n",
    "<div class=\"toc\"><ul class=\"toc-item\"><li><span><a href=\"#ÁRBOLES-DE-DECISIÓN-Y-MÉTODOS-DE-ENSEMBLE\" data-toc-modified-id=\"ÁRBOLES-DE-DECISIÓN-Y-MÉTODOS-DE-ENSEMBLE-1\"><span class=\"toc-item-num\">1&nbsp;&nbsp;</span><strong>ÁRBOLES DE DECISIÓN Y MÉTODOS DE <em>ENSEMBLE</em></strong></a></span></li><li><span><a href=\"#REGRESIÓN\" data-toc-modified-id=\"REGRESIÓN-2\"><span class=\"toc-item-num\">2&nbsp;&nbsp;</span><strong>REGRESIÓN</strong></a></span><ul class=\"toc-item\"><li><span><a href=\"#Carga-de-datos\" data-toc-modified-id=\"Carga-de-datos-2.1\"><span class=\"toc-item-num\">2.1&nbsp;&nbsp;</span>Carga de datos</a></span><ul class=\"toc-item\"><li><span><a href=\"#Estadísticos\" data-toc-modified-id=\"Estadísticos-2.1.1\"><span class=\"toc-item-num\">2.1.1&nbsp;&nbsp;</span>Estadísticos</a></span></li><li><span><a href=\"#Distribución-de-la-variable-respuesta-&quot;Salary&quot;\" data-toc-modified-id=\"Distribución-de-la-variable-respuesta-&quot;Salary&quot;-2.1.2\"><span class=\"toc-item-num\">2.1.2&nbsp;&nbsp;</span>Distribución de la variable respuesta \"Salary\"</a></span></li></ul></li><li><span><a href=\"#División-entrenamiento-test\" data-toc-modified-id=\"División-entrenamiento-test-2.2\"><span class=\"toc-item-num\">2.2&nbsp;&nbsp;</span>División entrenamiento-test</a></span></li><li><span><a href=\"#Árbol-de-regresión-simple\" data-toc-modified-id=\"Árbol-de-regresión-simple-2.3\"><span class=\"toc-item-num\">2.3&nbsp;&nbsp;</span><strong>Árbol de regresión simple</strong></a></span><ul class=\"toc-item\"><li><span><a href=\"#Ajuste\" data-toc-modified-id=\"Ajuste-2.3.1\"><span class=\"toc-item-num\">2.3.1&nbsp;&nbsp;</span>Ajuste</a></span></li><li><span><a href=\"#Evaluación\" data-toc-modified-id=\"Evaluación-2.3.2\"><span class=\"toc-item-num\">2.3.2&nbsp;&nbsp;</span>Evaluación</a></span></li><li><span><a href=\"#Visualización\" data-toc-modified-id=\"Visualización-2.3.3\"><span class=\"toc-item-num\">2.3.3&nbsp;&nbsp;</span>Visualización</a></span></li></ul></li><li><span><a href=\"#Random-Forest\" data-toc-modified-id=\"Random-Forest-2.4\"><span class=\"toc-item-num\">2.4&nbsp;&nbsp;</span><strong>Random Forest</strong></a></span><ul class=\"toc-item\"><li><span><a href=\"#Búsqueda-de-hipermarámetros-y-ajuste\" data-toc-modified-id=\"Búsqueda-de-hipermarámetros-y-ajuste-2.4.1\"><span class=\"toc-item-num\">2.4.1&nbsp;&nbsp;</span>Búsqueda de hipermarámetros y ajuste</a></span></li><li><span><a href=\"#Evaluación\" data-toc-modified-id=\"Evaluación-2.4.2\"><span class=\"toc-item-num\">2.4.2&nbsp;&nbsp;</span>Evaluación</a></span></li><li><span><a href=\"#Importancia-variables\" data-toc-modified-id=\"Importancia-variables-2.4.3\"><span class=\"toc-item-num\">2.4.3&nbsp;&nbsp;</span>Importancia variables</a></span></li></ul></li><li><span><a href=\"#Gradient-Boosting\" data-toc-modified-id=\"Gradient-Boosting-2.5\"><span class=\"toc-item-num\">2.5&nbsp;&nbsp;</span><strong>Gradient Boosting</strong></a></span><ul class=\"toc-item\"><li><span><a href=\"#Búsqueda-de-hipermarámetros-y-ajuste\" data-toc-modified-id=\"Búsqueda-de-hipermarámetros-y-ajuste-2.5.1\"><span class=\"toc-item-num\">2.5.1&nbsp;&nbsp;</span>Búsqueda de hipermarámetros y ajuste</a></span></li><li><span><a href=\"#Evaluación\" data-toc-modified-id=\"Evaluación-2.5.2\"><span class=\"toc-item-num\">2.5.2&nbsp;&nbsp;</span>Evaluación</a></span></li><li><span><a href=\"#Importancia-variables\" data-toc-modified-id=\"Importancia-variables-2.5.3\"><span class=\"toc-item-num\">2.5.3&nbsp;&nbsp;</span>Importancia variables</a></span></li></ul></li></ul></li><li><span><a href=\"#CLASIFICACIÓN\" data-toc-modified-id=\"CLASIFICACIÓN-3\"><span class=\"toc-item-num\">3&nbsp;&nbsp;</span><strong>CLASIFICACIÓN</strong></a></span><ul class=\"toc-item\"><li><span><a href=\"#Carga-de-datos\" data-toc-modified-id=\"Carga-de-datos-3.1\"><span class=\"toc-item-num\">3.1&nbsp;&nbsp;</span>Carga de datos</a></span><ul class=\"toc-item\"><li><span><a href=\"#Estadísticos\" data-toc-modified-id=\"Estadísticos-3.1.1\"><span class=\"toc-item-num\">3.1.1&nbsp;&nbsp;</span>Estadísticos</a></span></li><li><span><a href=\"#Distribución-de-la-variable-respuesta-&quot;Purchase&quot;\" data-toc-modified-id=\"Distribución-de-la-variable-respuesta-&quot;Purchase&quot;-3.1.2\"><span class=\"toc-item-num\">3.1.2&nbsp;&nbsp;</span>Distribución de la variable respuesta \"Purchase\"</a></span></li></ul></li><li><span><a href=\"#División-entrenamiento-test\" data-toc-modified-id=\"División-entrenamiento-test-3.2\"><span class=\"toc-item-num\">3.2&nbsp;&nbsp;</span>División entrenamiento-test</a></span></li><li><span><a href=\"#Árbol-de-clasificación-simple\" data-toc-modified-id=\"Árbol-de-clasificación-simple-3.3\"><span class=\"toc-item-num\">3.3&nbsp;&nbsp;</span><strong>Árbol de clasificación simple</strong></a></span><ul class=\"toc-item\"><li><span><a href=\"#Búsqueda-de-hiperparámetros-y-ajuste\" data-toc-modified-id=\"Búsqueda-de-hiperparámetros-y-ajuste-3.3.1\"><span class=\"toc-item-num\">3.3.1&nbsp;&nbsp;</span>Búsqueda de hiperparámetros y ajuste</a></span></li><li><span><a href=\"#Evaluación\" data-toc-modified-id=\"Evaluación-3.3.2\"><span class=\"toc-item-num\">3.3.2&nbsp;&nbsp;</span>Evaluación</a></span></li><li><span><a href=\"#Visualización\" data-toc-modified-id=\"Visualización-3.3.3\"><span class=\"toc-item-num\">3.3.3&nbsp;&nbsp;</span>Visualización</a></span></li></ul></li><li><span><a href=\"#AdaBoost\" data-toc-modified-id=\"AdaBoost-3.4\"><span class=\"toc-item-num\">3.4&nbsp;&nbsp;</span><strong>AdaBoost</strong></a></span><ul class=\"toc-item\"><li><span><a href=\"#Búsqueda-de-hiperparámetros-y-ajuste\" data-toc-modified-id=\"Búsqueda-de-hiperparámetros-y-ajuste-3.4.1\"><span class=\"toc-item-num\">3.4.1&nbsp;&nbsp;</span>Búsqueda de hiperparámetros y ajuste</a></span></li><li><span><a href=\"#Evaluación\" data-toc-modified-id=\"Evaluación-3.4.2\"><span class=\"toc-item-num\">3.4.2&nbsp;&nbsp;</span>Evaluación</a></span></li><li><span><a href=\"#Importancia-variables\" data-toc-modified-id=\"Importancia-variables-3.4.3\"><span class=\"toc-item-num\">3.4.3&nbsp;&nbsp;</span>Importancia variables</a></span></li></ul></li><li><span><a href=\"#XGBoost\" data-toc-modified-id=\"XGBoost-3.5\"><span class=\"toc-item-num\">3.5&nbsp;&nbsp;</span><strong>XGBoost</strong></a></span><ul class=\"toc-item\"><li><span><a href=\"#Búsqueda-de-hiperparámetros-y-ajuste\" data-toc-modified-id=\"Búsqueda-de-hiperparámetros-y-ajuste-3.5.1\"><span class=\"toc-item-num\">3.5.1&nbsp;&nbsp;</span>Búsqueda de hiperparámetros y ajuste</a></span></li><li><span><a href=\"#Evaluación\" data-toc-modified-id=\"Evaluación-3.5.2\"><span class=\"toc-item-num\">3.5.2&nbsp;&nbsp;</span>Evaluación</a></span></li><li><span><a href=\"#Importancia-variables\" data-toc-modified-id=\"Importancia-variables-3.5.3\"><span class=\"toc-item-num\">3.5.3&nbsp;&nbsp;</span>Importancia variables</a></span></li><li><span><a href=\"#Visualización\" data-toc-modified-id=\"Visualización-3.5.4\"><span class=\"toc-item-num\">3.5.4&nbsp;&nbsp;</span>Visualización</a></span></li></ul></li></ul></li></ul></div>"
   ]
  },
  {
   "cell_type": "code",
   "execution_count": 1,
   "metadata": {},
   "outputs": [],
   "source": [
    "import numpy as np\n",
    "import pandas as pd\n",
    "import matplotlib.pyplot as plt\n",
    "from sklearn.model_selection import train_test_split, cross_val_score\n",
    "from sklearn.model_selection import GridSearchCV\n",
    "from sklearn import tree, preprocessing, model_selection, ensemble\n",
    "from sklearn.tree import export_graphviz \n",
    "from sklearn.metrics import accuracy_score, roc_auc_score, precision_score, recall_score, mean_squared_error, make_scorer, plot_confusion_matrix, classification_report\n",
    "from sklearn import metrics"
   ]
  },
  {
   "cell_type": "markdown",
   "metadata": {},
   "source": [
    "Version de scikit-learn 0.22.2"
   ]
  },
  {
   "cell_type": "code",
   "execution_count": 2,
   "metadata": {},
   "outputs": [],
   "source": [
    "#pd.options.mode.chained_assignment = None"
   ]
  },
  {
   "cell_type": "markdown",
   "metadata": {},
   "source": [
    "# **REGRESIÓN**"
   ]
  },
  {
   "cell_type": "markdown",
   "metadata": {},
   "source": [
    "## Carga de datos"
   ]
  },
  {
   "cell_type": "markdown",
   "metadata": {},
   "source": [
    "Se utiliza el set de datos `Hitters.csv` del paquete `ISLR` de `R` para el ejemplo de regresión."
   ]
  },
  {
   "cell_type": "code",
   "execution_count": 3,
   "metadata": {
    "scrolled": true
   },
   "outputs": [
    {
     "name": "stdout",
     "output_type": "stream",
     "text": [
      "Filas: 322 Variables: 20\n"
     ]
    },
    {
     "data": {
      "text/html": [
       "<div>\n",
       "<style scoped>\n",
       "    .dataframe tbody tr th:only-of-type {\n",
       "        vertical-align: middle;\n",
       "    }\n",
       "\n",
       "    .dataframe tbody tr th {\n",
       "        vertical-align: top;\n",
       "    }\n",
       "\n",
       "    .dataframe thead th {\n",
       "        text-align: right;\n",
       "    }\n",
       "</style>\n",
       "<table border=\"1\" class=\"dataframe\">\n",
       "  <thead>\n",
       "    <tr style=\"text-align: right;\">\n",
       "      <th></th>\n",
       "      <th>AtBat</th>\n",
       "      <th>Hits</th>\n",
       "      <th>HmRun</th>\n",
       "      <th>Runs</th>\n",
       "      <th>RBI</th>\n",
       "      <th>Walks</th>\n",
       "      <th>Years</th>\n",
       "      <th>CAtBat</th>\n",
       "      <th>CHits</th>\n",
       "      <th>CHmRun</th>\n",
       "      <th>CRuns</th>\n",
       "      <th>CRBI</th>\n",
       "      <th>CWalks</th>\n",
       "      <th>League</th>\n",
       "      <th>Division</th>\n",
       "      <th>PutOuts</th>\n",
       "      <th>Assists</th>\n",
       "      <th>Errors</th>\n",
       "      <th>Salary</th>\n",
       "      <th>NewLeague</th>\n",
       "    </tr>\n",
       "  </thead>\n",
       "  <tbody>\n",
       "    <tr>\n",
       "      <th>0</th>\n",
       "      <td>293</td>\n",
       "      <td>66</td>\n",
       "      <td>1</td>\n",
       "      <td>30</td>\n",
       "      <td>29</td>\n",
       "      <td>14</td>\n",
       "      <td>1</td>\n",
       "      <td>293</td>\n",
       "      <td>66</td>\n",
       "      <td>1</td>\n",
       "      <td>30</td>\n",
       "      <td>29</td>\n",
       "      <td>14</td>\n",
       "      <td>A</td>\n",
       "      <td>E</td>\n",
       "      <td>446</td>\n",
       "      <td>33</td>\n",
       "      <td>20</td>\n",
       "      <td>NaN</td>\n",
       "      <td>A</td>\n",
       "    </tr>\n",
       "    <tr>\n",
       "      <th>1</th>\n",
       "      <td>315</td>\n",
       "      <td>81</td>\n",
       "      <td>7</td>\n",
       "      <td>24</td>\n",
       "      <td>38</td>\n",
       "      <td>39</td>\n",
       "      <td>14</td>\n",
       "      <td>3449</td>\n",
       "      <td>835</td>\n",
       "      <td>69</td>\n",
       "      <td>321</td>\n",
       "      <td>414</td>\n",
       "      <td>375</td>\n",
       "      <td>N</td>\n",
       "      <td>W</td>\n",
       "      <td>632</td>\n",
       "      <td>43</td>\n",
       "      <td>10</td>\n",
       "      <td>475.0</td>\n",
       "      <td>N</td>\n",
       "    </tr>\n",
       "    <tr>\n",
       "      <th>2</th>\n",
       "      <td>479</td>\n",
       "      <td>130</td>\n",
       "      <td>18</td>\n",
       "      <td>66</td>\n",
       "      <td>72</td>\n",
       "      <td>76</td>\n",
       "      <td>3</td>\n",
       "      <td>1624</td>\n",
       "      <td>457</td>\n",
       "      <td>63</td>\n",
       "      <td>224</td>\n",
       "      <td>266</td>\n",
       "      <td>263</td>\n",
       "      <td>A</td>\n",
       "      <td>W</td>\n",
       "      <td>880</td>\n",
       "      <td>82</td>\n",
       "      <td>14</td>\n",
       "      <td>480.0</td>\n",
       "      <td>A</td>\n",
       "    </tr>\n",
       "    <tr>\n",
       "      <th>3</th>\n",
       "      <td>496</td>\n",
       "      <td>141</td>\n",
       "      <td>20</td>\n",
       "      <td>65</td>\n",
       "      <td>78</td>\n",
       "      <td>37</td>\n",
       "      <td>11</td>\n",
       "      <td>5628</td>\n",
       "      <td>1575</td>\n",
       "      <td>225</td>\n",
       "      <td>828</td>\n",
       "      <td>838</td>\n",
       "      <td>354</td>\n",
       "      <td>N</td>\n",
       "      <td>E</td>\n",
       "      <td>200</td>\n",
       "      <td>11</td>\n",
       "      <td>3</td>\n",
       "      <td>500.0</td>\n",
       "      <td>N</td>\n",
       "    </tr>\n",
       "    <tr>\n",
       "      <th>4</th>\n",
       "      <td>321</td>\n",
       "      <td>87</td>\n",
       "      <td>10</td>\n",
       "      <td>39</td>\n",
       "      <td>42</td>\n",
       "      <td>30</td>\n",
       "      <td>2</td>\n",
       "      <td>396</td>\n",
       "      <td>101</td>\n",
       "      <td>12</td>\n",
       "      <td>48</td>\n",
       "      <td>46</td>\n",
       "      <td>33</td>\n",
       "      <td>N</td>\n",
       "      <td>E</td>\n",
       "      <td>805</td>\n",
       "      <td>40</td>\n",
       "      <td>4</td>\n",
       "      <td>91.5</td>\n",
       "      <td>N</td>\n",
       "    </tr>\n",
       "  </tbody>\n",
       "</table>\n",
       "</div>"
      ],
      "text/plain": [
       "   AtBat  Hits  HmRun  Runs  RBI  Walks  Years  CAtBat  CHits  CHmRun  CRuns  \\\n",
       "0    293    66      1    30   29     14      1     293     66       1     30   \n",
       "1    315    81      7    24   38     39     14    3449    835      69    321   \n",
       "2    479   130     18    66   72     76      3    1624    457      63    224   \n",
       "3    496   141     20    65   78     37     11    5628   1575     225    828   \n",
       "4    321    87     10    39   42     30      2     396    101      12     48   \n",
       "\n",
       "   CRBI  CWalks League Division  PutOuts  Assists  Errors  Salary NewLeague  \n",
       "0    29      14      A        E      446       33      20     NaN         A  \n",
       "1   414     375      N        W      632       43      10   475.0         N  \n",
       "2   266     263      A        W      880       82      14   480.0         A  \n",
       "3   838     354      N        E      200       11       3   500.0         N  \n",
       "4    46      33      N        E      805       40       4    91.5         N  "
      ]
     },
     "execution_count": 3,
     "metadata": {},
     "output_type": "execute_result"
    }
   ],
   "source": [
    "# Importamos el set de datos Hitters desde un CSV\n",
    "datos_hitters = pd.read_csv('Hitters.csv')\n",
    "\n",
    "print('Filas:', datos_hitters.shape[0], 'Variables:', datos_hitters.shape[1])\n",
    "datos_hitters.head()"
   ]
  },
  {
   "cell_type": "markdown",
   "metadata": {},
   "source": [
    "###  Estadísticos"
   ]
  },
  {
   "cell_type": "code",
   "execution_count": 4,
   "metadata": {},
   "outputs": [
    {
     "data": {
      "text/html": [
       "<div>\n",
       "<style scoped>\n",
       "    .dataframe tbody tr th:only-of-type {\n",
       "        vertical-align: middle;\n",
       "    }\n",
       "\n",
       "    .dataframe tbody tr th {\n",
       "        vertical-align: top;\n",
       "    }\n",
       "\n",
       "    .dataframe thead th {\n",
       "        text-align: right;\n",
       "    }\n",
       "</style>\n",
       "<table border=\"1\" class=\"dataframe\">\n",
       "  <thead>\n",
       "    <tr style=\"text-align: right;\">\n",
       "      <th></th>\n",
       "      <th>AtBat</th>\n",
       "      <th>Hits</th>\n",
       "      <th>HmRun</th>\n",
       "      <th>Runs</th>\n",
       "      <th>RBI</th>\n",
       "      <th>Walks</th>\n",
       "      <th>Years</th>\n",
       "      <th>CAtBat</th>\n",
       "      <th>CHits</th>\n",
       "      <th>CHmRun</th>\n",
       "      <th>CRuns</th>\n",
       "      <th>CRBI</th>\n",
       "      <th>CWalks</th>\n",
       "      <th>PutOuts</th>\n",
       "      <th>Assists</th>\n",
       "      <th>Errors</th>\n",
       "      <th>Salary</th>\n",
       "    </tr>\n",
       "  </thead>\n",
       "  <tbody>\n",
       "    <tr>\n",
       "      <th>count</th>\n",
       "      <td>322.000000</td>\n",
       "      <td>322.000000</td>\n",
       "      <td>322.000000</td>\n",
       "      <td>322.000000</td>\n",
       "      <td>322.000000</td>\n",
       "      <td>322.000000</td>\n",
       "      <td>322.000000</td>\n",
       "      <td>322.00000</td>\n",
       "      <td>322.000000</td>\n",
       "      <td>322.000000</td>\n",
       "      <td>322.000000</td>\n",
       "      <td>322.000000</td>\n",
       "      <td>322.000000</td>\n",
       "      <td>322.000000</td>\n",
       "      <td>322.000000</td>\n",
       "      <td>322.000000</td>\n",
       "      <td>263.000000</td>\n",
       "    </tr>\n",
       "    <tr>\n",
       "      <th>mean</th>\n",
       "      <td>380.928571</td>\n",
       "      <td>101.024845</td>\n",
       "      <td>10.770186</td>\n",
       "      <td>50.909938</td>\n",
       "      <td>48.027950</td>\n",
       "      <td>38.742236</td>\n",
       "      <td>7.444099</td>\n",
       "      <td>2648.68323</td>\n",
       "      <td>717.571429</td>\n",
       "      <td>69.490683</td>\n",
       "      <td>358.795031</td>\n",
       "      <td>330.118012</td>\n",
       "      <td>260.239130</td>\n",
       "      <td>288.937888</td>\n",
       "      <td>106.913043</td>\n",
       "      <td>8.040373</td>\n",
       "      <td>535.925882</td>\n",
       "    </tr>\n",
       "    <tr>\n",
       "      <th>std</th>\n",
       "      <td>153.404981</td>\n",
       "      <td>46.454741</td>\n",
       "      <td>8.709037</td>\n",
       "      <td>26.024095</td>\n",
       "      <td>26.166895</td>\n",
       "      <td>21.639327</td>\n",
       "      <td>4.926087</td>\n",
       "      <td>2324.20587</td>\n",
       "      <td>654.472627</td>\n",
       "      <td>86.266061</td>\n",
       "      <td>334.105886</td>\n",
       "      <td>333.219617</td>\n",
       "      <td>267.058085</td>\n",
       "      <td>280.704614</td>\n",
       "      <td>136.854876</td>\n",
       "      <td>6.368359</td>\n",
       "      <td>451.118681</td>\n",
       "    </tr>\n",
       "    <tr>\n",
       "      <th>min</th>\n",
       "      <td>16.000000</td>\n",
       "      <td>1.000000</td>\n",
       "      <td>0.000000</td>\n",
       "      <td>0.000000</td>\n",
       "      <td>0.000000</td>\n",
       "      <td>0.000000</td>\n",
       "      <td>1.000000</td>\n",
       "      <td>19.00000</td>\n",
       "      <td>4.000000</td>\n",
       "      <td>0.000000</td>\n",
       "      <td>1.000000</td>\n",
       "      <td>0.000000</td>\n",
       "      <td>0.000000</td>\n",
       "      <td>0.000000</td>\n",
       "      <td>0.000000</td>\n",
       "      <td>0.000000</td>\n",
       "      <td>67.500000</td>\n",
       "    </tr>\n",
       "    <tr>\n",
       "      <th>25%</th>\n",
       "      <td>255.250000</td>\n",
       "      <td>64.000000</td>\n",
       "      <td>4.000000</td>\n",
       "      <td>30.250000</td>\n",
       "      <td>28.000000</td>\n",
       "      <td>22.000000</td>\n",
       "      <td>4.000000</td>\n",
       "      <td>816.75000</td>\n",
       "      <td>209.000000</td>\n",
       "      <td>14.000000</td>\n",
       "      <td>100.250000</td>\n",
       "      <td>88.750000</td>\n",
       "      <td>67.250000</td>\n",
       "      <td>109.250000</td>\n",
       "      <td>7.000000</td>\n",
       "      <td>3.000000</td>\n",
       "      <td>190.000000</td>\n",
       "    </tr>\n",
       "    <tr>\n",
       "      <th>50%</th>\n",
       "      <td>379.500000</td>\n",
       "      <td>96.000000</td>\n",
       "      <td>8.000000</td>\n",
       "      <td>48.000000</td>\n",
       "      <td>44.000000</td>\n",
       "      <td>35.000000</td>\n",
       "      <td>6.000000</td>\n",
       "      <td>1928.00000</td>\n",
       "      <td>508.000000</td>\n",
       "      <td>37.500000</td>\n",
       "      <td>247.000000</td>\n",
       "      <td>220.500000</td>\n",
       "      <td>170.500000</td>\n",
       "      <td>212.000000</td>\n",
       "      <td>39.500000</td>\n",
       "      <td>6.000000</td>\n",
       "      <td>425.000000</td>\n",
       "    </tr>\n",
       "    <tr>\n",
       "      <th>75%</th>\n",
       "      <td>512.000000</td>\n",
       "      <td>137.000000</td>\n",
       "      <td>16.000000</td>\n",
       "      <td>69.000000</td>\n",
       "      <td>64.750000</td>\n",
       "      <td>53.000000</td>\n",
       "      <td>11.000000</td>\n",
       "      <td>3924.25000</td>\n",
       "      <td>1059.250000</td>\n",
       "      <td>90.000000</td>\n",
       "      <td>526.250000</td>\n",
       "      <td>426.250000</td>\n",
       "      <td>339.250000</td>\n",
       "      <td>325.000000</td>\n",
       "      <td>166.000000</td>\n",
       "      <td>11.000000</td>\n",
       "      <td>750.000000</td>\n",
       "    </tr>\n",
       "    <tr>\n",
       "      <th>max</th>\n",
       "      <td>687.000000</td>\n",
       "      <td>238.000000</td>\n",
       "      <td>40.000000</td>\n",
       "      <td>130.000000</td>\n",
       "      <td>121.000000</td>\n",
       "      <td>105.000000</td>\n",
       "      <td>24.000000</td>\n",
       "      <td>14053.00000</td>\n",
       "      <td>4256.000000</td>\n",
       "      <td>548.000000</td>\n",
       "      <td>2165.000000</td>\n",
       "      <td>1659.000000</td>\n",
       "      <td>1566.000000</td>\n",
       "      <td>1378.000000</td>\n",
       "      <td>492.000000</td>\n",
       "      <td>32.000000</td>\n",
       "      <td>2460.000000</td>\n",
       "    </tr>\n",
       "  </tbody>\n",
       "</table>\n",
       "</div>"
      ],
      "text/plain": [
       "            AtBat        Hits       HmRun        Runs         RBI       Walks  \\\n",
       "count  322.000000  322.000000  322.000000  322.000000  322.000000  322.000000   \n",
       "mean   380.928571  101.024845   10.770186   50.909938   48.027950   38.742236   \n",
       "std    153.404981   46.454741    8.709037   26.024095   26.166895   21.639327   \n",
       "min     16.000000    1.000000    0.000000    0.000000    0.000000    0.000000   \n",
       "25%    255.250000   64.000000    4.000000   30.250000   28.000000   22.000000   \n",
       "50%    379.500000   96.000000    8.000000   48.000000   44.000000   35.000000   \n",
       "75%    512.000000  137.000000   16.000000   69.000000   64.750000   53.000000   \n",
       "max    687.000000  238.000000   40.000000  130.000000  121.000000  105.000000   \n",
       "\n",
       "            Years       CAtBat        CHits      CHmRun        CRuns  \\\n",
       "count  322.000000    322.00000   322.000000  322.000000   322.000000   \n",
       "mean     7.444099   2648.68323   717.571429   69.490683   358.795031   \n",
       "std      4.926087   2324.20587   654.472627   86.266061   334.105886   \n",
       "min      1.000000     19.00000     4.000000    0.000000     1.000000   \n",
       "25%      4.000000    816.75000   209.000000   14.000000   100.250000   \n",
       "50%      6.000000   1928.00000   508.000000   37.500000   247.000000   \n",
       "75%     11.000000   3924.25000  1059.250000   90.000000   526.250000   \n",
       "max     24.000000  14053.00000  4256.000000  548.000000  2165.000000   \n",
       "\n",
       "              CRBI       CWalks      PutOuts     Assists      Errors  \\\n",
       "count   322.000000   322.000000   322.000000  322.000000  322.000000   \n",
       "mean    330.118012   260.239130   288.937888  106.913043    8.040373   \n",
       "std     333.219617   267.058085   280.704614  136.854876    6.368359   \n",
       "min       0.000000     0.000000     0.000000    0.000000    0.000000   \n",
       "25%      88.750000    67.250000   109.250000    7.000000    3.000000   \n",
       "50%     220.500000   170.500000   212.000000   39.500000    6.000000   \n",
       "75%     426.250000   339.250000   325.000000  166.000000   11.000000   \n",
       "max    1659.000000  1566.000000  1378.000000  492.000000   32.000000   \n",
       "\n",
       "            Salary  \n",
       "count   263.000000  \n",
       "mean    535.925882  \n",
       "std     451.118681  \n",
       "min      67.500000  \n",
       "25%     190.000000  \n",
       "50%     425.000000  \n",
       "75%     750.000000  \n",
       "max    2460.000000  "
      ]
     },
     "execution_count": 4,
     "metadata": {},
     "output_type": "execute_result"
    }
   ],
   "source": [
    "datos_hitters.describe()"
   ]
  },
  {
   "cell_type": "code",
   "execution_count": 5,
   "metadata": {
    "scrolled": true
   },
   "outputs": [
    {
     "name": "stdout",
     "output_type": "stream",
     "text": [
      "AtBat         0\n",
      "Hits          0\n",
      "HmRun         0\n",
      "Runs          0\n",
      "RBI           0\n",
      "Walks         0\n",
      "Years         0\n",
      "CAtBat        0\n",
      "CHits         0\n",
      "CHmRun        0\n",
      "CRuns         0\n",
      "CRBI          0\n",
      "CWalks        0\n",
      "League        0\n",
      "Division      0\n",
      "PutOuts       0\n",
      "Assists       0\n",
      "Errors        0\n",
      "Salary       59\n",
      "NewLeague     0\n",
      "dtype: int64\n",
      "Tras eliminar NaNs\n",
      " Filas: 263 Variables: 20\n"
     ]
    }
   ],
   "source": [
    "# Datos faltantes (NaN) por variable\n",
    "print(datos_hitters.isna().sum(axis = 0))\n",
    "\n",
    "# Eliminamos los 59 registros con datos faltantes en \"Salary\"\n",
    "datos_hitters = datos_hitters.dropna()\n",
    "print('Tras eliminar NaNs\\n','Filas:', datos_hitters.shape[0], 'Variables:', datos_hitters.shape[1])"
   ]
  },
  {
   "cell_type": "markdown",
   "metadata": {},
   "source": [
    "### Distribución de la variable respuesta \"Salary\""
   ]
  },
  {
   "cell_type": "code",
   "execution_count": 6,
   "metadata": {},
   "outputs": [
    {
     "data": {
      "image/png": "[encoded data removed]",
      "text/plain": [
       "<Figure size 432x288 with 1 Axes>"
      ]
     },
     "metadata": {},
     "output_type": "display_data"
    }
   ],
   "source": [
    "datos_hitters['Salary'].plot(kind='hist', bins=30, color='black')\n",
    "plt.title('Distribución de \"Salary\"')\n",
    "plt.xlabel('Salary')\n",
    "plt.show()"
   ]
  },
  {
   "cell_type": "code",
   "execution_count": 7,
   "metadata": {},
   "outputs": [],
   "source": [
    "# Aplicamos la transformación logarítmica a los datos de \"Salary\" para hacer su distribución mas normal\n",
    "datos_hitters['Salary'] = np.log(datos_hitters['Salary'])"
   ]
  },
  {
   "cell_type": "code",
   "execution_count": 8,
   "metadata": {},
   "outputs": [
    {
     "data": {
      "image/png": "[encoded data removed]",
      "text/plain": [
       "<Figure size 432x288 with 1 Axes>"
      ]
     },
     "metadata": {},
     "output_type": "display_data"
    }
   ],
   "source": [
    "# Distribucion de la variable \"Salary\" transformada\n",
    "datos_hitters['Salary'].plot(kind='hist', bins=30, color='black')\n",
    "plt.title('Distribución de log(Salary)')\n",
    "plt.xlabel('Salary')\n",
    "plt.show()"
   ]
  },
  {
   "cell_type": "markdown",
   "metadata": {},
   "source": [
    "## División entrenamiento-test"
   ]
  },
  {
   "cell_type": "code",
   "execution_count": 9,
   "metadata": {},
   "outputs": [],
   "source": [
    "# DIVISION MANUAL\n",
    "\n",
    "X_train = datos_hitters.loc[:201, datos_hitters.columns != 'Salary']\n",
    "y_train = datos_hitters.loc[:201, 'Salary']\n",
    "\n",
    "X_test = datos_hitters.loc[201:, datos_hitters.columns != 'Salary']\n",
    "y_test = datos_hitters.loc[201:, 'Salary']"
   ]
  },
  {
   "cell_type": "code",
   "execution_count": 8,
   "metadata": {},
   "outputs": [],
   "source": [
    "# DIVISION ALEATORIA\n",
    "\n",
    "# Separamos los predictores (X) de la variable respuesta (y)\n",
    "#X = datos_hitters.loc[:, datos_hitters.columns != 'Salary']\n",
    "#y = datos_hitters['Salary']\n",
    "\n",
    "# Dividimos los datos en entrenamiento (80%) y test (20%) de forma aleatoria\n",
    "#X_train, X_test, y_train, y_test = model_selection.train_test_split(X, y, random_state=0, test_size=0.2)"
   ]
  },
  {
   "cell_type": "markdown",
   "metadata": {},
   "source": [
    "## **Árbol de regresión simple**\n",
    "\n",
    "https://scikit-learn.org/stable/modules/generated/sklearn.tree.DecisionTreeRegressor.html"
   ]
  },
  {
   "cell_type": "markdown",
   "metadata": {},
   "source": [
    "Para ajustar un árbol simple regresor, implementaremos la clase `tree.DecisionTreeRegressor` de la librería `sklearn`. Utilizaremos como criterio para medir la calidad de la división de los nodos el MSE. Métricas disponibles para regresión: https://scikit-learn.org/stable/modules/model_evaluation.html"
   ]
  },
  {
   "cell_type": "code",
   "execution_count": 10,
   "metadata": {},
   "outputs": [],
   "source": [
    "# Es necesario codificar las variables categorifcas \"League\", \"NewLeague\" y \"Division\" a numericas\n",
    "cat = preprocessing.LabelEncoder()\n",
    "for col in ['League', 'NewLeague', 'Division']:\n",
    "    X_train.loc[:,col] = cat.fit_transform(X_train.loc[:,col])\n",
    "    X_test.loc[:,col] = cat.fit_transform(X_test.loc[:,col])"
   ]
  },
  {
   "cell_type": "markdown",
   "metadata": {},
   "source": [
    "### Ajuste"
   ]
  },
  {
   "cell_type": "code",
   "execution_count": 11,
   "metadata": {},
   "outputs": [
    {
     "data": {
      "text/plain": [
       "DecisionTreeRegressor(ccp_alpha=0.0, criterion='mse', max_depth=2,\n",
       "                      max_features=None, max_leaf_nodes=None,\n",
       "                      min_impurity_decrease=0.0, min_impurity_split=None,\n",
       "                      min_samples_leaf=1, min_samples_split=10,\n",
       "                      min_weight_fraction_leaf=0.0, presort='deprecated',\n",
       "                      random_state=0, splitter='best')"
      ]
     },
     "execution_count": 11,
     "metadata": {},
     "output_type": "execute_result"
    }
   ],
   "source": [
    "from sklearn.tree import DecisionTreeRegressor\n",
    "\n",
    "# Especificamos los parametros deseados\n",
    "modelo_arbolR = DecisionTreeRegressor(criterion='mse', \n",
    "                                      min_samples_split=10, #nº minimo de observaciones para dividir nodo \n",
    "                                      max_depth=2, #profundidad maxima\n",
    "                                      random_state=0) #semilla\n",
    "# Entrenamos el modelo con los datos de entrenamiento \n",
    "modelo_arbolR.fit(X_train, y_train)"
   ]
  },
  {
   "cell_type": "markdown",
   "metadata": {},
   "source": [
    "### Evaluación"
   ]
  },
  {
   "cell_type": "code",
   "execution_count": 12,
   "metadata": {},
   "outputs": [],
   "source": [
    "# Obtenemos las predicciones del modelo sobre los datos de test\n",
    "y_pred = modelo_arbolR.predict(X_test)"
   ]
  },
  {
   "cell_type": "code",
   "execution_count": 13,
   "metadata": {},
   "outputs": [
    {
     "data": {
      "image/png": "[encoded data removed]",
      "text/plain": [
       "<Figure size 432x288 with 1 Axes>"
      ]
     },
     "metadata": {},
     "output_type": "display_data"
    }
   ],
   "source": [
    "plt.scatter(y_pred, y_test, color = 'blue') \n",
    "plt.title('Árbol regresión: Predicción vs valor real de \"Salary\"')\n",
    "plt.xlabel('Salary predicho')\n",
    "plt.ylabel('Salary real')\n",
    "plt.show()"
   ]
  },
  {
   "cell_type": "code",
   "execution_count": 14,
   "metadata": {},
   "outputs": [
    {
     "name": "stdout",
     "output_type": "stream",
     "text": [
      "Métricas de test: \n",
      "MAE = 0.423 \n",
      "MSE = 0.401 \n",
      "RMSE = 0.633 \n",
      "R^2 = 0.438\n"
     ]
    }
   ],
   "source": [
    "# TEST\n",
    "\n",
    "# Métricas en test\n",
    "print('Métricas de test:',\n",
    "      '\\nMAE =', round(metrics.mean_absolute_error(y_test, y_pred),3),\n",
    "      '\\nMSE =', round(metrics.mean_squared_error(y_test, y_pred), 3),\n",
    "      '\\nRMSE =', round(np.sqrt(metrics.mean_squared_error(y_test, y_pred)),3),\n",
    "      '\\nR^2 =', round(modelo_arbolR.score(X_test, y_test), 3))"
   ]
  },
  {
   "cell_type": "markdown",
   "metadata": {},
   "source": [
    "### Visualización"
   ]
  },
  {
   "cell_type": "code",
   "execution_count": 15,
   "metadata": {},
   "outputs": [],
   "source": [
    "# Exportamos el arbol a archivo .dot\n",
    "nombre_variables = X_train.columns.get_values().tolist()\n",
    "export_graphviz(modelo_arbolR, out_file=\"treeR.dot\", filled=True, feature_names=nombre_variables, rounded=True)  "
   ]
  },
  {
   "cell_type": "markdown",
   "metadata": {},
   "source": [
    "El árbol resultante sería el siguiente (obtenido convirtiendo el árbol exportado en formato .dot a .png):"
   ]
  },
  {
   "attachments": {
    "treeR.png": {
     "image/png": "[encoded data removed]"
    }
   },
   "cell_type": "markdown",
   "metadata": {},
   "source": [
    "![treeR.png](attachment:treeR.png)"
   ]
  },
  {
   "cell_type": "markdown",
   "metadata": {},
   "source": [
    "## **Random Forest**\n",
    "\n",
    "https://scikit-learn.org/stable/modules/generated/sklearn.ensemble.RandomForestRegressor.html\n",
    "\n",
    "_También aplicable a clasificación con RandomForestClassifier_: https://scikit-learn.org/stable/modules/generated/sklearn.ensemble.RandomForestClassifier.html"
   ]
  },
  {
   "cell_type": "markdown",
   "metadata": {},
   "source": [
    "### Búsqueda de hipermarámetros y ajuste"
   ]
  },
  {
   "cell_type": "markdown",
   "metadata": {},
   "source": [
    "Se muestra un ejemplo sencillo y simplificado de búsqueda hiperparámetros óptimos, de entre todos los disponibles:"
   ]
  },
  {
   "cell_type": "code",
   "execution_count": 16,
   "metadata": {
    "scrolled": false
   },
   "outputs": [
    {
     "data": {
      "image/png": "[encoded data removed]",
      "text/plain": [
       "<Figure size 432x288 with 1 Axes>"
      ]
     },
     "metadata": {},
     "output_type": "display_data"
    },
    {
     "name": "stdout",
     "output_type": "stream",
     "text": [
      "Mejor índice: 0 , correspondiente a: {'max_features': 2} \n",
      "MSE asociado: 0.164\n"
     ]
    }
   ],
   "source": [
    "from sklearn.ensemble import RandomForestRegressor\n",
    "\n",
    "# Establecemos un grid con las combinaciones de valores que queremos evaluar. \n",
    "grid_hiperparametros = {#'n_estimators': [500], #nº de arboles \n",
    "                        'max_features': list(range(2,19))} #nº de variables a tener en cuenta para las divisiones (mtry en R)\n",
    "\n",
    "# Definimos la busqueda mediante 10-fold CV\n",
    "busqueda_grid = GridSearchCV(estimator = RandomForestRegressor(criterion='mse', random_state=0), #tipo de modelo\n",
    "                             param_grid = grid_hiperparametros, \n",
    "                             cv = 10, #folds\n",
    "                             #return_train_score = True,\n",
    "                             scoring = make_scorer(mean_squared_error), #medida a optimizar\n",
    "                             n_jobs = -1) \n",
    "\n",
    "# Aplicamos la busqueda\n",
    "busqueda_grid.fit(X_train, y_train)\n",
    "\n",
    "# Almacenamos en variables los resultados de la busqueda grid\n",
    "n_variables_cv = busqueda_grid.cv_results_['param_max_features'].tolist()\n",
    "mse_medio_cv = busqueda_grid.cv_results_['mean_test_score'].tolist()\n",
    "mse_std_cv = busqueda_grid.cv_results_['std_test_score'].tolist()\n",
    "\n",
    "# Grafico evolucion del MSE en validacion cruzada\n",
    "plt.figure()\n",
    "plt.plot(n_variables_cv, mse_medio_cv)\n",
    "plt.errorbar(n_variables_cv, mse_medio_cv, yerr=mse_std_cv, ecolor = 'red', elinewidth = 0.5)\n",
    "plt.title(\"Evolución del MSE en validación cruzada\")\n",
    "plt.xlabel('Nº máximo de predictores aleatorios')\n",
    "plt.ylabel('MSE')\n",
    "plt.ylim((0, 0.3))\n",
    "plt.xticks(n_variables_cv)\n",
    "plt.show()\n",
    "\n",
    "# Mejores hiperparametros sobre los datos hold-out\n",
    "print('Mejor índice:', busqueda_grid.best_index_, ', correspondiente a:', busqueda_grid.best_params_,\n",
    "     '\\nMSE asociado:', round(busqueda_grid.cv_results_['mean_test_score'][busqueda_grid.best_index_],3))"
   ]
  },
  {
   "cell_type": "code",
   "execution_count": 17,
   "metadata": {},
   "outputs": [
    {
     "data": {
      "text/plain": [
       "RandomForestRegressor(bootstrap=True, ccp_alpha=0.0, criterion='mse',\n",
       "                      max_depth=None, max_features=2, max_leaf_nodes=None,\n",
       "                      max_samples=None, min_impurity_decrease=0.0,\n",
       "                      min_impurity_split=None, min_samples_leaf=1,\n",
       "                      min_samples_split=2, min_weight_fraction_leaf=0.0,\n",
       "                      n_estimators=100, n_jobs=-1, oob_score=True,\n",
       "                      random_state=0, verbose=0, warm_start=False)"
      ]
     },
     "execution_count": 17,
     "metadata": {},
     "output_type": "execute_result"
    }
   ],
   "source": [
    "# Ajustamos el modelo RF usando los hiperparametros optimos escogidos\n",
    "modelo_rfR = RandomForestRegressor(criterion='mse', \n",
    "                                   #n_estimators = 500,\n",
    "                                   max_features = 2, \n",
    "                                   oob_score = True, #uso de observaciones out-of-bag para calcular su R^2\n",
    "                                   random_state = 0, # semilla\n",
    "                                   n_jobs = -1) # paralelizacion\n",
    "\n",
    "# Entrenamos el modelo con los datos de entrenamiento \n",
    "modelo_rfR.fit(X_train, y_train)"
   ]
  },
  {
   "cell_type": "code",
   "execution_count": 18,
   "metadata": {},
   "outputs": [
    {
     "name": "stdout",
     "output_type": "stream",
     "text": [
      "Métricas sobre datos de entrenamiento: \n",
      "R^2 = 0.975 \n",
      "OOB = 0.809\n"
     ]
    }
   ],
   "source": [
    "# R^2 en train y oob error en entrenamiento\n",
    "print('Métricas sobre datos de entrenamiento:',\n",
    "      '\\nR^2 =', round(modelo_rfR.score(X_train, y_train), 3), \n",
    "      '\\nOOB =', round(modelo_rfR.oob_score_, 3))"
   ]
  },
  {
   "cell_type": "markdown",
   "metadata": {},
   "source": [
    "### Evaluación"
   ]
  },
  {
   "cell_type": "code",
   "execution_count": 19,
   "metadata": {},
   "outputs": [],
   "source": [
    "# Obtenemos las predicciones del modelo sobre los datos de test\n",
    "y_pred = modelo_rfR.predict(X_test)"
   ]
  },
  {
   "cell_type": "code",
   "execution_count": 20,
   "metadata": {},
   "outputs": [
    {
     "data": {
      "image/png": "[encoded data removed]",
      "text/plain": [
       "<Figure size 432x288 with 1 Axes>"
      ]
     },
     "metadata": {},
     "output_type": "display_data"
    }
   ],
   "source": [
    "plt.scatter(y_pred, y_test, color = 'blue') \n",
    "plt.title('Random Forest: Predicción vs valor real de \"Salary\"')\n",
    "plt.xlabel('Salary predicho')\n",
    "plt.ylabel('Salary real')\n",
    "plt.show()"
   ]
  },
  {
   "cell_type": "code",
   "execution_count": 21,
   "metadata": {},
   "outputs": [
    {
     "name": "stdout",
     "output_type": "stream",
     "text": [
      "Métricas de validación cruzada: \n",
      "MSE medio +- std =  0.158 +- 0.089 \n",
      "R^2 = 0.805\n"
     ]
    }
   ],
   "source": [
    "# VALIDACION CRUZADA 10-FOLD\n",
    "\n",
    "# Calculo del R^2 en validacion cruzada \n",
    "R_2 = cross_val_score(estimator = modelo_rfR, \n",
    "                      X = X_train, \n",
    "                      y = y_train, \n",
    "                      cv = 10, \n",
    "                      scoring = 'r2')\n",
    "\n",
    "print('Métricas de validación cruzada:',\n",
    "      '\\nMSE medio +- std = ', round(busqueda_grid.cv_results_['mean_test_score'].mean(), 3), \n",
    "      '+-', round(busqueda_grid.cv_results_['std_test_score'].mean(), 3),\n",
    "      '\\nR^2 =', round(R_2.mean(), 3))"
   ]
  },
  {
   "cell_type": "code",
   "execution_count": 22,
   "metadata": {},
   "outputs": [
    {
     "name": "stdout",
     "output_type": "stream",
     "text": [
      "Métricas de test: \n",
      "MAE = 0.332 \n",
      "MSE = 0.335 \n",
      "RMSE = 0.579 \n",
      "R^2 = 0.53\n"
     ]
    }
   ],
   "source": [
    "# TEST\n",
    "\n",
    "# Metricas en test\n",
    "print('Métricas de test:',\n",
    "      '\\nMAE =', round(metrics.mean_absolute_error(y_test, y_pred),3),\n",
    "      '\\nMSE =', round(metrics.mean_squared_error(y_test, y_pred),3),\n",
    "      '\\nRMSE =', round(np.sqrt(metrics.mean_squared_error(y_test, y_pred)),3),\n",
    "      '\\nR^2 =', round(modelo_rfR.score(X_test, y_test),3))"
   ]
  },
  {
   "cell_type": "markdown",
   "metadata": {},
   "source": [
    "### Importancia variables"
   ]
  },
  {
   "cell_type": "markdown",
   "metadata": {},
   "source": [
    "La importancia de cada variable calculada hace referencia a la disminución media de pureza que proporciona:"
   ]
  },
  {
   "cell_type": "code",
   "execution_count": 23,
   "metadata": {},
   "outputs": [
    {
     "data": {
      "image/png": "[encoded data removed]",
      "text/plain": [
       "<Figure size 432x288 with 1 Axes>"
      ]
     },
     "metadata": {},
     "output_type": "display_data"
    }
   ],
   "source": [
    "# Recuperamos los valores de importancia del modelo ajustado\n",
    "importancias = modelo_rfR.feature_importances_\n",
    "\n",
    "# Ordenamos los valores de importancia en orden descendiente\n",
    "indices = np.argsort(importancias)\n",
    "\n",
    "X = datos_hitters.loc[:, datos_hitters.columns != 'Salary']\n",
    "plt.title('Importancia variables')\n",
    "plt.barh(range(len(indices)), importancias[indices], color='b', align='center')\n",
    "plt.yticks(range(len(indices)), [X.columns[i] for i in indices])\n",
    "plt.xlabel('Importancia relativa')\n",
    "plt.show()"
   ]
  },
  {
   "cell_type": "markdown",
   "metadata": {},
   "source": [
    "## **Gradient Boosting**\n",
    "\n",
    "https://scikit-learn.org/stable/modules/generated/sklearn.ensemble.GradientBoostingRegressor.html"
   ]
  },
  {
   "cell_type": "markdown",
   "metadata": {},
   "source": [
    "### Búsqueda de hipermarámetros y ajuste"
   ]
  },
  {
   "cell_type": "code",
   "execution_count": 24,
   "metadata": {},
   "outputs": [
    {
     "name": "stdout",
     "output_type": "stream",
     "text": [
      "Conjunto de hiperparámetros óptimo: {'learning_rate': 0.01, 'max_features': 4, 'min_samples_split': 15, 'n_estimators': 100} \n",
      "MSE asociado: 0.269\n"
     ]
    }
   ],
   "source": [
    "# Establecemos un grid con las combinaciones de valores que queremos evaluar. Combinaciones resultantes=3^4=81\n",
    "grid_hiperparametros = {'n_estimators': [100, 200, 300], #nº de etapas de boosting\n",
    "                        'learning_rate': [0.01, 0.1, 0.15], #reduce la contribucion de cada arbol por este valor \n",
    "                        'max_features': [4, 5, 6], #nº de variables a tener en cuenta para las divisiones (mtry en R)\n",
    "                        'min_samples_split': [5, 10, 15]} #nº mínimo de observaciones necesarias para dividir un nodo interno (n.minobsinnode en R)\n",
    "\n",
    "# Definimos la busqueda mediante 10-fold CV\n",
    "busqueda_grid = GridSearchCV(estimator = ensemble.GradientBoostingRegressor(criterion='mse', \n",
    "                                                                            loss='ls', #funcion a optimizar = least squares\n",
    "                                                                            random_state=0), \n",
    "                             param_grid = grid_hiperparametros, \n",
    "                             cv = 10, #folds\n",
    "                             #return_train_score = True,\n",
    "                             scoring = make_scorer(mean_squared_error), #medida a optimizar\n",
    "                             n_jobs = -1) \n",
    "\n",
    "# Aplicamos la busqueda\n",
    "busqueda_grid.fit(X_train, y_train)\n",
    "\n",
    "# Mejores hiperparametros sobre los datos hold-out\n",
    "print('Conjunto de hiperparámetros óptimo:',\n",
    "      busqueda_grid.best_params_,\n",
    "      '\\nMSE asociado:', round(busqueda_grid.cv_results_['mean_test_score'][busqueda_grid.best_index_],3))"
   ]
  },
  {
   "cell_type": "code",
   "execution_count": 25,
   "metadata": {},
   "outputs": [
    {
     "data": {
      "text/plain": [
       "GradientBoostingRegressor(alpha=0.9, ccp_alpha=0.0, criterion='mse', init=None,\n",
       "                          learning_rate=0.01, loss='ls', max_depth=3,\n",
       "                          max_features=4, max_leaf_nodes=None,\n",
       "                          min_impurity_decrease=0.0, min_impurity_split=None,\n",
       "                          min_samples_leaf=1, min_samples_split=15,\n",
       "                          min_weight_fraction_leaf=0.0, n_estimators=100,\n",
       "                          n_iter_no_change=None, presort='deprecated',\n",
       "                          random_state=0, subsample=1.0, tol=0.0001,\n",
       "                          validation_fraction=0.1, verbose=0, warm_start=False)"
      ]
     },
     "execution_count": 25,
     "metadata": {},
     "output_type": "execute_result"
    }
   ],
   "source": [
    "# Ajustamos el modelo GradientBoosting usando los hiperparametros optimos obtenidos\n",
    "modelo_boostingR = ensemble.GradientBoostingRegressor(criterion='mse', # criterio para la division\n",
    "                                                      n_estimators = 100,\n",
    "                                                      max_features = 4, \n",
    "                                                      learning_rate = 0.01,\n",
    "                                                      min_samples_split = 15,\n",
    "                                                      random_state = 0) # semilla\n",
    "                                                     \n",
    "\n",
    "# Entrenamos el modelo con los datos de entrenamiento \n",
    "modelo_boostingR.fit(X_train, y_train)"
   ]
  },
  {
   "cell_type": "code",
   "execution_count": 26,
   "metadata": {},
   "outputs": [
    {
     "name": "stdout",
     "output_type": "stream",
     "text": [
      "R^2 train: 0.744\n"
     ]
    }
   ],
   "source": [
    "# R^2 sobre datos de entrenamiento\n",
    "print('R^2 train:', round(modelo_boostingR.score(X_train, y_train), 3))"
   ]
  },
  {
   "cell_type": "markdown",
   "metadata": {},
   "source": [
    "### Evaluación"
   ]
  },
  {
   "cell_type": "code",
   "execution_count": 27,
   "metadata": {},
   "outputs": [],
   "source": [
    "# Obtenemos las predicciones del modelo sobre los datos de test\n",
    "y_pred = modelo_boostingR.predict(X_test)"
   ]
  },
  {
   "cell_type": "code",
   "execution_count": 28,
   "metadata": {},
   "outputs": [
    {
     "data": {
      "image/png": "[encoded data removed]",
      "text/plain": [
       "<Figure size 432x288 with 1 Axes>"
      ]
     },
     "metadata": {},
     "output_type": "display_data"
    }
   ],
   "source": [
    "plt.scatter(y_test, y_pred, color = 'blue') \n",
    "plt.title('Boosting: Predicción vs valor real de \"Salary\"')\n",
    "plt.xlabel('Salary real')\n",
    "plt.ylabel('Salary predicho')\n",
    "plt.show()"
   ]
  },
  {
   "cell_type": "code",
   "execution_count": 29,
   "metadata": {},
   "outputs": [
    {
     "name": "stdout",
     "output_type": "stream",
     "text": [
      "Métricas de validación cruzada: \n",
      "MSE medio +- std =  0.178 +- 0.082 \n",
      "R^2 = 0.676\n"
     ]
    }
   ],
   "source": [
    "# VALIDACION CRUZADA 10-FOLD\n",
    "\n",
    "# Calculo del R^2 en validacion cruzada\n",
    "R_2 = cross_val_score(estimator = modelo_boostingR, \n",
    "                       X = X_train, \n",
    "                       y = y_train, \n",
    "                       cv = 10, \n",
    "                       scoring = 'r2')\n",
    "\n",
    "print('Métricas de validación cruzada:',\n",
    "      '\\nMSE medio +- std = ', round(busqueda_grid.cv_results_['mean_test_score'].mean(), 3), \n",
    "      '+-', round(busqueda_grid.cv_results_['std_test_score'].mean(), 3),\n",
    "      '\\nR^2 =', round(R_2.mean(), 3))"
   ]
  },
  {
   "cell_type": "code",
   "execution_count": 30,
   "metadata": {},
   "outputs": [
    {
     "name": "stdout",
     "output_type": "stream",
     "text": [
      "Métricas en test: \n",
      "MAE = 0.435 \n",
      "MMSE = 0.353 \n",
      "RMSE = 0.594 \n",
      "R^2 = 0.506\n"
     ]
    }
   ],
   "source": [
    "# TEST\n",
    "\n",
    "# Métricas en test\n",
    "print('Métricas en test:',\n",
    "      '\\nMAE =', round(metrics.mean_absolute_error(y_test, y_pred),3),\n",
    "      '\\nMMSE =', round(metrics.mean_squared_error(y_test, y_pred),3),\n",
    "      '\\nRMSE =', round(np.sqrt(metrics.mean_squared_error(y_test, y_pred)),3),\n",
    "      '\\nR^2 =', round(modelo_boostingR.score(X_test, y_test),3))"
   ]
  },
  {
   "cell_type": "markdown",
   "metadata": {},
   "source": [
    "### Importancia variables"
   ]
  },
  {
   "cell_type": "code",
   "execution_count": 31,
   "metadata": {},
   "outputs": [
    {
     "data": {
      "image/png": "[encoded data removed]",
      "text/plain": [
       "<Figure size 432x288 with 1 Axes>"
      ]
     },
     "metadata": {},
     "output_type": "display_data"
    }
   ],
   "source": [
    "# Recuperamos los valores de importancia del modelo ajustado\n",
    "importancias = modelo_boostingR.feature_importances_\n",
    "# Ordenamos los valores de importancia en orden descendiente\n",
    "indices = np.argsort(importancias)\n",
    "\n",
    "plt.title('Importancia variables')\n",
    "plt.barh(range(len(indices)), importancias[indices], color='b', align='center')\n",
    "plt.yticks(range(len(indices)), [X.columns[i] for i in indices])\n",
    "plt.xlabel('Importancia relativa')\n",
    "plt.show()"
   ]
  },
  {
   "cell_type": "markdown",
   "metadata": {},
   "source": [
    "# **CLASIFICACIÓN**"
   ]
  },
  {
   "cell_type": "markdown",
   "metadata": {},
   "source": [
    "## Carga de datos"
   ]
  },
  {
   "cell_type": "markdown",
   "metadata": {},
   "source": [
    "Se utiliza el set de datos `OJ.csv` del paquete `ISLR` de `R` para el ejemplo de regresión."
   ]
  },
  {
   "cell_type": "code",
   "execution_count": 32,
   "metadata": {
    "scrolled": true
   },
   "outputs": [
    {
     "name": "stdout",
     "output_type": "stream",
     "text": [
      "Filas: 1070 Variables: 18\n"
     ]
    },
    {
     "data": {
      "text/html": [
       "<div>\n",
       "<style scoped>\n",
       "    .dataframe tbody tr th:only-of-type {\n",
       "        vertical-align: middle;\n",
       "    }\n",
       "\n",
       "    .dataframe tbody tr th {\n",
       "        vertical-align: top;\n",
       "    }\n",
       "\n",
       "    .dataframe thead th {\n",
       "        text-align: right;\n",
       "    }\n",
       "</style>\n",
       "<table border=\"1\" class=\"dataframe\">\n",
       "  <thead>\n",
       "    <tr style=\"text-align: right;\">\n",
       "      <th></th>\n",
       "      <th>Purchase</th>\n",
       "      <th>WeekofPurchase</th>\n",
       "      <th>StoreID</th>\n",
       "      <th>PriceCH</th>\n",
       "      <th>PriceMM</th>\n",
       "      <th>DiscCH</th>\n",
       "      <th>DiscMM</th>\n",
       "      <th>SpecialCH</th>\n",
       "      <th>SpecialMM</th>\n",
       "      <th>LoyalCH</th>\n",
       "      <th>SalePriceMM</th>\n",
       "      <th>SalePriceCH</th>\n",
       "      <th>PriceDiff</th>\n",
       "      <th>Store7</th>\n",
       "      <th>PctDiscMM</th>\n",
       "      <th>PctDiscCH</th>\n",
       "      <th>ListPriceDiff</th>\n",
       "      <th>STORE</th>\n",
       "    </tr>\n",
       "  </thead>\n",
       "  <tbody>\n",
       "    <tr>\n",
       "      <th>0</th>\n",
       "      <td>CH</td>\n",
       "      <td>237</td>\n",
       "      <td>1</td>\n",
       "      <td>1.75</td>\n",
       "      <td>1.99</td>\n",
       "      <td>0.00</td>\n",
       "      <td>0.0</td>\n",
       "      <td>0</td>\n",
       "      <td>0</td>\n",
       "      <td>0.500000</td>\n",
       "      <td>1.99</td>\n",
       "      <td>1.75</td>\n",
       "      <td>0.24</td>\n",
       "      <td>No</td>\n",
       "      <td>0.000000</td>\n",
       "      <td>0.000000</td>\n",
       "      <td>0.24</td>\n",
       "      <td>1</td>\n",
       "    </tr>\n",
       "    <tr>\n",
       "      <th>1</th>\n",
       "      <td>CH</td>\n",
       "      <td>239</td>\n",
       "      <td>1</td>\n",
       "      <td>1.75</td>\n",
       "      <td>1.99</td>\n",
       "      <td>0.00</td>\n",
       "      <td>0.3</td>\n",
       "      <td>0</td>\n",
       "      <td>1</td>\n",
       "      <td>0.600000</td>\n",
       "      <td>1.69</td>\n",
       "      <td>1.75</td>\n",
       "      <td>-0.06</td>\n",
       "      <td>No</td>\n",
       "      <td>0.150754</td>\n",
       "      <td>0.000000</td>\n",
       "      <td>0.24</td>\n",
       "      <td>1</td>\n",
       "    </tr>\n",
       "    <tr>\n",
       "      <th>2</th>\n",
       "      <td>CH</td>\n",
       "      <td>245</td>\n",
       "      <td>1</td>\n",
       "      <td>1.86</td>\n",
       "      <td>2.09</td>\n",
       "      <td>0.17</td>\n",
       "      <td>0.0</td>\n",
       "      <td>0</td>\n",
       "      <td>0</td>\n",
       "      <td>0.680000</td>\n",
       "      <td>2.09</td>\n",
       "      <td>1.69</td>\n",
       "      <td>0.40</td>\n",
       "      <td>No</td>\n",
       "      <td>0.000000</td>\n",
       "      <td>0.091398</td>\n",
       "      <td>0.23</td>\n",
       "      <td>1</td>\n",
       "    </tr>\n",
       "    <tr>\n",
       "      <th>3</th>\n",
       "      <td>MM</td>\n",
       "      <td>227</td>\n",
       "      <td>1</td>\n",
       "      <td>1.69</td>\n",
       "      <td>1.69</td>\n",
       "      <td>0.00</td>\n",
       "      <td>0.0</td>\n",
       "      <td>0</td>\n",
       "      <td>0</td>\n",
       "      <td>0.400000</td>\n",
       "      <td>1.69</td>\n",
       "      <td>1.69</td>\n",
       "      <td>0.00</td>\n",
       "      <td>No</td>\n",
       "      <td>0.000000</td>\n",
       "      <td>0.000000</td>\n",
       "      <td>0.00</td>\n",
       "      <td>1</td>\n",
       "    </tr>\n",
       "    <tr>\n",
       "      <th>4</th>\n",
       "      <td>CH</td>\n",
       "      <td>228</td>\n",
       "      <td>7</td>\n",
       "      <td>1.69</td>\n",
       "      <td>1.69</td>\n",
       "      <td>0.00</td>\n",
       "      <td>0.0</td>\n",
       "      <td>0</td>\n",
       "      <td>0</td>\n",
       "      <td>0.956535</td>\n",
       "      <td>1.69</td>\n",
       "      <td>1.69</td>\n",
       "      <td>0.00</td>\n",
       "      <td>Yes</td>\n",
       "      <td>0.000000</td>\n",
       "      <td>0.000000</td>\n",
       "      <td>0.00</td>\n",
       "      <td>0</td>\n",
       "    </tr>\n",
       "  </tbody>\n",
       "</table>\n",
       "</div>"
      ],
      "text/plain": [
       "  Purchase  WeekofPurchase  StoreID  PriceCH  PriceMM  DiscCH  DiscMM  \\\n",
       "0       CH             237        1     1.75     1.99    0.00     0.0   \n",
       "1       CH             239        1     1.75     1.99    0.00     0.3   \n",
       "2       CH             245        1     1.86     2.09    0.17     0.0   \n",
       "3       MM             227        1     1.69     1.69    0.00     0.0   \n",
       "4       CH             228        7     1.69     1.69    0.00     0.0   \n",
       "\n",
       "   SpecialCH  SpecialMM   LoyalCH  SalePriceMM  SalePriceCH  PriceDiff Store7  \\\n",
       "0          0          0  0.500000         1.99         1.75       0.24     No   \n",
       "1          0          1  0.600000         1.69         1.75      -0.06     No   \n",
       "2          0          0  0.680000         2.09         1.69       0.40     No   \n",
       "3          0          0  0.400000         1.69         1.69       0.00     No   \n",
       "4          0          0  0.956535         1.69         1.69       0.00    Yes   \n",
       "\n",
       "   PctDiscMM  PctDiscCH  ListPriceDiff  STORE  \n",
       "0   0.000000   0.000000           0.24      1  \n",
       "1   0.150754   0.000000           0.24      1  \n",
       "2   0.000000   0.091398           0.23      1  \n",
       "3   0.000000   0.000000           0.00      1  \n",
       "4   0.000000   0.000000           0.00      0  "
      ]
     },
     "execution_count": 32,
     "metadata": {},
     "output_type": "execute_result"
    }
   ],
   "source": [
    "# Importamos el set de datos OJ desde un CSV\n",
    "datos_oj = pd.read_csv('OJ.csv')\n",
    "print('Filas:', datos_oj.shape[0], 'Variables:', datos_oj.shape[1])\n",
    "datos_oj.head()"
   ]
  },
  {
   "cell_type": "markdown",
   "metadata": {},
   "source": [
    "###  Estadísticos"
   ]
  },
  {
   "cell_type": "code",
   "execution_count": 33,
   "metadata": {},
   "outputs": [
    {
     "data": {
      "text/html": [
       "<div>\n",
       "<style scoped>\n",
       "    .dataframe tbody tr th:only-of-type {\n",
       "        vertical-align: middle;\n",
       "    }\n",
       "\n",
       "    .dataframe tbody tr th {\n",
       "        vertical-align: top;\n",
       "    }\n",
       "\n",
       "    .dataframe thead th {\n",
       "        text-align: right;\n",
       "    }\n",
       "</style>\n",
       "<table border=\"1\" class=\"dataframe\">\n",
       "  <thead>\n",
       "    <tr style=\"text-align: right;\">\n",
       "      <th></th>\n",
       "      <th>WeekofPurchase</th>\n",
       "      <th>StoreID</th>\n",
       "      <th>PriceCH</th>\n",
       "      <th>PriceMM</th>\n",
       "      <th>DiscCH</th>\n",
       "      <th>DiscMM</th>\n",
       "      <th>SpecialCH</th>\n",
       "      <th>SpecialMM</th>\n",
       "      <th>LoyalCH</th>\n",
       "      <th>SalePriceMM</th>\n",
       "      <th>SalePriceCH</th>\n",
       "      <th>PriceDiff</th>\n",
       "      <th>PctDiscMM</th>\n",
       "      <th>PctDiscCH</th>\n",
       "      <th>ListPriceDiff</th>\n",
       "      <th>STORE</th>\n",
       "    </tr>\n",
       "  </thead>\n",
       "  <tbody>\n",
       "    <tr>\n",
       "      <th>count</th>\n",
       "      <td>1070.000000</td>\n",
       "      <td>1070.000000</td>\n",
       "      <td>1070.000000</td>\n",
       "      <td>1070.000000</td>\n",
       "      <td>1070.000000</td>\n",
       "      <td>1070.000000</td>\n",
       "      <td>1070.000000</td>\n",
       "      <td>1070.000000</td>\n",
       "      <td>1070.000000</td>\n",
       "      <td>1070.000000</td>\n",
       "      <td>1070.000000</td>\n",
       "      <td>1070.000000</td>\n",
       "      <td>1070.000000</td>\n",
       "      <td>1070.000000</td>\n",
       "      <td>1070.000000</td>\n",
       "      <td>1070.000000</td>\n",
       "    </tr>\n",
       "    <tr>\n",
       "      <th>mean</th>\n",
       "      <td>254.381308</td>\n",
       "      <td>3.959813</td>\n",
       "      <td>1.867421</td>\n",
       "      <td>2.085411</td>\n",
       "      <td>0.051860</td>\n",
       "      <td>0.123364</td>\n",
       "      <td>0.147664</td>\n",
       "      <td>0.161682</td>\n",
       "      <td>0.565782</td>\n",
       "      <td>1.962047</td>\n",
       "      <td>1.815561</td>\n",
       "      <td>0.146486</td>\n",
       "      <td>0.059298</td>\n",
       "      <td>0.027314</td>\n",
       "      <td>0.217991</td>\n",
       "      <td>1.630841</td>\n",
       "    </tr>\n",
       "    <tr>\n",
       "      <th>std</th>\n",
       "      <td>15.558286</td>\n",
       "      <td>2.308984</td>\n",
       "      <td>0.101970</td>\n",
       "      <td>0.134386</td>\n",
       "      <td>0.117474</td>\n",
       "      <td>0.213834</td>\n",
       "      <td>0.354932</td>\n",
       "      <td>0.368331</td>\n",
       "      <td>0.307843</td>\n",
       "      <td>0.252697</td>\n",
       "      <td>0.143384</td>\n",
       "      <td>0.271563</td>\n",
       "      <td>0.101760</td>\n",
       "      <td>0.062232</td>\n",
       "      <td>0.107535</td>\n",
       "      <td>1.430387</td>\n",
       "    </tr>\n",
       "    <tr>\n",
       "      <th>min</th>\n",
       "      <td>227.000000</td>\n",
       "      <td>1.000000</td>\n",
       "      <td>1.690000</td>\n",
       "      <td>1.690000</td>\n",
       "      <td>0.000000</td>\n",
       "      <td>0.000000</td>\n",
       "      <td>0.000000</td>\n",
       "      <td>0.000000</td>\n",
       "      <td>0.000011</td>\n",
       "      <td>1.190000</td>\n",
       "      <td>1.390000</td>\n",
       "      <td>-0.670000</td>\n",
       "      <td>0.000000</td>\n",
       "      <td>0.000000</td>\n",
       "      <td>0.000000</td>\n",
       "      <td>0.000000</td>\n",
       "    </tr>\n",
       "    <tr>\n",
       "      <th>25%</th>\n",
       "      <td>240.000000</td>\n",
       "      <td>2.000000</td>\n",
       "      <td>1.790000</td>\n",
       "      <td>1.990000</td>\n",
       "      <td>0.000000</td>\n",
       "      <td>0.000000</td>\n",
       "      <td>0.000000</td>\n",
       "      <td>0.000000</td>\n",
       "      <td>0.325257</td>\n",
       "      <td>1.690000</td>\n",
       "      <td>1.750000</td>\n",
       "      <td>0.000000</td>\n",
       "      <td>0.000000</td>\n",
       "      <td>0.000000</td>\n",
       "      <td>0.140000</td>\n",
       "      <td>0.000000</td>\n",
       "    </tr>\n",
       "    <tr>\n",
       "      <th>50%</th>\n",
       "      <td>257.000000</td>\n",
       "      <td>3.000000</td>\n",
       "      <td>1.860000</td>\n",
       "      <td>2.090000</td>\n",
       "      <td>0.000000</td>\n",
       "      <td>0.000000</td>\n",
       "      <td>0.000000</td>\n",
       "      <td>0.000000</td>\n",
       "      <td>0.600000</td>\n",
       "      <td>2.090000</td>\n",
       "      <td>1.860000</td>\n",
       "      <td>0.230000</td>\n",
       "      <td>0.000000</td>\n",
       "      <td>0.000000</td>\n",
       "      <td>0.240000</td>\n",
       "      <td>2.000000</td>\n",
       "    </tr>\n",
       "    <tr>\n",
       "      <th>75%</th>\n",
       "      <td>268.000000</td>\n",
       "      <td>7.000000</td>\n",
       "      <td>1.990000</td>\n",
       "      <td>2.180000</td>\n",
       "      <td>0.000000</td>\n",
       "      <td>0.230000</td>\n",
       "      <td>0.000000</td>\n",
       "      <td>0.000000</td>\n",
       "      <td>0.850873</td>\n",
       "      <td>2.130000</td>\n",
       "      <td>1.890000</td>\n",
       "      <td>0.320000</td>\n",
       "      <td>0.112676</td>\n",
       "      <td>0.000000</td>\n",
       "      <td>0.300000</td>\n",
       "      <td>3.000000</td>\n",
       "    </tr>\n",
       "    <tr>\n",
       "      <th>max</th>\n",
       "      <td>278.000000</td>\n",
       "      <td>7.000000</td>\n",
       "      <td>2.090000</td>\n",
       "      <td>2.290000</td>\n",
       "      <td>0.500000</td>\n",
       "      <td>0.800000</td>\n",
       "      <td>1.000000</td>\n",
       "      <td>1.000000</td>\n",
       "      <td>0.999947</td>\n",
       "      <td>2.290000</td>\n",
       "      <td>2.090000</td>\n",
       "      <td>0.640000</td>\n",
       "      <td>0.402010</td>\n",
       "      <td>0.252688</td>\n",
       "      <td>0.440000</td>\n",
       "      <td>4.000000</td>\n",
       "    </tr>\n",
       "  </tbody>\n",
       "</table>\n",
       "</div>"
      ],
      "text/plain": [
       "       WeekofPurchase      StoreID      PriceCH      PriceMM       DiscCH  \\\n",
       "count     1070.000000  1070.000000  1070.000000  1070.000000  1070.000000   \n",
       "mean       254.381308     3.959813     1.867421     2.085411     0.051860   \n",
       "std         15.558286     2.308984     0.101970     0.134386     0.117474   \n",
       "min        227.000000     1.000000     1.690000     1.690000     0.000000   \n",
       "25%        240.000000     2.000000     1.790000     1.990000     0.000000   \n",
       "50%        257.000000     3.000000     1.860000     2.090000     0.000000   \n",
       "75%        268.000000     7.000000     1.990000     2.180000     0.000000   \n",
       "max        278.000000     7.000000     2.090000     2.290000     0.500000   \n",
       "\n",
       "            DiscMM    SpecialCH    SpecialMM      LoyalCH  SalePriceMM  \\\n",
       "count  1070.000000  1070.000000  1070.000000  1070.000000  1070.000000   \n",
       "mean      0.123364     0.147664     0.161682     0.565782     1.962047   \n",
       "std       0.213834     0.354932     0.368331     0.307843     0.252697   \n",
       "min       0.000000     0.000000     0.000000     0.000011     1.190000   \n",
       "25%       0.000000     0.000000     0.000000     0.325257     1.690000   \n",
       "50%       0.000000     0.000000     0.000000     0.600000     2.090000   \n",
       "75%       0.230000     0.000000     0.000000     0.850873     2.130000   \n",
       "max       0.800000     1.000000     1.000000     0.999947     2.290000   \n",
       "\n",
       "       SalePriceCH    PriceDiff    PctDiscMM    PctDiscCH  ListPriceDiff  \\\n",
       "count  1070.000000  1070.000000  1070.000000  1070.000000    1070.000000   \n",
       "mean      1.815561     0.146486     0.059298     0.027314       0.217991   \n",
       "std       0.143384     0.271563     0.101760     0.062232       0.107535   \n",
       "min       1.390000    -0.670000     0.000000     0.000000       0.000000   \n",
       "25%       1.750000     0.000000     0.000000     0.000000       0.140000   \n",
       "50%       1.860000     0.230000     0.000000     0.000000       0.240000   \n",
       "75%       1.890000     0.320000     0.112676     0.000000       0.300000   \n",
       "max       2.090000     0.640000     0.402010     0.252688       0.440000   \n",
       "\n",
       "             STORE  \n",
       "count  1070.000000  \n",
       "mean      1.630841  \n",
       "std       1.430387  \n",
       "min       0.000000  \n",
       "25%       0.000000  \n",
       "50%       2.000000  \n",
       "75%       3.000000  \n",
       "max       4.000000  "
      ]
     },
     "execution_count": 33,
     "metadata": {},
     "output_type": "execute_result"
    }
   ],
   "source": [
    "datos_oj.describe()"
   ]
  },
  {
   "cell_type": "markdown",
   "metadata": {},
   "source": [
    "### Distribución de la variable respuesta \"Purchase\""
   ]
  },
  {
   "cell_type": "code",
   "execution_count": 34,
   "metadata": {
    "scrolled": true
   },
   "outputs": [
    {
     "data": {
      "text/plain": [
       "<matplotlib.axes._subplots.AxesSubplot at 0xbac4128>"
      ]
     },
     "execution_count": 34,
     "metadata": {},
     "output_type": "execute_result"
    },
    {
     "data": {
      "image/png": "[encoded data removed]",
      "text/plain": [
       "<Figure size 432x288 with 1 Axes>"
      ]
     },
     "metadata": {},
     "output_type": "display_data"
    }
   ],
   "source": [
    "datos_oj['Purchase'].value_counts().plot(kind='bar')"
   ]
  },
  {
   "cell_type": "code",
   "execution_count": 35,
   "metadata": {},
   "outputs": [
    {
     "name": "stdout",
     "output_type": "stream",
     "text": [
      "CH    653\n",
      "MM    417\n",
      "Name: Purchase, dtype: int64\n"
     ]
    },
    {
     "data": {
      "text/plain": [
       "CH    61.028037\n",
       "MM    38.971963\n",
       "Name: Purchase, dtype: float64"
      ]
     },
     "execution_count": 35,
     "metadata": {},
     "output_type": "execute_result"
    }
   ],
   "source": [
    "# Numero y porcentaje de observaciones por clase\n",
    "print(datos_oj.Purchase.value_counts())\n",
    "datos_oj.Purchase.value_counts(normalize=True)*100"
   ]
  },
  {
   "cell_type": "markdown",
   "metadata": {},
   "source": [
    "## División entrenamiento-test"
   ]
  },
  {
   "cell_type": "code",
   "execution_count": 36,
   "metadata": {},
   "outputs": [],
   "source": [
    "# Separamos los predictores (X) de la variable respuesta (y)\n",
    "X = datos_oj.loc[:, datos_oj.columns != 'Purchase']\n",
    "y = datos_oj['Purchase']\n",
    "\n",
    "# Dividimos los datos en entrenamiento (80%) y test (20%) de forma aleatoria\n",
    "X_train, X_test, y_train, y_test = model_selection.train_test_split(X, y, random_state=0, test_size=0.2)"
   ]
  },
  {
   "cell_type": "markdown",
   "metadata": {},
   "source": [
    "## **Árbol de clasificación simple**\n",
    "\n",
    "https://scikit-learn.org/stable/modules/generated/sklearn.tree.DecisionTreeClassifier.html"
   ]
  },
  {
   "cell_type": "markdown",
   "metadata": {},
   "source": [
    "Para ajustar un árbol simple regresor, implementaremos la clase `tree.DecisionClassifier` de la librería `sklearn`. Utilizaremos como criterio para medir la calidad de la división de los nodos el _Accuracy_. Métricas disponibles para clasificación: https://scikit-learn.org/stable/modules/model_evaluation.html"
   ]
  },
  {
   "cell_type": "code",
   "execution_count": 37,
   "metadata": {},
   "outputs": [],
   "source": [
    "# Es necesario codificar la variable categorica predictora \"Store7\" y respuesta \"Purchase\" a numerica\n",
    "encoder = preprocessing.LabelEncoder()\n",
    "X_train['Store7'] = encoder.fit_transform(X_train['Store7'])\n",
    "X_test['Store7'] = encoder.fit_transform(X_test['Store7'])\n",
    "\n",
    "y_train = y_train.map({'CH': 0, 'MM': 1})\n",
    "y_test = y_test.map({'CH': 0, 'MM': 1})"
   ]
  },
  {
   "cell_type": "markdown",
   "metadata": {},
   "source": [
    "### Búsqueda de hiperparámetros y ajuste"
   ]
  },
  {
   "cell_type": "markdown",
   "metadata": {},
   "source": [
    "La función `DecisionTreeClassifier` ofrece un parámetro para la post-poda del árbol para equilibrar la precisión con su tamaño: `ccp_alpha` (_cost complexity_ o poda por coste-complejidad). La complejidad viene dada por el número de nodos terminales. Alpha indica el parámetro de complejidad (**alpha ≥ 0**). Valores mayores de este parámetro aumentan el número de nodos podados. "
   ]
  },
  {
   "cell_type": "code",
   "execution_count": 38,
   "metadata": {},
   "outputs": [
    {
     "name": "stdout",
     "output_type": "stream",
     "text": [
      "Combinación de hiperparámetros óptima:\n",
      "\n"
     ]
    },
    {
     "data": {
      "text/plain": [
       "{'ccp_alpha': 0.001,\n",
       " 'criterion': 'gini',\n",
       " 'max_depth': 3,\n",
       " 'max_features': 4,\n",
       " 'min_samples_split': 10}"
      ]
     },
     "execution_count": 38,
     "metadata": {},
     "output_type": "execute_result"
    }
   ],
   "source": [
    "from sklearn.tree import DecisionTreeClassifier\n",
    "\n",
    "# Establecemos un grid con las combinaciones de valores que queremos evaluar. Combinaciones resultantes=2*3*5*3*3=270\n",
    "grid_hiperparametros = {'criterion': ['gini', 'entropy'], #funcion para medir la calidad de las divisiones\n",
    "                        'max_features': [3, 4, 5], #nº de variables a tener en cuenta para las divisiones \n",
    "                        'min_samples_split': [10, 20, 30, 40, 50], #nº minimo de observaciones para dividir nodo\n",
    "                        'max_depth': [3, 4, 5], # profundidad maxima (pre-poda)\n",
    "                        'ccp_alpha': [0.001, 0.002, 0.003]} \n",
    "\n",
    "# Definimos la busqueda mediante 10-fold CV\n",
    "metricas = {'AUC': 'roc_auc', 'Accuracy': make_scorer(accuracy_score)}\n",
    "\n",
    "busqueda_grid = GridSearchCV(estimator = DecisionTreeClassifier(random_state = 0), #tipo de modelo\n",
    "                             param_grid = grid_hiperparametros, \n",
    "                             cv = 10, #folds\n",
    "                             scoring = metricas, \n",
    "                             refit='Accuracy',\n",
    "                             #return_train_score = True,\n",
    "                             n_jobs = -1)\n",
    "\n",
    "\n",
    "# Aplicamos la busqueda\n",
    "busqueda_grid.fit(X_train, y_train)\n",
    "\n",
    "# Combinación óptima de hiperparámetros en validación cruzada\n",
    "print('Combinación de hiperparámetros óptima:') \n",
    "busqueda_grid.best_params_"
   ]
  },
  {
   "cell_type": "code",
   "execution_count": 39,
   "metadata": {},
   "outputs": [
    {
     "data": {
      "text/plain": [
       "DecisionTreeClassifier(ccp_alpha=0.001, class_weight=None, criterion='gini',\n",
       "                       max_depth=3, max_features=4, max_leaf_nodes=None,\n",
       "                       min_impurity_decrease=0.0, min_impurity_split=None,\n",
       "                       min_samples_leaf=1, min_samples_split=10,\n",
       "                       min_weight_fraction_leaf=0.0, presort='deprecated',\n",
       "                       random_state=0, splitter='best')"
      ]
     },
     "execution_count": 39,
     "metadata": {},
     "output_type": "execute_result"
    }
   ],
   "source": [
    "# Ajustamos el modelo usando los hiperparametros optimos obtenidos\n",
    "modelo_arbolC = DecisionTreeClassifier(criterion = 'gini', \n",
    "                                       max_features = 4,\n",
    "                                       min_samples_split = 10, #nº minimo de observaciones para dividir nodo\n",
    "                                       max_depth = 3, #profundidad maxima\n",
    "                                       ccp_alpha = 0.001,\n",
    "                                       random_state = 0) #semilla\n",
    "# Entrenamos el modelo con los datos de entrenamiento \n",
    "modelo_arbolC.fit(X_train, y_train)"
   ]
  },
  {
   "cell_type": "markdown",
   "metadata": {},
   "source": [
    "### Evaluación"
   ]
  },
  {
   "cell_type": "code",
   "execution_count": 40,
   "metadata": {},
   "outputs": [],
   "source": [
    "# Obtenemos las predicciones del modelo sobre los datos de test\n",
    "y_pred = modelo_arbolC.predict(X_test)"
   ]
  },
  {
   "cell_type": "code",
   "execution_count": 41,
   "metadata": {},
   "outputs": [
    {
     "name": "stdout",
     "output_type": "stream",
     "text": [
      "Métricas en validación cruzada: \n",
      "Accuracy medio +- std = 0.739 +- 0.046 \n",
      "ROC AUC = 0.844\n"
     ]
    }
   ],
   "source": [
    "# VALIDACION CRUZADA 10-fold\n",
    "\n",
    "# Calculo del error MSE en validacion usando CV\n",
    "accuracy_medio_cv = busqueda_grid.cv_results_['mean_test_Accuracy'].mean()\n",
    "accuracy_std_cv = busqueda_grid.cv_results_['std_test_Accuracy'].mean()\n",
    "\n",
    "auc_cv = cross_val_score(estimator = modelo_arbolC, \n",
    "                         X = X_train, \n",
    "                         y = y_train, \n",
    "                         cv = 10, \n",
    "                         scoring = 'roc_auc')\n",
    "\n",
    "print('Métricas en validación cruzada:',\n",
    "      '\\nAccuracy medio +- std =', round(accuracy_medio_cv, 3), '+-', round(accuracy_std_cv, 3),\n",
    "      '\\nROC AUC =', round(auc_cv.mean(), 3))"
   ]
  },
  {
   "cell_type": "code",
   "execution_count": 42,
   "metadata": {},
   "outputs": [
    {
     "name": "stdout",
     "output_type": "stream",
     "text": [
      "Métricas en test:\n",
      "               precision    recall  f1-score   support\n",
      "\n",
      "           0       0.88      0.75      0.81       122\n",
      "           1       0.72      0.87      0.79        92\n",
      "\n",
      "    accuracy                           0.80       214\n",
      "   macro avg       0.80      0.81      0.80       214\n",
      "weighted avg       0.81      0.80      0.80       214\n",
      " \n",
      "ROC AUC = 0.808\n"
     ]
    },
    {
     "data": {
      "text/plain": [
       "<sklearn.metrics._plot.confusion_matrix.ConfusionMatrixDisplay at 0xb580eb8>"
      ]
     },
     "execution_count": 42,
     "metadata": {},
     "output_type": "execute_result"
    },
    {
     "data": {
      "image/png": "[encoded data removed]",
      "text/plain": [
       "<Figure size 432x288 with 2 Axes>"
      ]
     },
     "metadata": {},
     "output_type": "display_data"
    }
   ],
   "source": [
    "# TEST\n",
    "\n",
    "# Metricas\n",
    "print('Métricas en test:\\n',\n",
    "      classification_report(y_test, y_pred),\n",
    "      '\\nROC AUC =', round(roc_auc_score(y_test, y_pred), 3))\n",
    "\n",
    "# Matriz de confusion (0=CH, 1=MM)\n",
    "plot_confusion_matrix(modelo_arbolC, X_test, y_test, display_labels = y.unique().tolist())"
   ]
  },
  {
   "cell_type": "markdown",
   "metadata": {},
   "source": [
    "### Visualización"
   ]
  },
  {
   "cell_type": "code",
   "execution_count": 43,
   "metadata": {},
   "outputs": [],
   "source": [
    "# Exportamos el arbol a archivo .dot\n",
    "nombre_variables = X_train.columns.get_values().tolist()\n",
    "export_graphviz(modelo_arbolC, out_file=\"treeC.dot\", filled=True, feature_names=nombre_variables, rounded=True) "
   ]
  },
  {
   "cell_type": "markdown",
   "metadata": {},
   "source": [
    "El árbol resultante sería el siguiente (obtenido convirtiendo el árbol exportado en formato .dot a .png):"
   ]
  },
  {
   "attachments": {
    "treeC.png": {
     "image/png": "[encoded data removed]"
    }
   },
   "cell_type": "markdown",
   "metadata": {},
   "source": [
    "![treeC.png](attachment:treeC.png)"
   ]
  },
  {
   "cell_type": "markdown",
   "metadata": {},
   "source": [
    "## **AdaBoost**\n",
    "\n",
    "https://scikit-learn.org/stable/modules/generated/sklearn.ensemble.AdaBoostClassifier.html\n",
    "\n",
    "_También aplicable a regresión con AdaBoostRegressor_:\n",
    "https://scikit-learn.org/stable/modules/generated/sklearn.ensemble.AdaBoostRegressor.html"
   ]
  },
  {
   "cell_type": "markdown",
   "metadata": {},
   "source": [
    "### Búsqueda de hiperparámetros y ajuste"
   ]
  },
  {
   "cell_type": "code",
   "execution_count": 44,
   "metadata": {},
   "outputs": [
    {
     "name": "stdout",
     "output_type": "stream",
     "text": [
      "Combinación de hiperparámetros óptima:\n",
      "\n"
     ]
    },
    {
     "data": {
      "text/plain": [
       "{'algorithm': 'SAMME.R',\n",
       " 'base_estimator': None,\n",
       " 'learning_rate': 1,\n",
       " 'n_estimators': 40}"
      ]
     },
     "execution_count": 44,
     "metadata": {},
     "output_type": "execute_result"
    }
   ],
   "source": [
    "from sklearn.ensemble import AdaBoostClassifier\n",
    "\n",
    "# Establecemos un grid con las combinaciones de valores que queremos evaluar. Combinaciones resultantes=4*4=16\n",
    "grid_hiperparametros = {'base_estimator': [None], #weak learner para entrenar el modelo (None=DecisionTreeClassifier)\n",
    "                        'n_estimators': [40, 50, 60, 70], #nº de weak learners para entrenar iterativamente \n",
    "                        'learning_rate': [0.8, 0.9, 1, 1.1], #valor por el que se reduce la contribucion de cada weak learner\n",
    "                        'algorithm': ['SAMME.R']} \n",
    "\n",
    "# Definimos la busqueda mediante 10-fold CV\n",
    "metricas = {'Accuracy': make_scorer(accuracy_score)}\n",
    "\n",
    "busqueda_grid = GridSearchCV(estimator = AdaBoostClassifier(random_state = 0), #tipo de modelo\n",
    "                             param_grid = grid_hiperparametros, \n",
    "                             cv = 10, #folds\n",
    "                             scoring = metricas, \n",
    "                             refit='Accuracy',\n",
    "                             #return_train_score = True,\n",
    "                             n_jobs = -1)\n",
    "\n",
    "\n",
    "# Aplicamos la busqueda\n",
    "busqueda_grid.fit(X_train, y_train)\n",
    "\n",
    "# Combinación óptima de hiperparámetros en validacion cruzada\n",
    "print('Combinación de hiperparámetros óptima:') \n",
    "busqueda_grid.best_params_"
   ]
  },
  {
   "cell_type": "code",
   "execution_count": 45,
   "metadata": {},
   "outputs": [
    {
     "data": {
      "text/plain": [
       "AdaBoostClassifier(algorithm='SAMME.R', base_estimator=None, learning_rate=1,\n",
       "                   n_estimators=40, random_state=None)"
      ]
     },
     "execution_count": 45,
     "metadata": {},
     "output_type": "execute_result"
    }
   ],
   "source": [
    "# Ajustamos el modelo usando los hiperparametros optimos obtenidos\n",
    "modelo_adaboost = AdaBoostClassifier(base_estimator = None,\n",
    "                                     algorithm = 'SAMME.R',\n",
    "                                     learning_rate = 1,\n",
    "                                     n_estimators = 40)\n",
    "# Entrenamos el modelo con los datos de entrenamiento \n",
    "modelo_adaboost.fit(X_train, y_train)"
   ]
  },
  {
   "cell_type": "markdown",
   "metadata": {},
   "source": [
    "### Evaluación"
   ]
  },
  {
   "cell_type": "code",
   "execution_count": 46,
   "metadata": {},
   "outputs": [],
   "source": [
    "# Obtenemos las predicciones del modelo sobre los datos de test\n",
    "y_pred = modelo_adaboost.predict(X_test)"
   ]
  },
  {
   "cell_type": "code",
   "execution_count": 47,
   "metadata": {},
   "outputs": [
    {
     "name": "stdout",
     "output_type": "stream",
     "text": [
      "Métricas en validación cruzada: \n",
      "Accuracy medio +- std = 0.813 +- 0.031 \n",
      "ROC AUC = 0.888\n"
     ]
    }
   ],
   "source": [
    "# VALIDACION CRUZADA 10-fold\n",
    "\n",
    "# Calculo del error MSE en validacion usando CV\n",
    "accuracy_medio_cv = busqueda_grid.cv_results_['mean_test_Accuracy'].mean()\n",
    "accuracy_std_cv = busqueda_grid.cv_results_['std_test_Accuracy'].mean()\n",
    "\n",
    "# AUC\n",
    "auc_cv = cross_val_score(estimator = modelo_adaboost, \n",
    "                         X = X_train, \n",
    "                         y = y_train, \n",
    "                         cv = 10, \n",
    "                         scoring = 'roc_auc')\n",
    "\n",
    "print('Métricas en validación cruzada:',\n",
    "      '\\nAccuracy medio +- std =', round(accuracy_medio_cv, 3), '+-', round(accuracy_std_cv, 3),\n",
    "      '\\nROC AUC =', round(auc_cv.mean(), 3))"
   ]
  },
  {
   "cell_type": "code",
   "execution_count": 48,
   "metadata": {},
   "outputs": [
    {
     "name": "stdout",
     "output_type": "stream",
     "text": [
      "Métricas en test:\n",
      "               precision    recall  f1-score   support\n",
      "\n",
      "           0       0.83      0.84      0.83       122\n",
      "           1       0.78      0.77      0.78        92\n",
      "\n",
      "    accuracy                           0.81       214\n",
      "   macro avg       0.80      0.80      0.80       214\n",
      "weighted avg       0.81      0.81      0.81       214\n",
      " \n",
      "ROC AUC = 0.804\n"
     ]
    },
    {
     "data": {
      "text/plain": [
       "<sklearn.metrics._plot.confusion_matrix.ConfusionMatrixDisplay at 0xb8ddb38>"
      ]
     },
     "execution_count": 48,
     "metadata": {},
     "output_type": "execute_result"
    },
    {
     "data": {
      "image/png": "[encoded data removed]",
      "text/plain": [
       "<Figure size 432x288 with 2 Axes>"
      ]
     },
     "metadata": {},
     "output_type": "display_data"
    }
   ],
   "source": [
    "# TEST\n",
    "\n",
    "# Metricas\n",
    "print('Métricas en test:\\n',\n",
    "      classification_report(y_test, y_pred),\n",
    "      '\\nROC AUC =', round(roc_auc_score(y_test, y_pred), 3))\n",
    "\n",
    "# Matriz de confusion (0=CH, 1=MM)\n",
    "plot_confusion_matrix(modelo_adaboost, X_test, y_test, display_labels = y.unique().tolist())"
   ]
  },
  {
   "cell_type": "markdown",
   "metadata": {},
   "source": [
    "### Importancia variables"
   ]
  },
  {
   "cell_type": "code",
   "execution_count": 49,
   "metadata": {},
   "outputs": [
    {
     "data": {
      "image/png": "[encoded data removed]",
      "text/plain": [
       "<Figure size 432x288 with 1 Axes>"
      ]
     },
     "metadata": {},
     "output_type": "display_data"
    }
   ],
   "source": [
    "# Recuperamos los valores de importancia del modelo ajustado\n",
    "importancias = modelo_adaboost.feature_importances_\n",
    "# Ordenamos los valores de importancia en orden descendiente\n",
    "indices = np.argsort(importancias)\n",
    "\n",
    "plt.title('Importancia variables')\n",
    "plt.barh(range(len(indices)), importancias[indices], color='b', align='center')\n",
    "plt.yticks(range(len(indices)), [X.columns[i] for i in indices])\n",
    "plt.xlabel('Importancia relativa')\n",
    "plt.show()"
   ]
  },
  {
   "cell_type": "markdown",
   "metadata": {},
   "source": [
    "## **XGBoost**\n",
    "\n",
    "https://xgboost.readthedocs.io/en/latest/index.html\n",
    "\n",
    "_También aplicable a regresión con XGBRegressor_"
   ]
  },
  {
   "cell_type": "markdown",
   "metadata": {},
   "source": [
    "### Búsqueda de hiperparámetros y ajuste"
   ]
  },
  {
   "cell_type": "code",
   "execution_count": 50,
   "metadata": {},
   "outputs": [
    {
     "name": "stdout",
     "output_type": "stream",
     "text": [
      "Combinación de hiperparámetros óptima:\n"
     ]
    },
    {
     "data": {
      "text/plain": [
       "{'colsample_bytree': 0.7,\n",
       " 'gamma': 0.1,\n",
       " 'learning_rate': 0.01,\n",
       " 'max_depth': 4,\n",
       " 'n_estimators': 50,\n",
       " 'subsample': 0.9}"
      ]
     },
     "execution_count": 50,
     "metadata": {},
     "output_type": "execute_result"
    }
   ],
   "source": [
    "import xgboost\n",
    "from xgboost import XGBClassifier\n",
    "\n",
    "# Establecemos un grid con las combinaciones de valores que queremos evaluar. Combinaciones resultantes=3^2*2^4=144\n",
    "grid_hiperparametros = {'colsample_bytree': [0.3, 0.7, 1], #ratio de columnas de la submuestra para cada arbol\n",
    "                        'gamma': [0.1, 0.3], #Reducción de pérdida mínima requerida para hacer una partición adicional en un nodo hoja [0,+inf]\n",
    "                        'learning_rate': [0.01, 0.1], #reduce la contribucion de cada arbol por este valor   \n",
    "                        'max_depth': [3, 4, 5], #profundidad maxima del arbol\n",
    "                        'n_estimators': [50, 60], \n",
    "                        'subsample': [0.9, 1]} #ratio de observaciones de entrenamiento en la submuestra (0,1] \n",
    "\n",
    "# Definimos la busqueda mediante 10-fold CV\n",
    "metricas = {'Accuracy': make_scorer(accuracy_score)}\n",
    "\n",
    "busqueda_grid = GridSearchCV(estimator = XGBClassifier(random_state = 0), #tipo de modelo\n",
    "                             param_grid = grid_hiperparametros, \n",
    "                             cv = 10, #folds\n",
    "                             scoring = metricas, #metrica a optimizar\n",
    "                             refit='Accuracy',\n",
    "                             #return_train_score = True,\n",
    "                             n_jobs = -1)\n",
    "\n",
    "\n",
    "# Aplicamos la busqueda\n",
    "busqueda_grid.fit(X_train, y_train)\n",
    "\n",
    "# Combinación óptima de hiperparámetros en validacion cruzada\n",
    "print('Combinación de hiperparámetros óptima:') \n",
    "busqueda_grid.best_params_"
   ]
  },
  {
   "cell_type": "code",
   "execution_count": 51,
   "metadata": {},
   "outputs": [
    {
     "data": {
      "text/plain": [
       "XGBClassifier(base_score=0.5, booster=None, colsample_bylevel=1,\n",
       "              colsample_bynode=1, colsample_bytree=0.7, gamma=0.1, gpu_id=-1,\n",
       "              importance_type='gain', interaction_constraints=None,\n",
       "              learning_rate=0.01, max_delta_step=0, max_depth=4,\n",
       "              min_child_weight=1, missing=nan, monotone_constraints=None,\n",
       "              n_estimators=50, n_jobs=0, num_parallel_tree=1,\n",
       "              objective='binary:logistic', random_state=0, reg_alpha=0,\n",
       "              reg_lambda=1, scale_pos_weight=1, subsample=0.9, tree_method=None,\n",
       "              validate_parameters=False, verbosity=None)"
      ]
     },
     "execution_count": 51,
     "metadata": {},
     "output_type": "execute_result"
    }
   ],
   "source": [
    "# Ajustamos el modelo usando los hiperparametros optimos obtenidos\n",
    "modelo_xgboost = XGBClassifier(colsample_bytree = 0.7,\n",
    "                               gamma = 0.1,\n",
    "                               learning_rate = 0.01,\n",
    "                               max_depth = 4,\n",
    "                               n_estimators = 50,\n",
    "                               subsample = 0.9)\n",
    "# Entrenamos el modelo con los datos de entrenamiento \n",
    "modelo_xgboost.fit(X_train, y_train)"
   ]
  },
  {
   "cell_type": "markdown",
   "metadata": {},
   "source": [
    "### Evaluación"
   ]
  },
  {
   "cell_type": "code",
   "execution_count": 52,
   "metadata": {},
   "outputs": [],
   "source": [
    "# Obtenemos las predicciones del modelo sobre los datos de test\n",
    "y_pred = modelo_xgboost.predict(X_test)"
   ]
  },
  {
   "cell_type": "code",
   "execution_count": 53,
   "metadata": {},
   "outputs": [
    {
     "name": "stdout",
     "output_type": "stream",
     "text": [
      "Métricas en validación cruzada: \n",
      "Accuracy medio +- std = 0.813 +- 0.041 \n",
      "ROC AUC = 0.898\n"
     ]
    }
   ],
   "source": [
    "# VALIDACION CRUZADA 10-fold\n",
    "\n",
    "# Calculo del error MSE en validacion usando CV\n",
    "accuracy_medio_cv = busqueda_grid.cv_results_['mean_test_Accuracy'].mean()\n",
    "accuracy_std_cv = busqueda_grid.cv_results_['std_test_Accuracy'].mean()\n",
    "\n",
    "# AUC\n",
    "auc_cv = cross_val_score(estimator = modelo_xgboost, \n",
    "                         X = X_train, \n",
    "                         y = y_train, \n",
    "                         cv = 10, \n",
    "                         scoring = 'roc_auc')\n",
    "\n",
    "print('Métricas en validación cruzada:',\n",
    "      '\\nAccuracy medio +- std =', round(accuracy_medio_cv, 3), '+-', round(accuracy_std_cv, 3),\n",
    "      '\\nROC AUC =', round(auc_cv.mean(), 3))"
   ]
  },
  {
   "cell_type": "code",
   "execution_count": 54,
   "metadata": {},
   "outputs": [
    {
     "name": "stdout",
     "output_type": "stream",
     "text": [
      "Métricas en test:\n",
      "               precision    recall  f1-score   support\n",
      "\n",
      "           0       0.84      0.88      0.86       122\n",
      "           1       0.83      0.77      0.80        92\n",
      "\n",
      "    accuracy                           0.83       214\n",
      "   macro avg       0.83      0.82      0.83       214\n",
      "weighted avg       0.83      0.83      0.83       214\n",
      " \n",
      "ROC AUC = 0.824\n"
     ]
    },
    {
     "data": {
      "text/plain": [
       "<sklearn.metrics._plot.confusion_matrix.ConfusionMatrixDisplay at 0xb913668>"
      ]
     },
     "execution_count": 54,
     "metadata": {},
     "output_type": "execute_result"
    },
    {
     "data": {
      "image/png": "[encoded data removed]",
      "text/plain": [
       "<Figure size 432x288 with 2 Axes>"
      ]
     },
     "metadata": {},
     "output_type": "display_data"
    }
   ],
   "source": [
    "# TEST\n",
    "\n",
    "# Metricas\n",
    "print('Métricas en test:\\n',\n",
    "      classification_report(y_test, y_pred),\n",
    "     '\\nROC AUC =', round(roc_auc_score(y_test, y_pred), 3))\n",
    "\n",
    "# Matriz de confusion (0=CH, 1=MM)\n",
    "plot_confusion_matrix(modelo_xgboost, X_test, y_test, display_labels = y.unique().tolist())"
   ]
  },
  {
   "cell_type": "markdown",
   "metadata": {},
   "source": [
    "### Importancia variables"
   ]
  },
  {
   "cell_type": "code",
   "execution_count": 55,
   "metadata": {},
   "outputs": [
    {
     "data": {
      "text/plain": [
       "<matplotlib.axes._subplots.AxesSubplot at 0xc5d66d8>"
      ]
     },
     "execution_count": 55,
     "metadata": {},
     "output_type": "execute_result"
    },
    {
     "data": {
      "image/png": "[encoded data removed]",
      "text/plain": [
       "<Figure size 432x288 with 1 Axes>"
      ]
     },
     "metadata": {},
     "output_type": "display_data"
    }
   ],
   "source": [
    "xgboost.plot_importance(modelo_xgboost)"
   ]
  },
  {
   "cell_type": "markdown",
   "metadata": {},
   "source": [
    "### Visualización"
   ]
  },
  {
   "cell_type": "code",
   "execution_count": 56,
   "metadata": {
    "scrolled": true
   },
   "outputs": [
    {
     "data": {
      "image/svg+xml": [
       "<?xml version=\"1.0\" encoding=\"UTF-8\" standalone=\"no\"?>\r\n",
       "<!DOCTYPE svg PUBLIC \"-//W3C//DTD SVG 1.1//EN\"\r\n",
       " \"http://www.w3.org/Graphics/SVG/1.1/DTD/svg11.dtd\">\r\n",
       "<!-- Generated by graphviz version 2.38.0 (20140413.2041)\r\n",
       " -->\r\n",
       "<!-- Title: %3 Pages: 1 -->\r\n",
       "<svg width=\"2337pt\" height=\"392pt\"\r\n",
       " viewBox=\"0.00 0.00 2337.39 392.00\" xmlns=\"http://www.w3.org/2000/svg\" xmlns:xlink=\"http://www.w3.org/1999/xlink\">\r\n",
       "<g id=\"graph0\" class=\"graph\" transform=\"scale(1 1) rotate(0) translate(4 388)\">\r\n",
       "<title>%3</title>\r\n",
       "<polygon fill=\"white\" stroke=\"none\" points=\"-4,4 -4,-388 2333.39,-388 2333.39,4 -4,4\"/>\r\n",
       "<!-- 0 -->\r\n",
       "<g id=\"node1\" class=\"node\"><title>0</title>\r\n",
       "<ellipse fill=\"none\" stroke=\"black\" cx=\"1422.84\" cy=\"-366\" rx=\"95.5831\" ry=\"18\"/>\r\n",
       "<text text-anchor=\"middle\" x=\"1422.84\" y=\"-362.3\" font-family=\"Times New Roman,serif\" font-size=\"14.00\">LoyalCH&lt;0.503949523</text>\r\n",
       "</g>\r\n",
       "<!-- 1 -->\r\n",
       "<g id=\"node2\" class=\"node\"><title>1</title>\r\n",
       "<ellipse fill=\"none\" stroke=\"black\" cx=\"1035.84\" cy=\"-279\" rx=\"95.5831\" ry=\"18\"/>\r\n",
       "<text text-anchor=\"middle\" x=\"1035.84\" y=\"-275.3\" font-family=\"Times New Roman,serif\" font-size=\"14.00\">LoyalCH&lt;0.280874997</text>\r\n",
       "</g>\r\n",
       "<!-- 0&#45;&gt;1 -->\r\n",
       "<g id=\"edge1\" class=\"edge\"><title>0&#45;&gt;1</title>\r\n",
       "<path fill=\"none\" stroke=\"#0000ff\" d=\"M1363.22,-351.905C1293.76,-336.65 1179.17,-311.479 1105.63,-295.327\"/>\r\n",
       "<polygon fill=\"#0000ff\" stroke=\"#0000ff\" points=\"1106.05,-291.837 1095.53,-293.11 1104.55,-298.674 1106.05,-291.837\"/>\r\n",
       "<text text-anchor=\"middle\" x=\"1287.34\" y=\"-318.8\" font-family=\"Times New Roman,serif\" font-size=\"14.00\">yes, missing</text>\r\n",
       "</g>\r\n",
       "<!-- 2 -->\r\n",
       "<g id=\"node3\" class=\"node\"><title>2</title>\r\n",
       "<ellipse fill=\"none\" stroke=\"black\" cx=\"1785.84\" cy=\"-279\" rx=\"95.5831\" ry=\"18\"/>\r\n",
       "<text text-anchor=\"middle\" x=\"1785.84\" y=\"-275.3\" font-family=\"Times New Roman,serif\" font-size=\"14.00\">LoyalCH&lt;0.705325484</text>\r\n",
       "</g>\r\n",
       "<!-- 0&#45;&gt;2 -->\r\n",
       "<g id=\"edge2\" class=\"edge\"><title>0&#45;&gt;2</title>\r\n",
       "<path fill=\"none\" stroke=\"#ff0000\" d=\"M1480.36,-351.531C1545.05,-336.384 1649.99,-311.811 1718.46,-295.777\"/>\r\n",
       "<polygon fill=\"#ff0000\" stroke=\"#ff0000\" points=\"1719.35,-299.163 1728.29,-293.476 1717.76,-292.348 1719.35,-299.163\"/>\r\n",
       "<text text-anchor=\"middle\" x=\"1634.34\" y=\"-318.8\" font-family=\"Times New Roman,serif\" font-size=\"14.00\">no</text>\r\n",
       "</g>\r\n",
       "<!-- 3 -->\r\n",
       "<g id=\"node4\" class=\"node\"><title>3</title>\r\n",
       "<ellipse fill=\"none\" stroke=\"black\" cx=\"559.843\" cy=\"-192\" rx=\"95.5831\" ry=\"18\"/>\r\n",
       "<text text-anchor=\"middle\" x=\"559.843\" y=\"-188.3\" font-family=\"Times New Roman,serif\" font-size=\"14.00\">LoyalCH&lt;0.136344001</text>\r\n",
       "</g>\r\n",
       "<!-- 1&#45;&gt;3 -->\r\n",
       "<g id=\"edge3\" class=\"edge\"><title>1&#45;&gt;3</title>\r\n",
       "<path fill=\"none\" stroke=\"#0000ff\" d=\"M969.156,-266.092C881.853,-250.502 729.127,-223.229 636.95,-206.769\"/>\r\n",
       "<polygon fill=\"#0000ff\" stroke=\"#0000ff\" points=\"637.305,-203.277 626.845,-204.965 636.074,-210.168 637.305,-203.277\"/>\r\n",
       "<text text-anchor=\"middle\" x=\"861.343\" y=\"-231.8\" font-family=\"Times New Roman,serif\" font-size=\"14.00\">yes, missing</text>\r\n",
       "</g>\r\n",
       "<!-- 4 -->\r\n",
       "<g id=\"node5\" class=\"node\"><title>4</title>\r\n",
       "<ellipse fill=\"none\" stroke=\"black\" cx=\"1035.84\" cy=\"-192\" rx=\"107.482\" ry=\"18\"/>\r\n",
       "<text text-anchor=\"middle\" x=\"1035.84\" y=\"-188.3\" font-family=\"Times New Roman,serif\" font-size=\"14.00\">SalePriceMM&lt;2.03999996</text>\r\n",
       "</g>\r\n",
       "<!-- 1&#45;&gt;4 -->\r\n",
       "<g id=\"edge4\" class=\"edge\"><title>1&#45;&gt;4</title>\r\n",
       "<path fill=\"none\" stroke=\"#ff0000\" d=\"M1035.84,-260.799C1035.84,-249.163 1035.84,-233.548 1035.84,-220.237\"/>\r\n",
       "<polygon fill=\"#ff0000\" stroke=\"#ff0000\" points=\"1039.34,-220.175 1035.84,-210.175 1032.34,-220.175 1039.34,-220.175\"/>\r\n",
       "<text text-anchor=\"middle\" x=\"1043.34\" y=\"-231.8\" font-family=\"Times New Roman,serif\" font-size=\"14.00\">no</text>\r\n",
       "</g>\r\n",
       "<!-- 5 -->\r\n",
       "<g id=\"node18\" class=\"node\"><title>5</title>\r\n",
       "<ellipse fill=\"none\" stroke=\"black\" cx=\"1785.84\" cy=\"-192\" rx=\"108.581\" ry=\"18\"/>\r\n",
       "<text text-anchor=\"middle\" x=\"1785.84\" y=\"-188.3\" font-family=\"Times New Roman,serif\" font-size=\"14.00\">ListPriceDiff&lt;0.155000001</text>\r\n",
       "</g>\r\n",
       "<!-- 2&#45;&gt;5 -->\r\n",
       "<g id=\"edge17\" class=\"edge\"><title>2&#45;&gt;5</title>\r\n",
       "<path fill=\"none\" stroke=\"#0000ff\" d=\"M1785.84,-260.799C1785.84,-249.163 1785.84,-233.548 1785.84,-220.237\"/>\r\n",
       "<polygon fill=\"#0000ff\" stroke=\"#0000ff\" points=\"1789.34,-220.175 1785.84,-210.175 1782.34,-220.175 1789.34,-220.175\"/>\r\n",
       "<text text-anchor=\"middle\" x=\"1820.34\" y=\"-231.8\" font-family=\"Times New Roman,serif\" font-size=\"14.00\">yes, missing</text>\r\n",
       "</g>\r\n",
       "<!-- 6 -->\r\n",
       "<g id=\"node19\" class=\"node\"><title>6</title>\r\n",
       "<ellipse fill=\"none\" stroke=\"black\" cx=\"2062.84\" cy=\"-192\" rx=\"107.482\" ry=\"18\"/>\r\n",
       "<text text-anchor=\"middle\" x=\"2062.84\" y=\"-188.3\" font-family=\"Times New Roman,serif\" font-size=\"14.00\">SalePriceMM&lt;1.43499994</text>\r\n",
       "</g>\r\n",
       "<!-- 2&#45;&gt;6 -->\r\n",
       "<g id=\"edge18\" class=\"edge\"><title>2&#45;&gt;6</title>\r\n",
       "<path fill=\"none\" stroke=\"#ff0000\" d=\"M1833.46,-263.388C1880.59,-248.926 1952.86,-226.749 2003.66,-211.162\"/>\r\n",
       "<polygon fill=\"#ff0000\" stroke=\"#ff0000\" points=\"2004.98,-214.416 2013.52,-208.136 2002.93,-207.724 2004.98,-214.416\"/>\r\n",
       "<text text-anchor=\"middle\" x=\"1949.34\" y=\"-231.8\" font-family=\"Times New Roman,serif\" font-size=\"14.00\">no</text>\r\n",
       "</g>\r\n",
       "<!-- 7 -->\r\n",
       "<g id=\"node6\" class=\"node\"><title>7</title>\r\n",
       "<ellipse fill=\"none\" stroke=\"black\" cx=\"264.843\" cy=\"-105\" rx=\"107.482\" ry=\"18\"/>\r\n",
       "<text text-anchor=\"middle\" x=\"264.843\" y=\"-101.3\" font-family=\"Times New Roman,serif\" font-size=\"14.00\">SalePriceMM&lt;1.73500001</text>\r\n",
       "</g>\r\n",
       "<!-- 3&#45;&gt;7 -->\r\n",
       "<g id=\"edge5\" class=\"edge\"><title>3&#45;&gt;7</title>\r\n",
       "<path fill=\"none\" stroke=\"#0000ff\" d=\"M509.8,-176.581C459.118,-161.978 380.651,-139.369 326.239,-123.691\"/>\r\n",
       "<polygon fill=\"#0000ff\" stroke=\"#0000ff\" points=\"326.949,-120.253 316.371,-120.847 325.011,-126.979 326.949,-120.253\"/>\r\n",
       "<text text-anchor=\"middle\" x=\"465.343\" y=\"-144.8\" font-family=\"Times New Roman,serif\" font-size=\"14.00\">yes, missing</text>\r\n",
       "</g>\r\n",
       "<!-- 8 -->\r\n",
       "<g id=\"node7\" class=\"node\"><title>8</title>\r\n",
       "<ellipse fill=\"none\" stroke=\"black\" cx=\"559.843\" cy=\"-105\" rx=\"107.482\" ry=\"18\"/>\r\n",
       "<text text-anchor=\"middle\" x=\"559.843\" y=\"-101.3\" font-family=\"Times New Roman,serif\" font-size=\"14.00\">SalePriceMM&lt;1.94000006</text>\r\n",
       "</g>\r\n",
       "<!-- 3&#45;&gt;8 -->\r\n",
       "<g id=\"edge6\" class=\"edge\"><title>3&#45;&gt;8</title>\r\n",
       "<path fill=\"none\" stroke=\"#ff0000\" d=\"M559.843,-173.799C559.843,-162.163 559.843,-146.548 559.843,-133.237\"/>\r\n",
       "<polygon fill=\"#ff0000\" stroke=\"#ff0000\" points=\"563.343,-133.175 559.843,-123.175 556.343,-133.175 563.343,-133.175\"/>\r\n",
       "<text text-anchor=\"middle\" x=\"567.343\" y=\"-144.8\" font-family=\"Times New Roman,serif\" font-size=\"14.00\">no</text>\r\n",
       "</g>\r\n",
       "<!-- 9 -->\r\n",
       "<g id=\"node12\" class=\"node\"><title>9</title>\r\n",
       "<ellipse fill=\"none\" stroke=\"black\" cx=\"987.843\" cy=\"-105\" rx=\"66.0889\" ry=\"18\"/>\r\n",
       "<text text-anchor=\"middle\" x=\"987.843\" y=\"-101.3\" font-family=\"Times New Roman,serif\" font-size=\"14.00\">SpecialCH&lt;0.5</text>\r\n",
       "</g>\r\n",
       "<!-- 4&#45;&gt;9 -->\r\n",
       "<g id=\"edge11\" class=\"edge\"><title>4&#45;&gt;9</title>\r\n",
       "<path fill=\"none\" stroke=\"#0000ff\" d=\"M1026.13,-173.799C1019.32,-161.738 1010.09,-145.403 1002.41,-131.79\"/>\r\n",
       "<polygon fill=\"#0000ff\" stroke=\"#0000ff\" points=\"1005.34,-129.872 997.378,-122.885 999.247,-133.314 1005.34,-129.872\"/>\r\n",
       "<text text-anchor=\"middle\" x=\"1049.34\" y=\"-144.8\" font-family=\"Times New Roman,serif\" font-size=\"14.00\">yes, missing</text>\r\n",
       "</g>\r\n",
       "<!-- 10 -->\r\n",
       "<g id=\"node13\" class=\"node\"><title>10</title>\r\n",
       "<ellipse fill=\"none\" stroke=\"black\" cx=\"1179.84\" cy=\"-105\" rx=\"92.0841\" ry=\"18\"/>\r\n",
       "<text text-anchor=\"middle\" x=\"1179.84\" y=\"-101.3\" font-family=\"Times New Roman,serif\" font-size=\"14.00\">PriceMM&lt;2.20499992</text>\r\n",
       "</g>\r\n",
       "<!-- 4&#45;&gt;10 -->\r\n",
       "<g id=\"edge12\" class=\"edge\"><title>4&#45;&gt;10</title>\r\n",
       "<path fill=\"none\" stroke=\"#ff0000\" d=\"M1063.61,-174.611C1086.32,-161.206 1118.61,-142.142 1143.4,-127.51\"/>\r\n",
       "<polygon fill=\"#ff0000\" stroke=\"#ff0000\" points=\"1145.33,-130.436 1152.16,-122.339 1141.77,-124.408 1145.33,-130.436\"/>\r\n",
       "<text text-anchor=\"middle\" x=\"1124.34\" y=\"-144.8\" font-family=\"Times New Roman,serif\" font-size=\"14.00\">no</text>\r\n",
       "</g>\r\n",
       "<!-- 15 -->\r\n",
       "<g id=\"node8\" class=\"node\"><title>15</title>\r\n",
       "<ellipse fill=\"none\" stroke=\"black\" cx=\"83.8426\" cy=\"-18\" rx=\"83.6854\" ry=\"18\"/>\r\n",
       "<text text-anchor=\"middle\" x=\"83.8426\" y=\"-14.3\" font-family=\"Times New Roman,serif\" font-size=\"14.00\">leaf=0.00869542826</text>\r\n",
       "</g>\r\n",
       "<!-- 7&#45;&gt;15 -->\r\n",
       "<g id=\"edge7\" class=\"edge\"><title>7&#45;&gt;15</title>\r\n",
       "<path fill=\"none\" stroke=\"#0000ff\" d=\"M230.372,-87.8121C200.813,-73.9307 158.106,-53.8751 126.417,-38.9937\"/>\r\n",
       "<polygon fill=\"#0000ff\" stroke=\"#0000ff\" points=\"127.503,-35.6367 116.963,-34.554 124.527,-41.9728 127.503,-35.6367\"/>\r\n",
       "<text text-anchor=\"middle\" x=\"220.343\" y=\"-57.8\" font-family=\"Times New Roman,serif\" font-size=\"14.00\">yes, missing</text>\r\n",
       "</g>\r\n",
       "<!-- 16 -->\r\n",
       "<g id=\"node9\" class=\"node\"><title>16</title>\r\n",
       "<ellipse fill=\"none\" stroke=\"black\" cx=\"264.843\" cy=\"-18\" rx=\"79.0865\" ry=\"18\"/>\r\n",
       "<text text-anchor=\"middle\" x=\"264.843\" y=\"-14.3\" font-family=\"Times New Roman,serif\" font-size=\"14.00\">leaf=0.0164472777</text>\r\n",
       "</g>\r\n",
       "<!-- 7&#45;&gt;16 -->\r\n",
       "<g id=\"edge8\" class=\"edge\"><title>7&#45;&gt;16</title>\r\n",
       "<path fill=\"none\" stroke=\"#ff0000\" d=\"M264.843,-86.799C264.843,-75.1626 264.843,-59.5479 264.843,-46.2368\"/>\r\n",
       "<polygon fill=\"#ff0000\" stroke=\"#ff0000\" points=\"268.343,-46.1754 264.843,-36.1754 261.343,-46.1755 268.343,-46.1754\"/>\r\n",
       "<text text-anchor=\"middle\" x=\"272.343\" y=\"-57.8\" font-family=\"Times New Roman,serif\" font-size=\"14.00\">no</text>\r\n",
       "</g>\r\n",
       "<!-- 17 -->\r\n",
       "<g id=\"node10\" class=\"node\"><title>17</title>\r\n",
       "<ellipse fill=\"none\" stroke=\"black\" cx=\"441.843\" cy=\"-18\" rx=\"79.0865\" ry=\"18\"/>\r\n",
       "<text text-anchor=\"middle\" x=\"441.843\" y=\"-14.3\" font-family=\"Times New Roman,serif\" font-size=\"14.00\">leaf=0.0147969183</text>\r\n",
       "</g>\r\n",
       "<!-- 8&#45;&gt;17 -->\r\n",
       "<g id=\"edge9\" class=\"edge\"><title>8&#45;&gt;17</title>\r\n",
       "<path fill=\"none\" stroke=\"#0000ff\" d=\"M536.811,-87.4094C518.501,-74.2198 492.716,-55.6465 472.634,-41.1806\"/>\r\n",
       "<polygon fill=\"#0000ff\" stroke=\"#0000ff\" points=\"474.575,-38.265 464.415,-35.26 470.484,-43.9449 474.575,-38.265\"/>\r\n",
       "<text text-anchor=\"middle\" x=\"543.343\" y=\"-57.8\" font-family=\"Times New Roman,serif\" font-size=\"14.00\">yes, missing</text>\r\n",
       "</g>\r\n",
       "<!-- 18 -->\r\n",
       "<g id=\"node11\" class=\"node\"><title>18</title>\r\n",
       "<ellipse fill=\"none\" stroke=\"black\" cx=\"622.843\" cy=\"-18\" rx=\"83.6854\" ry=\"18\"/>\r\n",
       "<text text-anchor=\"middle\" x=\"622.843\" y=\"-14.3\" font-family=\"Times New Roman,serif\" font-size=\"14.00\">leaf=0.00346723944</text>\r\n",
       "</g>\r\n",
       "<!-- 8&#45;&gt;18 -->\r\n",
       "<g id=\"edge10\" class=\"edge\"><title>8&#45;&gt;18</title>\r\n",
       "<path fill=\"none\" stroke=\"#ff0000\" d=\"M572.592,-86.799C581.703,-74.5062 594.104,-57.7736 604.308,-44.0073\"/>\r\n",
       "<polygon fill=\"#ff0000\" stroke=\"#ff0000\" points=\"607.185,-46.0034 610.328,-35.8854 601.561,-41.8352 607.185,-46.0034\"/>\r\n",
       "<text text-anchor=\"middle\" x=\"603.343\" y=\"-57.8\" font-family=\"Times New Roman,serif\" font-size=\"14.00\">no</text>\r\n",
       "</g>\r\n",
       "<!-- 19 -->\r\n",
       "<g id=\"node14\" class=\"node\"><title>19</title>\r\n",
       "<ellipse fill=\"none\" stroke=\"black\" cx=\"803.843\" cy=\"-18\" rx=\"79.0865\" ry=\"18\"/>\r\n",
       "<text text-anchor=\"middle\" x=\"803.843\" y=\"-14.3\" font-family=\"Times New Roman,serif\" font-size=\"14.00\">leaf=0.0121366819</text>\r\n",
       "</g>\r\n",
       "<!-- 9&#45;&gt;19 -->\r\n",
       "<g id=\"edge13\" class=\"edge\"><title>9&#45;&gt;19</title>\r\n",
       "<path fill=\"none\" stroke=\"#0000ff\" d=\"M955.792,-89.1941C925.523,-75.2111 879.919,-54.1438 846.568,-38.7375\"/>\r\n",
       "<polygon fill=\"#0000ff\" stroke=\"#0000ff\" points=\"847.623,-35.3693 837.077,-34.3529 844.687,-41.724 847.623,-35.3693\"/>\r\n",
       "<text text-anchor=\"middle\" x=\"942.343\" y=\"-57.8\" font-family=\"Times New Roman,serif\" font-size=\"14.00\">yes, missing</text>\r\n",
       "</g>\r\n",
       "<!-- 20 -->\r\n",
       "<g id=\"node15\" class=\"node\"><title>20</title>\r\n",
       "<ellipse fill=\"none\" stroke=\"black\" cx=\"987.843\" cy=\"-18\" rx=\"87.1846\" ry=\"18\"/>\r\n",
       "<text text-anchor=\"middle\" x=\"987.843\" y=\"-14.3\" font-family=\"Times New Roman,serif\" font-size=\"14.00\">leaf=&#45;0.00230426597</text>\r\n",
       "</g>\r\n",
       "<!-- 9&#45;&gt;20 -->\r\n",
       "<g id=\"edge14\" class=\"edge\"><title>9&#45;&gt;20</title>\r\n",
       "<path fill=\"none\" stroke=\"#ff0000\" d=\"M987.843,-86.799C987.843,-75.1626 987.843,-59.5479 987.843,-46.2368\"/>\r\n",
       "<polygon fill=\"#ff0000\" stroke=\"#ff0000\" points=\"991.343,-46.1754 987.843,-36.1754 984.343,-46.1755 991.343,-46.1754\"/>\r\n",
       "<text text-anchor=\"middle\" x=\"995.343\" y=\"-57.8\" font-family=\"Times New Roman,serif\" font-size=\"14.00\">no</text>\r\n",
       "</g>\r\n",
       "<!-- 21 -->\r\n",
       "<g id=\"node16\" class=\"node\"><title>21</title>\r\n",
       "<ellipse fill=\"none\" stroke=\"black\" cx=\"1179.84\" cy=\"-18\" rx=\"87.1846\" ry=\"18\"/>\r\n",
       "<text text-anchor=\"middle\" x=\"1179.84\" y=\"-14.3\" font-family=\"Times New Roman,serif\" font-size=\"14.00\">leaf=&#45;0.00505957101</text>\r\n",
       "</g>\r\n",
       "<!-- 10&#45;&gt;21 -->\r\n",
       "<g id=\"edge15\" class=\"edge\"><title>10&#45;&gt;21</title>\r\n",
       "<path fill=\"none\" stroke=\"#0000ff\" d=\"M1179.84,-86.799C1179.84,-75.1626 1179.84,-59.5479 1179.84,-46.2368\"/>\r\n",
       "<polygon fill=\"#0000ff\" stroke=\"#0000ff\" points=\"1183.34,-46.1754 1179.84,-36.1754 1176.34,-46.1755 1183.34,-46.1754\"/>\r\n",
       "<text text-anchor=\"middle\" x=\"1214.34\" y=\"-57.8\" font-family=\"Times New Roman,serif\" font-size=\"14.00\">yes, missing</text>\r\n",
       "</g>\r\n",
       "<!-- 22 -->\r\n",
       "<g id=\"node17\" class=\"node\"><title>22</title>\r\n",
       "<ellipse fill=\"none\" stroke=\"black\" cx=\"1363.84\" cy=\"-18\" rx=\"79.0865\" ry=\"18\"/>\r\n",
       "<text text-anchor=\"middle\" x=\"1363.84\" y=\"-14.3\" font-family=\"Times New Roman,serif\" font-size=\"14.00\">leaf=0.0057762363</text>\r\n",
       "</g>\r\n",
       "<!-- 10&#45;&gt;22 -->\r\n",
       "<g id=\"edge16\" class=\"edge\"><title>10&#45;&gt;22</title>\r\n",
       "<path fill=\"none\" stroke=\"#ff0000\" d=\"M1214.02,-88.2114C1244.29,-74.2283 1288.6,-53.7578 1321.19,-38.7053\"/>\r\n",
       "<polygon fill=\"#ff0000\" stroke=\"#ff0000\" points=\"1322.86,-41.7886 1330.47,-34.4175 1319.92,-35.4339 1322.86,-41.7886\"/>\r\n",
       "<text text-anchor=\"middle\" x=\"1291.34\" y=\"-57.8\" font-family=\"Times New Roman,serif\" font-size=\"14.00\">no</text>\r\n",
       "</g>\r\n",
       "<!-- 11 -->\r\n",
       "<g id=\"node20\" class=\"node\"><title>11</title>\r\n",
       "<ellipse fill=\"none\" stroke=\"black\" cx=\"1721.84\" cy=\"-105\" rx=\"102.882\" ry=\"18\"/>\r\n",
       "<text text-anchor=\"middle\" x=\"1721.84\" y=\"-101.3\" font-family=\"Times New Roman,serif\" font-size=\"14.00\">SalePriceMM&lt;1.6400001</text>\r\n",
       "</g>\r\n",
       "<!-- 5&#45;&gt;11 -->\r\n",
       "<g id=\"edge19\" class=\"edge\"><title>5&#45;&gt;11</title>\r\n",
       "<path fill=\"none\" stroke=\"#0000ff\" d=\"M1772.89,-173.799C1763.64,-161.506 1751.04,-144.774 1740.67,-131.007\"/>\r\n",
       "<polygon fill=\"#0000ff\" stroke=\"#0000ff\" points=\"1743.37,-128.769 1734.56,-122.885 1737.78,-132.979 1743.37,-128.769\"/>\r\n",
       "<text text-anchor=\"middle\" x=\"1792.34\" y=\"-144.8\" font-family=\"Times New Roman,serif\" font-size=\"14.00\">yes, missing</text>\r\n",
       "</g>\r\n",
       "<!-- 12 -->\r\n",
       "<g id=\"node21\" class=\"node\"><title>12</title>\r\n",
       "<ellipse fill=\"none\" stroke=\"black\" cx=\"1904.84\" cy=\"-105\" rx=\"55.7903\" ry=\"18\"/>\r\n",
       "<text text-anchor=\"middle\" x=\"1904.84\" y=\"-101.3\" font-family=\"Times New Roman,serif\" font-size=\"14.00\">StoreID&lt;2.5</text>\r\n",
       "</g>\r\n",
       "<!-- 5&#45;&gt;12 -->\r\n",
       "<g id=\"edge20\" class=\"edge\"><title>5&#45;&gt;12</title>\r\n",
       "<path fill=\"none\" stroke=\"#ff0000\" d=\"M1809.07,-174.409C1827.77,-161.051 1854.21,-142.169 1874.57,-127.626\"/>\r\n",
       "<polygon fill=\"#ff0000\" stroke=\"#ff0000\" points=\"1876.78,-130.348 1882.88,-121.688 1872.71,-124.652 1876.78,-130.348\"/>\r\n",
       "<text text-anchor=\"middle\" x=\"1860.34\" y=\"-144.8\" font-family=\"Times New Roman,serif\" font-size=\"14.00\">no</text>\r\n",
       "</g>\r\n",
       "<!-- 13 -->\r\n",
       "<g id=\"node26\" class=\"node\"><title>13</title>\r\n",
       "<ellipse fill=\"none\" stroke=\"black\" cx=\"2062.84\" cy=\"-105\" rx=\"83.6854\" ry=\"18\"/>\r\n",
       "<text text-anchor=\"middle\" x=\"2062.84\" y=\"-101.3\" font-family=\"Times New Roman,serif\" font-size=\"14.00\">leaf=0.00224667042</text>\r\n",
       "</g>\r\n",
       "<!-- 6&#45;&gt;13 -->\r\n",
       "<g id=\"edge25\" class=\"edge\"><title>6&#45;&gt;13</title>\r\n",
       "<path fill=\"none\" stroke=\"#0000ff\" d=\"M2062.84,-173.799C2062.84,-162.163 2062.84,-146.548 2062.84,-133.237\"/>\r\n",
       "<polygon fill=\"#0000ff\" stroke=\"#0000ff\" points=\"2066.34,-133.175 2062.84,-123.175 2059.34,-133.175 2066.34,-133.175\"/>\r\n",
       "<text text-anchor=\"middle\" x=\"2097.34\" y=\"-144.8\" font-family=\"Times New Roman,serif\" font-size=\"14.00\">yes, missing</text>\r\n",
       "</g>\r\n",
       "<!-- 14 -->\r\n",
       "<g id=\"node27\" class=\"node\"><title>14</title>\r\n",
       "<ellipse fill=\"none\" stroke=\"black\" cx=\"2246.84\" cy=\"-105\" rx=\"82.5854\" ry=\"18\"/>\r\n",
       "<text text-anchor=\"middle\" x=\"2246.84\" y=\"-101.3\" font-family=\"Times New Roman,serif\" font-size=\"14.00\">leaf=&#45;0.0167694837</text>\r\n",
       "</g>\r\n",
       "<!-- 6&#45;&gt;14 -->\r\n",
       "<g id=\"edge26\" class=\"edge\"><title>6&#45;&gt;14</title>\r\n",
       "<path fill=\"none\" stroke=\"#ff0000\" d=\"M2097.88,-174.812C2128.06,-160.871 2171.72,-140.702 2203.98,-125.802\"/>\r\n",
       "<polygon fill=\"#ff0000\" stroke=\"#ff0000\" points=\"2205.56,-128.925 2213.17,-121.554 2202.63,-122.57 2205.56,-128.925\"/>\r\n",
       "<text text-anchor=\"middle\" x=\"2174.34\" y=\"-144.8\" font-family=\"Times New Roman,serif\" font-size=\"14.00\">no</text>\r\n",
       "</g>\r\n",
       "<!-- 23 -->\r\n",
       "<g id=\"node22\" class=\"node\"><title>23</title>\r\n",
       "<ellipse fill=\"none\" stroke=\"black\" cx=\"1540.84\" cy=\"-18\" rx=\"79.0865\" ry=\"18\"/>\r\n",
       "<text text-anchor=\"middle\" x=\"1540.84\" y=\"-14.3\" font-family=\"Times New Roman,serif\" font-size=\"14.00\">leaf=0.0109889386</text>\r\n",
       "</g>\r\n",
       "<!-- 11&#45;&gt;23 -->\r\n",
       "<g id=\"edge21\" class=\"edge\"><title>11&#45;&gt;23</title>\r\n",
       "<path fill=\"none\" stroke=\"#0000ff\" d=\"M1687.8,-88.0122C1658.07,-74.0495 1614.8,-53.7303 1582.91,-38.7538\"/>\r\n",
       "<polygon fill=\"#0000ff\" stroke=\"#0000ff\" points=\"1584.36,-35.5688 1573.82,-34.4861 1581.38,-41.9049 1584.36,-35.5688\"/>\r\n",
       "<text text-anchor=\"middle\" x=\"1677.34\" y=\"-57.8\" font-family=\"Times New Roman,serif\" font-size=\"14.00\">yes, missing</text>\r\n",
       "</g>\r\n",
       "<!-- 24 -->\r\n",
       "<g id=\"node23\" class=\"node\"><title>24</title>\r\n",
       "<ellipse fill=\"none\" stroke=\"black\" cx=\"1721.84\" cy=\"-18\" rx=\"83.6854\" ry=\"18\"/>\r\n",
       "<text text-anchor=\"middle\" x=\"1721.84\" y=\"-14.3\" font-family=\"Times New Roman,serif\" font-size=\"14.00\">leaf=0.00116964802</text>\r\n",
       "</g>\r\n",
       "<!-- 11&#45;&gt;24 -->\r\n",
       "<g id=\"edge22\" class=\"edge\"><title>11&#45;&gt;24</title>\r\n",
       "<path fill=\"none\" stroke=\"#ff0000\" d=\"M1721.84,-86.799C1721.84,-75.1626 1721.84,-59.5479 1721.84,-46.2368\"/>\r\n",
       "<polygon fill=\"#ff0000\" stroke=\"#ff0000\" points=\"1725.34,-46.1754 1721.84,-36.1754 1718.34,-46.1755 1725.34,-46.1754\"/>\r\n",
       "<text text-anchor=\"middle\" x=\"1729.34\" y=\"-57.8\" font-family=\"Times New Roman,serif\" font-size=\"14.00\">no</text>\r\n",
       "</g>\r\n",
       "<!-- 25 -->\r\n",
       "<g id=\"node24\" class=\"node\"><title>25</title>\r\n",
       "<ellipse fill=\"none\" stroke=\"black\" cx=\"1910.84\" cy=\"-18\" rx=\"87.1846\" ry=\"18\"/>\r\n",
       "<text text-anchor=\"middle\" x=\"1910.84\" y=\"-14.3\" font-family=\"Times New Roman,serif\" font-size=\"14.00\">leaf=&#45;0.00664091855</text>\r\n",
       "</g>\r\n",
       "<!-- 12&#45;&gt;25 -->\r\n",
       "<g id=\"edge23\" class=\"edge\"><title>12&#45;&gt;25</title>\r\n",
       "<path fill=\"none\" stroke=\"#0000ff\" d=\"M1906.06,-86.799C1906.88,-75.1626 1907.98,-59.5479 1908.92,-46.2368\"/>\r\n",
       "<polygon fill=\"#0000ff\" stroke=\"#0000ff\" points=\"1912.42,-46.3971 1909.63,-36.1754 1905.43,-45.9041 1912.42,-46.3971\"/>\r\n",
       "<text text-anchor=\"middle\" x=\"1943.34\" y=\"-57.8\" font-family=\"Times New Roman,serif\" font-size=\"14.00\">yes, missing</text>\r\n",
       "</g>\r\n",
       "<!-- 26 -->\r\n",
       "<g id=\"node25\" class=\"node\"><title>26</title>\r\n",
       "<ellipse fill=\"none\" stroke=\"black\" cx=\"2098.84\" cy=\"-18\" rx=\"82.5854\" ry=\"18\"/>\r\n",
       "<text text-anchor=\"middle\" x=\"2098.84\" y=\"-14.3\" font-family=\"Times New Roman,serif\" font-size=\"14.00\">leaf=&#45;0.0159994084</text>\r\n",
       "</g>\r\n",
       "<!-- 12&#45;&gt;26 -->\r\n",
       "<g id=\"edge24\" class=\"edge\"><title>12&#45;&gt;26</title>\r\n",
       "<path fill=\"none\" stroke=\"#ff0000\" d=\"M1936.88,-89.964C1968.99,-75.8963 2018.67,-54.1283 2054.54,-38.4103\"/>\r\n",
       "<polygon fill=\"#ff0000\" stroke=\"#ff0000\" points=\"2056.05,-41.5703 2063.81,-34.3513 2053.24,-35.1587 2056.05,-41.5703\"/>\r\n",
       "<text text-anchor=\"middle\" x=\"2021.34\" y=\"-57.8\" font-family=\"Times New Roman,serif\" font-size=\"14.00\">no</text>\r\n",
       "</g>\r\n",
       "</g>\r\n",
       "</svg>\r\n"
      ],
      "text/plain": [
       "<graphviz.files.Source at 0xc5f0cf8>"
      ]
     },
     "execution_count": 56,
     "metadata": {},
     "output_type": "execute_result"
    }
   ],
   "source": [
    "# Decimo arbol generado por xgboost (num_trees=indice)\n",
    "xgboost.to_graphviz(modelo_xgboost, num_trees=9) "
   ]
  },
  {
   "cell_type": "markdown",
   "metadata": {},
   "source": [
    "[![CC BY 4.0][cc-by-shield]][cc-by]\n",
    "\n",
    "This work by Cristina Gil Martínez is licensed under a [Creative Commons Attribution 4.0 International License][cc-by].\n",
    "\n",
    "[![CC BY 4.0][cc-by-image]][cc-by]\n",
    "\n",
    "[cc-by]: http://creativecommons.org/licenses/by/4.0/\n",
    "[cc-by-image]: https://i.creativecommons.org/l/by/4.0/88x31.png\n",
    "[cc-by-shield]: https://img.shields.io/badge/License-CC%20BY%204.0-lightgrey.svg"
   ]
  }
 ],
 "metadata": {
  "kernelspec": {
   "display_name": "Python 3",
   "language": "python",
   "name": "python3"
  },
  "language_info": {
   "codemirror_mode": {
    "name": "ipython",
    "version": 3
   },
   "file_extension": ".py",
   "mimetype": "text/x-python",
   "name": "python",
   "nbconvert_exporter": "python",
   "pygments_lexer": "ipython3",
   "version": "3.6.5"
  },
  "toc": {
   "base_numbering": 1,
   "nav_menu": {},
   "number_sections": true,
   "sideBar": true,
   "skip_h1_title": false,
   "title_cell": "Tabla de Contenidos",
   "title_sidebar": "Contents",
   "toc_cell": true,
   "toc_position": {},
   "toc_section_display": true,
   "toc_window_display": true
  }
 },
 "nbformat": 4,
 "nbformat_minor": 2
}
