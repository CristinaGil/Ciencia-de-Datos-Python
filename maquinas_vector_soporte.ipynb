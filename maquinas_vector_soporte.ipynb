{
 "cells": [
  {
   "cell_type": "markdown",
   "metadata": {
    "toc": true
   },
   "source": [
    "<h1>Tabla de Contenidos<span class=\"tocSkip\"></span></h1>\n",
    "<div class=\"toc\"><ul class=\"toc-item\"><li><span><a href=\"#MÁQUINAS-DE-VECTOR-SOPORTE-(SVM)\" data-toc-modified-id=\"MÁQUINAS-DE-VECTOR-SOPORTE-(SVM)-1\"><span class=\"toc-item-num\">1&nbsp;&nbsp;</span><strong>MÁQUINAS DE VECTOR SOPORTE (SVM)</strong></a></span></li><li><span><a href=\"#CLASIFICACIÓN\" data-toc-modified-id=\"CLASIFICACIÓN-2\"><span class=\"toc-item-num\">2&nbsp;&nbsp;</span><strong>CLASIFICACIÓN</strong></a></span><ul class=\"toc-item\"><li><span><a href=\"#Carga-de-datos\" data-toc-modified-id=\"Carga-de-datos-2.1\"><span class=\"toc-item-num\">2.1&nbsp;&nbsp;</span>Carga de datos</a></span><ul class=\"toc-item\"><li><span><a href=\"#Estadísticos\" data-toc-modified-id=\"Estadísticos-2.1.1\"><span class=\"toc-item-num\">2.1.1&nbsp;&nbsp;</span>Estadísticos</a></span></li><li><span><a href=\"#Distribución-de-la-variable-respuesta-&quot;Purchase&quot;\" data-toc-modified-id=\"Distribución-de-la-variable-respuesta-&quot;Purchase&quot;-2.1.2\"><span class=\"toc-item-num\">2.1.2&nbsp;&nbsp;</span>Distribución de la variable respuesta \"Purchase\"</a></span></li></ul></li><li><span><a href=\"#División-entrenamiento-test\" data-toc-modified-id=\"División-entrenamiento-test-2.2\"><span class=\"toc-item-num\">2.2&nbsp;&nbsp;</span>División entrenamiento-test</a></span></li><li><span><a href=\"#Codificación\" data-toc-modified-id=\"Codificación-2.3\"><span class=\"toc-item-num\">2.3&nbsp;&nbsp;</span>Codificación</a></span></li><li><span><a href=\"#Estandarización\" data-toc-modified-id=\"Estandarización-2.4\"><span class=\"toc-item-num\">2.4&nbsp;&nbsp;</span>Estandarización</a></span></li><li><span><a href=\"#Máquina-de-vector-soporte-(kernel=lineal)\" data-toc-modified-id=\"Máquina-de-vector-soporte-(kernel=lineal)-2.5\"><span class=\"toc-item-num\">2.5&nbsp;&nbsp;</span><strong>Máquina de vector soporte (kernel=lineal)</strong></a></span><ul class=\"toc-item\"><li><span><a href=\"#Búsqueda-de-hiperparámetros-y-ajuste\" data-toc-modified-id=\"Búsqueda-de-hiperparámetros-y-ajuste-2.5.1\"><span class=\"toc-item-num\">2.5.1&nbsp;&nbsp;</span>Búsqueda de hiperparámetros y ajuste</a></span></li><li><span><a href=\"#Evaluación\" data-toc-modified-id=\"Evaluación-2.5.2\"><span class=\"toc-item-num\">2.5.2&nbsp;&nbsp;</span>Evaluación</a></span></li></ul></li><li><span><a href=\"#Máquina-de-vector-soporte-(kernel=polinómico)\" data-toc-modified-id=\"Máquina-de-vector-soporte-(kernel=polinómico)-2.6\"><span class=\"toc-item-num\">2.6&nbsp;&nbsp;</span><strong>Máquina de vector soporte (kernel=polinómico)</strong></a></span><ul class=\"toc-item\"><li><span><a href=\"#Búsqueda-de-hiperparámetros-y-ajuste\" data-toc-modified-id=\"Búsqueda-de-hiperparámetros-y-ajuste-2.6.1\"><span class=\"toc-item-num\">2.6.1&nbsp;&nbsp;</span>Búsqueda de hiperparámetros y ajuste</a></span></li><li><span><a href=\"#Evaluación\" data-toc-modified-id=\"Evaluación-2.6.2\"><span class=\"toc-item-num\">2.6.2&nbsp;&nbsp;</span>Evaluación</a></span></li></ul></li><li><span><a href=\"#Máquina-de-vector-soporte-(kernel=radial)\" data-toc-modified-id=\"Máquina-de-vector-soporte-(kernel=radial)-2.7\"><span class=\"toc-item-num\">2.7&nbsp;&nbsp;</span><strong>Máquina de vector soporte (kernel=radial)</strong></a></span><ul class=\"toc-item\"><li><span><a href=\"#Búsqueda-de-hiperparámetros-y-ajuste\" data-toc-modified-id=\"Búsqueda-de-hiperparámetros-y-ajuste-2.7.1\"><span class=\"toc-item-num\">2.7.1&nbsp;&nbsp;</span>Búsqueda de hiperparámetros y ajuste</a></span></li><li><span><a href=\"#Evaluación\" data-toc-modified-id=\"Evaluación-2.7.2\"><span class=\"toc-item-num\">2.7.2&nbsp;&nbsp;</span>Evaluación</a></span></li></ul></li></ul></li></ul></div>"
   ]
  },
  {
   "cell_type": "markdown",
   "metadata": {},
   "source": [
    "# **MÁQUINAS DE VECTOR SOPORTE (SVM)**\n",
    "\n",
    "Cristina Gil Martínez (cristina_gil_m@hotmail.com)\n",
    "\n",
    "Abril 2020\n",
    "\n",
    "Los ejemplos de este documento son la versión en Python de los explicados en mi publicación en RPubs [Máquinas de vector soporte](https://rpubs.com/Cristina_Gil/396625), donde se recoge además la explicación teórica de los métodos."
   ]
  },
  {
   "cell_type": "code",
   "execution_count": 1,
   "metadata": {},
   "outputs": [],
   "source": [
    "import numpy as np\n",
    "import pandas as pd\n",
    "import matplotlib.pyplot as plt\n",
    "from sklearn.model_selection import train_test_split, cross_val_score\n",
    "from sklearn.model_selection import GridSearchCV\n",
    "from sklearn import preprocessing, model_selection \n",
    "from sklearn.metrics import accuracy_score, roc_auc_score, precision_score, recall_score, mean_squared_error, make_scorer, plot_confusion_matrix, classification_report\n",
    "from sklearn import metrics"
   ]
  },
  {
   "cell_type": "markdown",
   "metadata": {},
   "source": [
    "Version de scikit-learn 0.22.2"
   ]
  },
  {
   "cell_type": "code",
   "execution_count": 2,
   "metadata": {},
   "outputs": [],
   "source": [
    "#pd.options.mode.chained_assignment = None"
   ]
  },
  {
   "cell_type": "markdown",
   "metadata": {},
   "source": [
    "# **CLASIFICACIÓN**"
   ]
  },
  {
   "cell_type": "markdown",
   "metadata": {},
   "source": [
    "## Carga de datos\n",
    "\n",
    "Se utiliza el set de datos `OJ.csv` del paquete `ISLR` de `R` para el ejemplo de clasificación."
   ]
  },
  {
   "cell_type": "code",
   "execution_count": 3,
   "metadata": {},
   "outputs": [
    {
     "name": "stdout",
     "output_type": "stream",
     "text": [
      "Filas: 1070 Variables: 18\n"
     ]
    },
    {
     "data": {
      "text/html": [
       "<div>\n",
       "<style scoped>\n",
       "    .dataframe tbody tr th:only-of-type {\n",
       "        vertical-align: middle;\n",
       "    }\n",
       "\n",
       "    .dataframe tbody tr th {\n",
       "        vertical-align: top;\n",
       "    }\n",
       "\n",
       "    .dataframe thead th {\n",
       "        text-align: right;\n",
       "    }\n",
       "</style>\n",
       "<table border=\"1\" class=\"dataframe\">\n",
       "  <thead>\n",
       "    <tr style=\"text-align: right;\">\n",
       "      <th></th>\n",
       "      <th>Purchase</th>\n",
       "      <th>WeekofPurchase</th>\n",
       "      <th>StoreID</th>\n",
       "      <th>PriceCH</th>\n",
       "      <th>PriceMM</th>\n",
       "      <th>DiscCH</th>\n",
       "      <th>DiscMM</th>\n",
       "      <th>SpecialCH</th>\n",
       "      <th>SpecialMM</th>\n",
       "      <th>LoyalCH</th>\n",
       "      <th>SalePriceMM</th>\n",
       "      <th>SalePriceCH</th>\n",
       "      <th>PriceDiff</th>\n",
       "      <th>Store7</th>\n",
       "      <th>PctDiscMM</th>\n",
       "      <th>PctDiscCH</th>\n",
       "      <th>ListPriceDiff</th>\n",
       "      <th>STORE</th>\n",
       "    </tr>\n",
       "  </thead>\n",
       "  <tbody>\n",
       "    <tr>\n",
       "      <th>0</th>\n",
       "      <td>CH</td>\n",
       "      <td>237</td>\n",
       "      <td>1</td>\n",
       "      <td>1.75</td>\n",
       "      <td>1.99</td>\n",
       "      <td>0.00</td>\n",
       "      <td>0.0</td>\n",
       "      <td>0</td>\n",
       "      <td>0</td>\n",
       "      <td>0.500000</td>\n",
       "      <td>1.99</td>\n",
       "      <td>1.75</td>\n",
       "      <td>0.24</td>\n",
       "      <td>No</td>\n",
       "      <td>0.000000</td>\n",
       "      <td>0.000000</td>\n",
       "      <td>0.24</td>\n",
       "      <td>1</td>\n",
       "    </tr>\n",
       "    <tr>\n",
       "      <th>1</th>\n",
       "      <td>CH</td>\n",
       "      <td>239</td>\n",
       "      <td>1</td>\n",
       "      <td>1.75</td>\n",
       "      <td>1.99</td>\n",
       "      <td>0.00</td>\n",
       "      <td>0.3</td>\n",
       "      <td>0</td>\n",
       "      <td>1</td>\n",
       "      <td>0.600000</td>\n",
       "      <td>1.69</td>\n",
       "      <td>1.75</td>\n",
       "      <td>-0.06</td>\n",
       "      <td>No</td>\n",
       "      <td>0.150754</td>\n",
       "      <td>0.000000</td>\n",
       "      <td>0.24</td>\n",
       "      <td>1</td>\n",
       "    </tr>\n",
       "    <tr>\n",
       "      <th>2</th>\n",
       "      <td>CH</td>\n",
       "      <td>245</td>\n",
       "      <td>1</td>\n",
       "      <td>1.86</td>\n",
       "      <td>2.09</td>\n",
       "      <td>0.17</td>\n",
       "      <td>0.0</td>\n",
       "      <td>0</td>\n",
       "      <td>0</td>\n",
       "      <td>0.680000</td>\n",
       "      <td>2.09</td>\n",
       "      <td>1.69</td>\n",
       "      <td>0.40</td>\n",
       "      <td>No</td>\n",
       "      <td>0.000000</td>\n",
       "      <td>0.091398</td>\n",
       "      <td>0.23</td>\n",
       "      <td>1</td>\n",
       "    </tr>\n",
       "    <tr>\n",
       "      <th>3</th>\n",
       "      <td>MM</td>\n",
       "      <td>227</td>\n",
       "      <td>1</td>\n",
       "      <td>1.69</td>\n",
       "      <td>1.69</td>\n",
       "      <td>0.00</td>\n",
       "      <td>0.0</td>\n",
       "      <td>0</td>\n",
       "      <td>0</td>\n",
       "      <td>0.400000</td>\n",
       "      <td>1.69</td>\n",
       "      <td>1.69</td>\n",
       "      <td>0.00</td>\n",
       "      <td>No</td>\n",
       "      <td>0.000000</td>\n",
       "      <td>0.000000</td>\n",
       "      <td>0.00</td>\n",
       "      <td>1</td>\n",
       "    </tr>\n",
       "    <tr>\n",
       "      <th>4</th>\n",
       "      <td>CH</td>\n",
       "      <td>228</td>\n",
       "      <td>7</td>\n",
       "      <td>1.69</td>\n",
       "      <td>1.69</td>\n",
       "      <td>0.00</td>\n",
       "      <td>0.0</td>\n",
       "      <td>0</td>\n",
       "      <td>0</td>\n",
       "      <td>0.956535</td>\n",
       "      <td>1.69</td>\n",
       "      <td>1.69</td>\n",
       "      <td>0.00</td>\n",
       "      <td>Yes</td>\n",
       "      <td>0.000000</td>\n",
       "      <td>0.000000</td>\n",
       "      <td>0.00</td>\n",
       "      <td>0</td>\n",
       "    </tr>\n",
       "  </tbody>\n",
       "</table>\n",
       "</div>"
      ],
      "text/plain": [
       "  Purchase  WeekofPurchase  StoreID  PriceCH  PriceMM  DiscCH  DiscMM  \\\n",
       "0       CH             237        1     1.75     1.99    0.00     0.0   \n",
       "1       CH             239        1     1.75     1.99    0.00     0.3   \n",
       "2       CH             245        1     1.86     2.09    0.17     0.0   \n",
       "3       MM             227        1     1.69     1.69    0.00     0.0   \n",
       "4       CH             228        7     1.69     1.69    0.00     0.0   \n",
       "\n",
       "   SpecialCH  SpecialMM   LoyalCH  SalePriceMM  SalePriceCH  PriceDiff Store7  \\\n",
       "0          0          0  0.500000         1.99         1.75       0.24     No   \n",
       "1          0          1  0.600000         1.69         1.75      -0.06     No   \n",
       "2          0          0  0.680000         2.09         1.69       0.40     No   \n",
       "3          0          0  0.400000         1.69         1.69       0.00     No   \n",
       "4          0          0  0.956535         1.69         1.69       0.00    Yes   \n",
       "\n",
       "   PctDiscMM  PctDiscCH  ListPriceDiff  STORE  \n",
       "0   0.000000   0.000000           0.24      1  \n",
       "1   0.150754   0.000000           0.24      1  \n",
       "2   0.000000   0.091398           0.23      1  \n",
       "3   0.000000   0.000000           0.00      1  \n",
       "4   0.000000   0.000000           0.00      0  "
      ]
     },
     "execution_count": 3,
     "metadata": {},
     "output_type": "execute_result"
    }
   ],
   "source": [
    "# Importamos el set de datos OJ desde un CSV\n",
    "datos_oj = pd.read_csv('OJ.csv')\n",
    "print('Filas:', datos_oj.shape[0], 'Variables:', datos_oj.shape[1])\n",
    "datos_oj.head()"
   ]
  },
  {
   "cell_type": "markdown",
   "metadata": {},
   "source": [
    "###  Estadísticos"
   ]
  },
  {
   "cell_type": "code",
   "execution_count": 4,
   "metadata": {},
   "outputs": [
    {
     "data": {
      "text/html": [
       "<div>\n",
       "<style scoped>\n",
       "    .dataframe tbody tr th:only-of-type {\n",
       "        vertical-align: middle;\n",
       "    }\n",
       "\n",
       "    .dataframe tbody tr th {\n",
       "        vertical-align: top;\n",
       "    }\n",
       "\n",
       "    .dataframe thead th {\n",
       "        text-align: right;\n",
       "    }\n",
       "</style>\n",
       "<table border=\"1\" class=\"dataframe\">\n",
       "  <thead>\n",
       "    <tr style=\"text-align: right;\">\n",
       "      <th></th>\n",
       "      <th>WeekofPurchase</th>\n",
       "      <th>StoreID</th>\n",
       "      <th>PriceCH</th>\n",
       "      <th>PriceMM</th>\n",
       "      <th>DiscCH</th>\n",
       "      <th>DiscMM</th>\n",
       "      <th>SpecialCH</th>\n",
       "      <th>SpecialMM</th>\n",
       "      <th>LoyalCH</th>\n",
       "      <th>SalePriceMM</th>\n",
       "      <th>SalePriceCH</th>\n",
       "      <th>PriceDiff</th>\n",
       "      <th>PctDiscMM</th>\n",
       "      <th>PctDiscCH</th>\n",
       "      <th>ListPriceDiff</th>\n",
       "      <th>STORE</th>\n",
       "    </tr>\n",
       "  </thead>\n",
       "  <tbody>\n",
       "    <tr>\n",
       "      <th>count</th>\n",
       "      <td>1070.000000</td>\n",
       "      <td>1070.000000</td>\n",
       "      <td>1070.000000</td>\n",
       "      <td>1070.000000</td>\n",
       "      <td>1070.000000</td>\n",
       "      <td>1070.000000</td>\n",
       "      <td>1070.000000</td>\n",
       "      <td>1070.000000</td>\n",
       "      <td>1070.000000</td>\n",
       "      <td>1070.000000</td>\n",
       "      <td>1070.000000</td>\n",
       "      <td>1070.000000</td>\n",
       "      <td>1070.000000</td>\n",
       "      <td>1070.000000</td>\n",
       "      <td>1070.000000</td>\n",
       "      <td>1070.000000</td>\n",
       "    </tr>\n",
       "    <tr>\n",
       "      <th>mean</th>\n",
       "      <td>254.381308</td>\n",
       "      <td>3.959813</td>\n",
       "      <td>1.867421</td>\n",
       "      <td>2.085411</td>\n",
       "      <td>0.051860</td>\n",
       "      <td>0.123364</td>\n",
       "      <td>0.147664</td>\n",
       "      <td>0.161682</td>\n",
       "      <td>0.565782</td>\n",
       "      <td>1.962047</td>\n",
       "      <td>1.815561</td>\n",
       "      <td>0.146486</td>\n",
       "      <td>0.059298</td>\n",
       "      <td>0.027314</td>\n",
       "      <td>0.217991</td>\n",
       "      <td>1.630841</td>\n",
       "    </tr>\n",
       "    <tr>\n",
       "      <th>std</th>\n",
       "      <td>15.558286</td>\n",
       "      <td>2.308984</td>\n",
       "      <td>0.101970</td>\n",
       "      <td>0.134386</td>\n",
       "      <td>0.117474</td>\n",
       "      <td>0.213834</td>\n",
       "      <td>0.354932</td>\n",
       "      <td>0.368331</td>\n",
       "      <td>0.307843</td>\n",
       "      <td>0.252697</td>\n",
       "      <td>0.143384</td>\n",
       "      <td>0.271563</td>\n",
       "      <td>0.101760</td>\n",
       "      <td>0.062232</td>\n",
       "      <td>0.107535</td>\n",
       "      <td>1.430387</td>\n",
       "    </tr>\n",
       "    <tr>\n",
       "      <th>min</th>\n",
       "      <td>227.000000</td>\n",
       "      <td>1.000000</td>\n",
       "      <td>1.690000</td>\n",
       "      <td>1.690000</td>\n",
       "      <td>0.000000</td>\n",
       "      <td>0.000000</td>\n",
       "      <td>0.000000</td>\n",
       "      <td>0.000000</td>\n",
       "      <td>0.000011</td>\n",
       "      <td>1.190000</td>\n",
       "      <td>1.390000</td>\n",
       "      <td>-0.670000</td>\n",
       "      <td>0.000000</td>\n",
       "      <td>0.000000</td>\n",
       "      <td>0.000000</td>\n",
       "      <td>0.000000</td>\n",
       "    </tr>\n",
       "    <tr>\n",
       "      <th>25%</th>\n",
       "      <td>240.000000</td>\n",
       "      <td>2.000000</td>\n",
       "      <td>1.790000</td>\n",
       "      <td>1.990000</td>\n",
       "      <td>0.000000</td>\n",
       "      <td>0.000000</td>\n",
       "      <td>0.000000</td>\n",
       "      <td>0.000000</td>\n",
       "      <td>0.325257</td>\n",
       "      <td>1.690000</td>\n",
       "      <td>1.750000</td>\n",
       "      <td>0.000000</td>\n",
       "      <td>0.000000</td>\n",
       "      <td>0.000000</td>\n",
       "      <td>0.140000</td>\n",
       "      <td>0.000000</td>\n",
       "    </tr>\n",
       "    <tr>\n",
       "      <th>50%</th>\n",
       "      <td>257.000000</td>\n",
       "      <td>3.000000</td>\n",
       "      <td>1.860000</td>\n",
       "      <td>2.090000</td>\n",
       "      <td>0.000000</td>\n",
       "      <td>0.000000</td>\n",
       "      <td>0.000000</td>\n",
       "      <td>0.000000</td>\n",
       "      <td>0.600000</td>\n",
       "      <td>2.090000</td>\n",
       "      <td>1.860000</td>\n",
       "      <td>0.230000</td>\n",
       "      <td>0.000000</td>\n",
       "      <td>0.000000</td>\n",
       "      <td>0.240000</td>\n",
       "      <td>2.000000</td>\n",
       "    </tr>\n",
       "    <tr>\n",
       "      <th>75%</th>\n",
       "      <td>268.000000</td>\n",
       "      <td>7.000000</td>\n",
       "      <td>1.990000</td>\n",
       "      <td>2.180000</td>\n",
       "      <td>0.000000</td>\n",
       "      <td>0.230000</td>\n",
       "      <td>0.000000</td>\n",
       "      <td>0.000000</td>\n",
       "      <td>0.850873</td>\n",
       "      <td>2.130000</td>\n",
       "      <td>1.890000</td>\n",
       "      <td>0.320000</td>\n",
       "      <td>0.112676</td>\n",
       "      <td>0.000000</td>\n",
       "      <td>0.300000</td>\n",
       "      <td>3.000000</td>\n",
       "    </tr>\n",
       "    <tr>\n",
       "      <th>max</th>\n",
       "      <td>278.000000</td>\n",
       "      <td>7.000000</td>\n",
       "      <td>2.090000</td>\n",
       "      <td>2.290000</td>\n",
       "      <td>0.500000</td>\n",
       "      <td>0.800000</td>\n",
       "      <td>1.000000</td>\n",
       "      <td>1.000000</td>\n",
       "      <td>0.999947</td>\n",
       "      <td>2.290000</td>\n",
       "      <td>2.090000</td>\n",
       "      <td>0.640000</td>\n",
       "      <td>0.402010</td>\n",
       "      <td>0.252688</td>\n",
       "      <td>0.440000</td>\n",
       "      <td>4.000000</td>\n",
       "    </tr>\n",
       "  </tbody>\n",
       "</table>\n",
       "</div>"
      ],
      "text/plain": [
       "       WeekofPurchase      StoreID      PriceCH      PriceMM       DiscCH  \\\n",
       "count     1070.000000  1070.000000  1070.000000  1070.000000  1070.000000   \n",
       "mean       254.381308     3.959813     1.867421     2.085411     0.051860   \n",
       "std         15.558286     2.308984     0.101970     0.134386     0.117474   \n",
       "min        227.000000     1.000000     1.690000     1.690000     0.000000   \n",
       "25%        240.000000     2.000000     1.790000     1.990000     0.000000   \n",
       "50%        257.000000     3.000000     1.860000     2.090000     0.000000   \n",
       "75%        268.000000     7.000000     1.990000     2.180000     0.000000   \n",
       "max        278.000000     7.000000     2.090000     2.290000     0.500000   \n",
       "\n",
       "            DiscMM    SpecialCH    SpecialMM      LoyalCH  SalePriceMM  \\\n",
       "count  1070.000000  1070.000000  1070.000000  1070.000000  1070.000000   \n",
       "mean      0.123364     0.147664     0.161682     0.565782     1.962047   \n",
       "std       0.213834     0.354932     0.368331     0.307843     0.252697   \n",
       "min       0.000000     0.000000     0.000000     0.000011     1.190000   \n",
       "25%       0.000000     0.000000     0.000000     0.325257     1.690000   \n",
       "50%       0.000000     0.000000     0.000000     0.600000     2.090000   \n",
       "75%       0.230000     0.000000     0.000000     0.850873     2.130000   \n",
       "max       0.800000     1.000000     1.000000     0.999947     2.290000   \n",
       "\n",
       "       SalePriceCH    PriceDiff    PctDiscMM    PctDiscCH  ListPriceDiff  \\\n",
       "count  1070.000000  1070.000000  1070.000000  1070.000000    1070.000000   \n",
       "mean      1.815561     0.146486     0.059298     0.027314       0.217991   \n",
       "std       0.143384     0.271563     0.101760     0.062232       0.107535   \n",
       "min       1.390000    -0.670000     0.000000     0.000000       0.000000   \n",
       "25%       1.750000     0.000000     0.000000     0.000000       0.140000   \n",
       "50%       1.860000     0.230000     0.000000     0.000000       0.240000   \n",
       "75%       1.890000     0.320000     0.112676     0.000000       0.300000   \n",
       "max       2.090000     0.640000     0.402010     0.252688       0.440000   \n",
       "\n",
       "             STORE  \n",
       "count  1070.000000  \n",
       "mean      1.630841  \n",
       "std       1.430387  \n",
       "min       0.000000  \n",
       "25%       0.000000  \n",
       "50%       2.000000  \n",
       "75%       3.000000  \n",
       "max       4.000000  "
      ]
     },
     "execution_count": 4,
     "metadata": {},
     "output_type": "execute_result"
    }
   ],
   "source": [
    "datos_oj.describe()"
   ]
  },
  {
   "cell_type": "markdown",
   "metadata": {},
   "source": [
    "### Distribución de la variable respuesta \"Purchase\""
   ]
  },
  {
   "cell_type": "code",
   "execution_count": 5,
   "metadata": {},
   "outputs": [
    {
     "data": {
      "text/plain": [
       "<matplotlib.axes._subplots.AxesSubplot at 0x50030b8>"
      ]
     },
     "execution_count": 5,
     "metadata": {},
     "output_type": "execute_result"
    },
    {
     "data": {
      "image/png": "[encoded data removed]",
      "text/plain": [
       "<Figure size 432x288 with 1 Axes>"
      ]
     },
     "metadata": {},
     "output_type": "display_data"
    }
   ],
   "source": [
    "datos_oj['Purchase'].value_counts().plot(kind='bar')"
   ]
  },
  {
   "cell_type": "code",
   "execution_count": 6,
   "metadata": {},
   "outputs": [
    {
     "name": "stdout",
     "output_type": "stream",
     "text": [
      "CH    653\n",
      "MM    417\n",
      "Name: Purchase, dtype: int64\n"
     ]
    },
    {
     "data": {
      "text/plain": [
       "CH    61.028037\n",
       "MM    38.971963\n",
       "Name: Purchase, dtype: float64"
      ]
     },
     "execution_count": 6,
     "metadata": {},
     "output_type": "execute_result"
    }
   ],
   "source": [
    "# Numero y porcentaje de observaciones por clase\n",
    "print(datos_oj.Purchase.value_counts())\n",
    "datos_oj.Purchase.value_counts(normalize=True)*100"
   ]
  },
  {
   "cell_type": "markdown",
   "metadata": {},
   "source": [
    "## División entrenamiento-test"
   ]
  },
  {
   "cell_type": "code",
   "execution_count": 7,
   "metadata": {},
   "outputs": [],
   "source": [
    "# Separamos los predictores (X) de la variable respuesta (y)\n",
    "X = datos_oj.loc[:, datos_oj.columns != 'Purchase']\n",
    "y = datos_oj['Purchase']\n",
    "\n",
    "# Dividimos los datos en entrenamiento (80%) y test (20%) de forma aleatoria\n",
    "X_train, X_test, y_train, y_test = model_selection.train_test_split(X, y, random_state=0, test_size=0.2)"
   ]
  },
  {
   "cell_type": "markdown",
   "metadata": {},
   "source": [
    "## Codificación\n",
    "\n",
    "Las variables predictoras de tipo _string_ o _factor_ (en este caso _Store7_) se codifican a tipo numérico."
   ]
  },
  {
   "cell_type": "code",
   "execution_count": 8,
   "metadata": {},
   "outputs": [],
   "source": [
    "# Codificamos la variable categorica predictora \"Store7\" a numerica\n",
    "encoder = preprocessing.LabelEncoder()\n",
    "X_train['Store7'] = encoder.fit_transform(X_train['Store7'])\n",
    "X_test['Store7'] = encoder.fit_transform(X_test['Store7'])"
   ]
  },
  {
   "cell_type": "markdown",
   "metadata": {},
   "source": [
    "## Estandarización\n",
    "\n",
    "Para ajustar un modelo SVM, es importante aplicar una previa estandarización a los datos. Los parámetros para estandarizarlos se generan con la función `StandardScaler()` a partir de los datos de entrenamiento para no incluir información de los datos de test en el proceso. A continuación se aplica la estandarización tanto a los datos de entrenamiento como los de test:"
   ]
  },
  {
   "cell_type": "code",
   "execution_count": 9,
   "metadata": {},
   "outputs": [],
   "source": [
    "# Estandarizamos las variables predictoras del subconjunto train y test\n",
    "estandarizador = preprocessing.StandardScaler().fit(X_train)\n",
    "X_train = estandarizador.transform(X_train)\n",
    "X_test = estandarizador.transform(X_test)"
   ]
  },
  {
   "cell_type": "code",
   "execution_count": 11,
   "metadata": {},
   "outputs": [
    {
     "name": "stdout",
     "output_type": "stream",
     "text": [
      "Media de cada predictor\n",
      ": [2.54589953e+02 3.97196262e+00 1.86849299e+00 2.08650701e+00\n",
      " 5.32476636e-02 1.20911215e-01 1.44859813e-01 1.60046729e-01\n",
      " 5.74562488e-01 1.96559579e+00 1.81524533e+00 1.50350467e-01\n",
      " 3.35280374e-01 5.81584953e-02 2.80259451e-02 2.18014019e-01\n",
      " 1.62500000e+00] \n",
      "Std de cada predictor:\n",
      " [2.38641441e+02 5.35201764e+00 1.01716775e-02 1.77668878e-02\n",
      " 1.40434246e-02 4.41501043e-02 1.23875448e-01 1.34431774e-01\n",
      " 9.50908352e-02 6.25255796e-02 2.04564819e-02 7.08120267e-02\n",
      " 2.22867445e-01 9.99634549e-03 3.93974127e-03 1.15100746e-02\n",
      " 2.05914136e+00]\n"
     ]
    }
   ],
   "source": [
    "# Media y std utilizado para estandarizar cada predictor\n",
    "print('Media de cada predictor\\n:', estandarizador.mean_, \n",
    "      \"\\nStd de cada predictor:\\n\", estandarizador.var_)"
   ]
  },
  {
   "cell_type": "markdown",
   "metadata": {},
   "source": [
    "## **Máquina de vector soporte (kernel=lineal)**\n",
    "\n",
    "Para ajustar un modelo SVM, implementaremos la clase `sklearn.svm.SVC`: https://scikit-learn.org/stable/modules/generated/sklearn.svm.SVC.html\n",
    "\n",
    "Entre sus parámetros, encontramos:\n",
    "\n",
    "- `C`: parámetro de penalización.\n",
    "- `kernel`: especifica el tipo de kernel usado por el algoritmo (lineal, polinómico, radial, etc.).\n",
    "- `degree`: grado de la función con kernel polinómico.\n",
    "- `gamma`: coeficiente del kernel para ‘rbf’, ‘poly’ y ‘sigmoid’.\n",
    "- `probability`: indica si se permite la estimación de probabilidades.\n",
    "- `max_iter`: límite de iteraciones.\n",
    "- `decision_function_shape`: permite establecer el método one-vs-one o one-vs-all.\n",
    "- `random_state`: semilla para el generador de número pseudoaleatorios."
   ]
  },
  {
   "cell_type": "markdown",
   "metadata": {},
   "source": [
    "### Búsqueda de hiperparámetros y ajuste\n",
    "\n",
    "Para ajustar un SVM con límite de clasificación lineal, aplicaremos una optimización del hiperparámetro de coste `C`:"
   ]
  },
  {
   "cell_type": "code",
   "execution_count": 12,
   "metadata": {},
   "outputs": [
    {
     "data": {
      "text/plain": [
       "GridSearchCV(cv=10, error_score=nan,\n",
       "             estimator=SVC(C=1.0, break_ties=False, cache_size=200,\n",
       "                           class_weight=None, coef0=0.0,\n",
       "                           decision_function_shape='ovr', degree=3,\n",
       "                           gamma='scale', kernel='linear', max_iter=-1,\n",
       "                           probability=False, random_state=0, shrinking=True,\n",
       "                           tol=0.001, verbose=False),\n",
       "             iid='deprecated', n_jobs=-1,\n",
       "             param_grid={'C': [0.001, 0.01, 0.1, 0.3, 0.5, 1, 2, 3, 4, 5, 7,\n",
       "                               10]},\n",
       "             pre_dispatch='2*n_jobs', refit='accuracy',\n",
       "             return_train_score=False, scoring=['roc_auc', 'accuracy'],\n",
       "             verbose=0)"
      ]
     },
     "execution_count": 12,
     "metadata": {},
     "output_type": "execute_result"
    }
   ],
   "source": [
    "from sklearn import svm\n",
    "\n",
    "# Establecemos un grid con los valores de coste que queremos evaluar\n",
    "grid_hiperparametros = {'C': [0.001, 0.01, 0.1, 0.3, 0.5, 1, 2, 3, 4, 5, 7, 10]} \n",
    "\n",
    "# Definimos las metricas sobre las que queremos evaluar\n",
    "metricas = ['roc_auc', 'accuracy']\n",
    "\n",
    "# Definimos la busqueda mediante 10-fold CV\n",
    "busqueda_grid = GridSearchCV(estimator = svm.SVC(kernel='linear', random_state = 0), \n",
    "                             param_grid = grid_hiperparametros, \n",
    "                             cv = 10, #folds\n",
    "                             scoring = metricas, \n",
    "                             refit='accuracy',\n",
    "                             #return_train_score = True,\n",
    "                             n_jobs = -1)\n",
    "\n",
    "\n",
    "# Aplicamos la busqueda\n",
    "busqueda_grid.fit(X_train, y_train)"
   ]
  },
  {
   "cell_type": "code",
   "execution_count": 13,
   "metadata": {},
   "outputs": [
    {
     "data": {
      "text/plain": [
       "dict_keys(['mean_fit_time', 'std_fit_time', 'mean_score_time', 'std_score_time', 'param_C', 'params', 'split0_test_roc_auc', 'split1_test_roc_auc', 'split2_test_roc_auc', 'split3_test_roc_auc', 'split4_test_roc_auc', 'split5_test_roc_auc', 'split6_test_roc_auc', 'split7_test_roc_auc', 'split8_test_roc_auc', 'split9_test_roc_auc', 'mean_test_roc_auc', 'std_test_roc_auc', 'rank_test_roc_auc', 'split0_test_accuracy', 'split1_test_accuracy', 'split2_test_accuracy', 'split3_test_accuracy', 'split4_test_accuracy', 'split5_test_accuracy', 'split6_test_accuracy', 'split7_test_accuracy', 'split8_test_accuracy', 'split9_test_accuracy', 'mean_test_accuracy', 'std_test_accuracy', 'rank_test_accuracy'])"
      ]
     },
     "execution_count": 13,
     "metadata": {},
     "output_type": "execute_result"
    }
   ],
   "source": [
    "# Valores que devuelve la busqueda grid\n",
    "busqueda_grid.cv_results_.keys()"
   ]
  },
  {
   "cell_type": "code",
   "execution_count": 15,
   "metadata": {},
   "outputs": [
    {
     "data": {
      "image/png": "[encoded data removed]",
      "text/plain": [
       "<Figure size 432x288 with 1 Axes>"
      ]
     },
     "metadata": {},
     "output_type": "display_data"
    },
    {
     "name": "stdout",
     "output_type": "stream",
     "text": [
      "Valor de coste y grado óptimos: {'C': 3} \n",
      "Accuracy asociado +- std: 0.838 +- 0.045\n"
     ]
    }
   ],
   "source": [
    "# Almacenamos en variables los resultados de la busqueda grid\n",
    "C_cv = busqueda_grid.cv_results_['param_C'].tolist()\n",
    "\n",
    "accuracy_medio_cv = busqueda_grid.cv_results_['mean_test_accuracy'].tolist()\n",
    "accuracy_std_cv = busqueda_grid.cv_results_['std_test_accuracy'].tolist()\n",
    "\n",
    "roc_medio_cv = busqueda_grid.cv_results_['mean_test_roc_auc'].tolist()\n",
    "roc_std_cv = busqueda_grid.cv_results_['std_test_roc_auc'].tolist()\n",
    "\n",
    "# Grafico evolucion del Accuracy en funcion del coste en validacion cruzada\n",
    "plt.figure()\n",
    "plt.plot(x = C_cv, y = accuracy_medio_cv)\n",
    "plt.errorbar(x = C_cv, \n",
    "             y = accuracy_medio_cv, \n",
    "             yerr = accuracy_std_cv, \n",
    "             ecolor = 'black', \n",
    "             elinewidth = 0.7,\n",
    "             capsize = 5,\n",
    "             label = 'Accuracy')\n",
    "plt.errorbar(x = C_cv, \n",
    "             y = roc_medio_cv, \n",
    "             yerr = roc_std_cv, \n",
    "             ecolor = 'red', \n",
    "             elinewidth = 0.7, \n",
    "             capsize = 5,\n",
    "             label = 'ROC')\n",
    "plt.title(\"SVM lineal: Accuracy y ROC ~ coste (10-fold cv)\")\n",
    "plt.xlabel('Coste (C)')\n",
    "#plt.ylabel('')\n",
    "#plt.ylim((0, 1))\n",
    "plt.legend()\n",
    "plt.show()\n",
    "\n",
    "# Mejores hiperparametros sobre los datos hold-out\n",
    "print('Valor de coste y grado óptimos:', busqueda_grid.best_params_,\n",
    "     '\\nAccuracy asociado +- std:', round(busqueda_grid.cv_results_['mean_test_accuracy'][busqueda_grid.best_index_],3),\n",
    "     '+-', round(busqueda_grid.cv_results_['std_test_accuracy'][busqueda_grid.best_index_],3))"
   ]
  },
  {
   "cell_type": "code",
   "execution_count": 16,
   "metadata": {},
   "outputs": [
    {
     "data": {
      "text/plain": [
       "SVC(C=3, break_ties=False, cache_size=200, class_weight=None, coef0=0.0,\n",
       "    decision_function_shape='ovr', degree=3, gamma='scale', kernel='linear',\n",
       "    max_iter=-1, probability=False, random_state=0, shrinking=True, tol=0.001,\n",
       "    verbose=False)"
      ]
     },
     "execution_count": 16,
     "metadata": {},
     "output_type": "execute_result"
    }
   ],
   "source": [
    "# Ajustamos el modelo SVM lineal usando el valor de coste óptimo obtenido en cv\n",
    "modelo_svmL = svm.SVC(kernel='linear', \n",
    "                      C = busqueda_grid.best_params_.get('C'), #C=3\n",
    "                      random_state = 0) # semilla\n",
    "                     \n",
    "# Entrenamos el modelo con los datos de entrenamiento \n",
    "modelo_svmL.fit(X_train, y_train)"
   ]
  },
  {
   "cell_type": "code",
   "execution_count": 17,
   "metadata": {},
   "outputs": [
    {
     "name": "stdout",
     "output_type": "stream",
     "text": [
      "[173 174]\n"
     ]
    }
   ],
   "source": [
    "# Nº de vectores soporte para cada clase de la variable respuesta\n",
    "print(modelo_svmL.n_support_)"
   ]
  },
  {
   "cell_type": "markdown",
   "metadata": {},
   "source": [
    "### Evaluación"
   ]
  },
  {
   "cell_type": "code",
   "execution_count": 18,
   "metadata": {},
   "outputs": [
    {
     "name": "stdout",
     "output_type": "stream",
     "text": [
      "Métricas en test:\n",
      "               precision    recall  f1-score   support\n",
      "\n",
      "          CH       0.83      0.86      0.84       122\n",
      "          MM       0.80      0.76      0.78        92\n",
      "\n",
      "    accuracy                           0.82       214\n",
      "   macro avg       0.82      0.81      0.81       214\n",
      "weighted avg       0.82      0.82      0.82       214\n",
      "\n"
     ]
    },
    {
     "data": {
      "text/plain": [
       "<sklearn.metrics._plot.confusion_matrix.ConfusionMatrixDisplay at 0xc23b6d8>"
      ]
     },
     "execution_count": 18,
     "metadata": {},
     "output_type": "execute_result"
    },
    {
     "data": {
      "image/png": "[encoded data removed]",
      "text/plain": [
       "<Figure size 432x288 with 2 Axes>"
      ]
     },
     "metadata": {},
     "output_type": "display_data"
    }
   ],
   "source": [
    "# TEST\n",
    "\n",
    "# Obtenemos las predicciones del modelo sobre los datos de test\n",
    "y_pred = modelo_svmL.predict(X_test)\n",
    "\n",
    "# Metricas\n",
    "print('Métricas en test:\\n', classification_report(y_test, y_pred))\n",
    "\n",
    "# Matriz de confusion (0=CH, 1=MM)\n",
    "plot_confusion_matrix(modelo_svmL, X_test, y_test)"
   ]
  },
  {
   "cell_type": "markdown",
   "metadata": {},
   "source": [
    "## **Máquina de vector soporte (kernel=polinómico)**"
   ]
  },
  {
   "cell_type": "markdown",
   "metadata": {},
   "source": [
    "### Búsqueda de hiperparámetros y ajuste\n",
    "\n",
    "Para ajustar un SVM con límite de clasificación no lineal y kernel polinómico, aplicaremos una optimización del hiperparámetro de coste `C` y grado o `degree`:"
   ]
  },
  {
   "cell_type": "code",
   "execution_count": 19,
   "metadata": {},
   "outputs": [
    {
     "data": {
      "text/plain": [
       "GridSearchCV(cv=10, error_score=nan,\n",
       "             estimator=SVC(C=1.0, break_ties=False, cache_size=200,\n",
       "                           class_weight=None, coef0=0.0,\n",
       "                           decision_function_shape='ovr', degree=3,\n",
       "                           gamma='scale', kernel='poly', max_iter=-1,\n",
       "                           probability=False, random_state=0, shrinking=True,\n",
       "                           tol=0.001, verbose=False),\n",
       "             iid='deprecated', n_jobs=-1,\n",
       "             param_grid={'C': [0.001, 0.01, 0.1, 0.3, 0.5, 1, 2, 3, 4, 5, 7,\n",
       "                               10],\n",
       "                         'degree': [2, 3]},\n",
       "             pre_dispatch='2*n_jobs', refit='accuracy',\n",
       "             return_train_score=False, scoring=['roc_auc', 'accuracy'],\n",
       "             verbose=0)"
      ]
     },
     "execution_count": 19,
     "metadata": {},
     "output_type": "execute_result"
    }
   ],
   "source": [
    "# Establecemos un grid con los valores de coste que queremos evaluar\n",
    "grid_hiperparametros = {'C': [0.001, 0.01, 0.1, 0.3, 0.5, 1, 2, 3, 4, 5, 7, 10],\n",
    "                        'degree': [2, 3]} \n",
    "\n",
    "# Definimos las metricas sobre las que queremos evaluar\n",
    "metricas = ['roc_auc', 'accuracy']\n",
    "\n",
    "# Definimos la busqueda mediante 10-fold CV\n",
    "busqueda_grid = GridSearchCV(estimator = svm.SVC(kernel='poly', random_state = 0), \n",
    "                             param_grid = grid_hiperparametros, \n",
    "                             cv = 10, #folds\n",
    "                             scoring = metricas, \n",
    "                             refit = 'accuracy',\n",
    "                             #return_train_score = True,\n",
    "                             n_jobs = -1)\n",
    "\n",
    "\n",
    "# Aplicamos la busqueda\n",
    "busqueda_grid.fit(X_train, y_train)"
   ]
  },
  {
   "cell_type": "code",
   "execution_count": 20,
   "metadata": {},
   "outputs": [
    {
     "data": {
      "text/plain": [
       "dict_keys(['mean_fit_time', 'std_fit_time', 'mean_score_time', 'std_score_time', 'param_C', 'param_degree', 'params', 'split0_test_roc_auc', 'split1_test_roc_auc', 'split2_test_roc_auc', 'split3_test_roc_auc', 'split4_test_roc_auc', 'split5_test_roc_auc', 'split6_test_roc_auc', 'split7_test_roc_auc', 'split8_test_roc_auc', 'split9_test_roc_auc', 'mean_test_roc_auc', 'std_test_roc_auc', 'rank_test_roc_auc', 'split0_test_accuracy', 'split1_test_accuracy', 'split2_test_accuracy', 'split3_test_accuracy', 'split4_test_accuracy', 'split5_test_accuracy', 'split6_test_accuracy', 'split7_test_accuracy', 'split8_test_accuracy', 'split9_test_accuracy', 'mean_test_accuracy', 'std_test_accuracy', 'rank_test_accuracy'])"
      ]
     },
     "execution_count": 20,
     "metadata": {},
     "output_type": "execute_result"
    }
   ],
   "source": [
    "# Valores que devuelve la busqueda grid\n",
    "busqueda_grid.cv_results_.keys()"
   ]
  },
  {
   "cell_type": "code",
   "execution_count": 21,
   "metadata": {
    "scrolled": true
   },
   "outputs": [
    {
     "data": {
      "text/html": [
       "<div>\n",
       "<style scoped>\n",
       "    .dataframe tbody tr th:only-of-type {\n",
       "        vertical-align: middle;\n",
       "    }\n",
       "\n",
       "    .dataframe tbody tr th {\n",
       "        vertical-align: top;\n",
       "    }\n",
       "\n",
       "    .dataframe thead th {\n",
       "        text-align: right;\n",
       "    }\n",
       "</style>\n",
       "<table border=\"1\" class=\"dataframe\">\n",
       "  <thead>\n",
       "    <tr style=\"text-align: right;\">\n",
       "      <th></th>\n",
       "      <th>C</th>\n",
       "      <th>degree</th>\n",
       "      <th>mean_accuracy</th>\n",
       "      <th>std_accuracy</th>\n",
       "    </tr>\n",
       "  </thead>\n",
       "  <tbody>\n",
       "    <tr>\n",
       "      <th>0</th>\n",
       "      <td>0.001</td>\n",
       "      <td>2</td>\n",
       "      <td>0.620342</td>\n",
       "      <td>0.004247</td>\n",
       "    </tr>\n",
       "    <tr>\n",
       "      <th>1</th>\n",
       "      <td>0.001</td>\n",
       "      <td>3</td>\n",
       "      <td>0.620342</td>\n",
       "      <td>0.004247</td>\n",
       "    </tr>\n",
       "    <tr>\n",
       "      <th>2</th>\n",
       "      <td>0.010</td>\n",
       "      <td>2</td>\n",
       "      <td>0.620342</td>\n",
       "      <td>0.004247</td>\n",
       "    </tr>\n",
       "    <tr>\n",
       "      <th>3</th>\n",
       "      <td>0.010</td>\n",
       "      <td>3</td>\n",
       "      <td>0.639111</td>\n",
       "      <td>0.023869</td>\n",
       "    </tr>\n",
       "    <tr>\n",
       "      <th>4</th>\n",
       "      <td>0.100</td>\n",
       "      <td>2</td>\n",
       "      <td>0.677770</td>\n",
       "      <td>0.052241</td>\n",
       "    </tr>\n",
       "    <tr>\n",
       "      <th>5</th>\n",
       "      <td>0.100</td>\n",
       "      <td>3</td>\n",
       "      <td>0.730192</td>\n",
       "      <td>0.042921</td>\n",
       "    </tr>\n",
       "    <tr>\n",
       "      <th>6</th>\n",
       "      <td>0.300</td>\n",
       "      <td>2</td>\n",
       "      <td>0.729152</td>\n",
       "      <td>0.043166</td>\n",
       "    </tr>\n",
       "    <tr>\n",
       "      <th>7</th>\n",
       "      <td>0.300</td>\n",
       "      <td>3</td>\n",
       "      <td>0.795595</td>\n",
       "      <td>0.043321</td>\n",
       "    </tr>\n",
       "    <tr>\n",
       "      <th>8</th>\n",
       "      <td>0.500</td>\n",
       "      <td>2</td>\n",
       "      <td>0.759466</td>\n",
       "      <td>0.043004</td>\n",
       "    </tr>\n",
       "    <tr>\n",
       "      <th>9</th>\n",
       "      <td>0.500</td>\n",
       "      <td>3</td>\n",
       "      <td>0.803653</td>\n",
       "      <td>0.045308</td>\n",
       "    </tr>\n",
       "    <tr>\n",
       "      <th>10</th>\n",
       "      <td>1.000</td>\n",
       "      <td>2</td>\n",
       "      <td>0.758235</td>\n",
       "      <td>0.037214</td>\n",
       "    </tr>\n",
       "    <tr>\n",
       "      <th>11</th>\n",
       "      <td>1.000</td>\n",
       "      <td>3</td>\n",
       "      <td>0.811819</td>\n",
       "      <td>0.052249</td>\n",
       "    </tr>\n",
       "    <tr>\n",
       "      <th>12</th>\n",
       "      <td>2.000</td>\n",
       "      <td>2</td>\n",
       "      <td>0.761751</td>\n",
       "      <td>0.040386</td>\n",
       "    </tr>\n",
       "    <tr>\n",
       "      <th>13</th>\n",
       "      <td>2.000</td>\n",
       "      <td>3</td>\n",
       "      <td>0.814131</td>\n",
       "      <td>0.050822</td>\n",
       "    </tr>\n",
       "    <tr>\n",
       "      <th>14</th>\n",
       "      <td>3.000</td>\n",
       "      <td>2</td>\n",
       "      <td>0.762914</td>\n",
       "      <td>0.044290</td>\n",
       "    </tr>\n",
       "    <tr>\n",
       "      <th>15</th>\n",
       "      <td>3.000</td>\n",
       "      <td>3</td>\n",
       "      <td>0.821149</td>\n",
       "      <td>0.048708</td>\n",
       "    </tr>\n",
       "    <tr>\n",
       "      <th>16</th>\n",
       "      <td>4.000</td>\n",
       "      <td>2</td>\n",
       "      <td>0.762900</td>\n",
       "      <td>0.039457</td>\n",
       "    </tr>\n",
       "    <tr>\n",
       "      <th>17</th>\n",
       "      <td>4.000</td>\n",
       "      <td>3</td>\n",
       "      <td>0.819986</td>\n",
       "      <td>0.048169</td>\n",
       "    </tr>\n",
       "    <tr>\n",
       "      <th>18</th>\n",
       "      <td>5.000</td>\n",
       "      <td>2</td>\n",
       "      <td>0.761724</td>\n",
       "      <td>0.040222</td>\n",
       "    </tr>\n",
       "    <tr>\n",
       "      <th>19</th>\n",
       "      <td>5.000</td>\n",
       "      <td>3</td>\n",
       "      <td>0.821163</td>\n",
       "      <td>0.046039</td>\n",
       "    </tr>\n",
       "    <tr>\n",
       "      <th>20</th>\n",
       "      <td>7.000</td>\n",
       "      <td>2</td>\n",
       "      <td>0.765239</td>\n",
       "      <td>0.034819</td>\n",
       "    </tr>\n",
       "    <tr>\n",
       "      <th>21</th>\n",
       "      <td>7.000</td>\n",
       "      <td>3</td>\n",
       "      <td>0.819973</td>\n",
       "      <td>0.049570</td>\n",
       "    </tr>\n",
       "    <tr>\n",
       "      <th>22</th>\n",
       "      <td>10.000</td>\n",
       "      <td>2</td>\n",
       "      <td>0.772244</td>\n",
       "      <td>0.032749</td>\n",
       "    </tr>\n",
       "    <tr>\n",
       "      <th>23</th>\n",
       "      <td>10.000</td>\n",
       "      <td>3</td>\n",
       "      <td>0.821149</td>\n",
       "      <td>0.041662</td>\n",
       "    </tr>\n",
       "  </tbody>\n",
       "</table>\n",
       "</div>"
      ],
      "text/plain": [
       "         C  degree  mean_accuracy  std_accuracy\n",
       "0    0.001       2       0.620342      0.004247\n",
       "1    0.001       3       0.620342      0.004247\n",
       "2    0.010       2       0.620342      0.004247\n",
       "3    0.010       3       0.639111      0.023869\n",
       "4    0.100       2       0.677770      0.052241\n",
       "5    0.100       3       0.730192      0.042921\n",
       "6    0.300       2       0.729152      0.043166\n",
       "7    0.300       3       0.795595      0.043321\n",
       "8    0.500       2       0.759466      0.043004\n",
       "9    0.500       3       0.803653      0.045308\n",
       "10   1.000       2       0.758235      0.037214\n",
       "11   1.000       3       0.811819      0.052249\n",
       "12   2.000       2       0.761751      0.040386\n",
       "13   2.000       3       0.814131      0.050822\n",
       "14   3.000       2       0.762914      0.044290\n",
       "15   3.000       3       0.821149      0.048708\n",
       "16   4.000       2       0.762900      0.039457\n",
       "17   4.000       3       0.819986      0.048169\n",
       "18   5.000       2       0.761724      0.040222\n",
       "19   5.000       3       0.821163      0.046039\n",
       "20   7.000       2       0.765239      0.034819\n",
       "21   7.000       3       0.819973      0.049570\n",
       "22  10.000       2       0.772244      0.032749\n",
       "23  10.000       3       0.821149      0.041662"
      ]
     },
     "execution_count": 21,
     "metadata": {},
     "output_type": "execute_result"
    }
   ],
   "source": [
    "# Almacenamos en variables los resultados de la busqueda grid\n",
    "C_cv = busqueda_grid.cv_results_['param_C'].tolist()\n",
    "degree_cv = busqueda_grid.cv_results_['param_degree'].tolist()\n",
    "\n",
    "accuracy_medio_cv = busqueda_grid.cv_results_['mean_test_accuracy'].tolist()\n",
    "accuracy_std_cv = busqueda_grid.cv_results_['std_test_accuracy'].tolist()\n",
    "\n",
    "# Generamos un data frame con los resultados de la validacion cruzada\n",
    "df_resultados_cv = pd.DataFrame({'C': C_cv, \n",
    "                                 'degree': degree_cv, \n",
    "                                 'mean_accuracy': accuracy_medio_cv,\n",
    "                                 'std_accuracy': accuracy_std_cv})\n",
    "                                 \n",
    "df_resultados_cv"
   ]
  },
  {
   "cell_type": "code",
   "execution_count": 22,
   "metadata": {},
   "outputs": [
    {
     "data": {
      "image/png": "[encoded data removed]",
      "text/plain": [
       "<Figure size 432x288 with 1 Axes>"
      ]
     },
     "metadata": {},
     "output_type": "display_data"
    },
    {
     "name": "stdout",
     "output_type": "stream",
     "text": [
      "Valor de coste y grado óptimos: {'C': 5, 'degree': 3} \n",
      "Accuracy asociado +- std: 0.821 +- 0.046\n"
     ]
    }
   ],
   "source": [
    "# Graficamos los resultados de la busqueda grid\n",
    "plt.figure()\n",
    "plt.plot(x = df_resultados_cv[df_resultados_cv['degree']==2]['C'], \n",
    "         y = df_resultados_cv[df_resultados_cv['degree']==2]['mean_accuracy'])\n",
    "plt.errorbar(x = df_resultados_cv[df_resultados_cv['degree']==2]['C'],\n",
    "             y = df_resultados_cv[df_resultados_cv['degree']==2]['mean_accuracy'], \n",
    "             yerr = df_resultados_cv[df_resultados_cv['degree']==2]['std_accuracy'],\n",
    "             ecolor = 'red',\n",
    "             elinewidth=1,\n",
    "             label = 'degree=2',\n",
    "             capsize=5)\n",
    "plt.plot(x = df_resultados_cv[df_resultados_cv['degree']==3]['C'], \n",
    "         y = df_resultados_cv[df_resultados_cv['degree']==3]['mean_accuracy'])\n",
    "plt.errorbar(x = df_resultados_cv[df_resultados_cv['degree']==3]['C'],\n",
    "             y = df_resultados_cv[df_resultados_cv['degree']==3]['mean_accuracy'], \n",
    "             yerr = df_resultados_cv[df_resultados_cv['degree']==3]['std_accuracy'],\n",
    "             ecolor = 'black', \n",
    "             elinewidth = 0.5,\n",
    "             label = 'degree=3',\n",
    "             capsize=5)\n",
    "plt.title(\"SVM poli: Accuracy ~ coste y grado (10-fold cv)\")\n",
    "plt.xlabel('Coste (C)')\n",
    "#plt.ylabel('')\n",
    "plt.legend()\n",
    "plt.show()\n",
    "\n",
    "# Mejores hiperparametros sobre los datos hold-out\n",
    "print('Valor de coste y grado óptimos:', busqueda_grid.best_params_,\n",
    "     '\\nAccuracy asociado +- std:', round(busqueda_grid.cv_results_['mean_test_accuracy'][busqueda_grid.best_index_],3),\n",
    "     '+-', round(busqueda_grid.cv_results_['std_test_accuracy'][busqueda_grid.best_index_],3))"
   ]
  },
  {
   "cell_type": "code",
   "execution_count": 23,
   "metadata": {},
   "outputs": [
    {
     "data": {
      "text/plain": [
       "SVC(C=5, break_ties=False, cache_size=200, class_weight=None, coef0=0.0,\n",
       "    decision_function_shape='ovr', degree=3, gamma='scale', kernel='poly',\n",
       "    max_iter=-1, probability=False, random_state=0, shrinking=True, tol=0.001,\n",
       "    verbose=False)"
      ]
     },
     "execution_count": 23,
     "metadata": {},
     "output_type": "execute_result"
    }
   ],
   "source": [
    "# Ajustamos el modelo SVM lineal usando el valor de coste óptimo obtenido en cv\n",
    "modelo_svmP = svm.SVC(kernel = 'poly', \n",
    "                      C = busqueda_grid.best_params_.get('C'), #C=5\n",
    "                      degree = busqueda_grid.best_params_.get('degree'), #degree=3\n",
    "                      random_state = 0) # semilla\n",
    "                     \n",
    "# Entrenamos el modelo con los datos de entrenamiento \n",
    "modelo_svmP.fit(X_train, y_train)"
   ]
  },
  {
   "cell_type": "code",
   "execution_count": 24,
   "metadata": {},
   "outputs": [
    {
     "name": "stdout",
     "output_type": "stream",
     "text": [
      "[181 182]\n"
     ]
    }
   ],
   "source": [
    "# Nº de vectores soporte para cada clase de la variable respuesta\n",
    "print(modelo_svmP.n_support_)"
   ]
  },
  {
   "cell_type": "markdown",
   "metadata": {},
   "source": [
    "### Evaluación"
   ]
  },
  {
   "cell_type": "code",
   "execution_count": 25,
   "metadata": {},
   "outputs": [
    {
     "name": "stdout",
     "output_type": "stream",
     "text": [
      "Métricas en test:\n",
      "               precision    recall  f1-score   support\n",
      "\n",
      "          CH       0.81      0.83      0.82       122\n",
      "          MM       0.77      0.75      0.76        92\n",
      "\n",
      "    accuracy                           0.79       214\n",
      "   macro avg       0.79      0.79      0.79       214\n",
      "weighted avg       0.79      0.79      0.79       214\n",
      "\n"
     ]
    },
    {
     "data": {
      "text/plain": [
       "<sklearn.metrics._plot.confusion_matrix.ConfusionMatrixDisplay at 0xa193d68>"
      ]
     },
     "execution_count": 25,
     "metadata": {},
     "output_type": "execute_result"
    },
    {
     "data": {
      "image/png": "[encoded data removed]",
      "text/plain": [
       "<Figure size 432x288 with 2 Axes>"
      ]
     },
     "metadata": {},
     "output_type": "display_data"
    }
   ],
   "source": [
    "# TEST\n",
    "\n",
    "# Obtenemos las predicciones del modelo sobre los datos de test\n",
    "y_pred = modelo_svmP.predict(X_test)\n",
    "\n",
    "# Metricas\n",
    "print('Métricas en test:\\n', classification_report(y_test, y_pred))\n",
    "\n",
    "# Matriz de confusion (0=CH, 1=MM)\n",
    "plot_confusion_matrix(modelo_svmP, X_test, y_test)"
   ]
  },
  {
   "cell_type": "markdown",
   "metadata": {},
   "source": [
    "## **Máquina de vector soporte (kernel=radial)**"
   ]
  },
  {
   "cell_type": "markdown",
   "metadata": {},
   "source": [
    "### Búsqueda de hiperparámetros y ajuste\n",
    "\n",
    "Para ajustar un SVM con límite de clasificación no lineal y kernel polinómico, aplicaremos una optimización del hiperparámetro de coste `C` y grado o `gamma`:"
   ]
  },
  {
   "cell_type": "code",
   "execution_count": 26,
   "metadata": {},
   "outputs": [
    {
     "data": {
      "text/plain": [
       "GridSearchCV(cv=10, error_score=nan,\n",
       "             estimator=SVC(C=1.0, break_ties=False, cache_size=200,\n",
       "                           class_weight=None, coef0=0.0,\n",
       "                           decision_function_shape='ovr', degree=3,\n",
       "                           gamma='scale', kernel='rbf', max_iter=-1,\n",
       "                           probability=False, random_state=0, shrinking=True,\n",
       "                           tol=0.001, verbose=False),\n",
       "             iid='deprecated', n_jobs=-1,\n",
       "             param_grid={'C': [0.001, 0.01, 0.1, 0.3, 0.5, 1, 2, 3, 4, 5, 7,\n",
       "                               10],\n",
       "                         'gamma': [0.01, 0.1, 1, 5, 10]},\n",
       "             pre_dispatch='2*n_jobs', refit='accuracy',\n",
       "             return_train_score=False, scoring=['roc_auc', 'accuracy'],\n",
       "             verbose=0)"
      ]
     },
     "execution_count": 26,
     "metadata": {},
     "output_type": "execute_result"
    }
   ],
   "source": [
    "# Establecemos un grid con los valores de coste que queremos evaluar\n",
    "grid_hiperparametros = {'C': [0.001, 0.01, 0.1, 0.3, 0.5, 1, 2, 3, 4, 5, 7, 10],\n",
    "                        'gamma': [0.01, 0.1, 1, 5, 10]} \n",
    "\n",
    "# Definimos las metricas sobre las que queremos evaluar\n",
    "metricas = ['roc_auc', 'accuracy']\n",
    "\n",
    "# Definimos la busqueda mediante 10-fold CV\n",
    "busqueda_grid = GridSearchCV(estimator = svm.SVC(kernel='rbf', random_state = 0), \n",
    "                             param_grid = grid_hiperparametros, \n",
    "                             cv = 10, #folds\n",
    "                             scoring = metricas, \n",
    "                             refit = 'accuracy',\n",
    "                             #return_train_score = True,\n",
    "                             n_jobs = -1)\n",
    "\n",
    "\n",
    "# Aplicamos la busqueda\n",
    "busqueda_grid.fit(X_train, y_train)"
   ]
  },
  {
   "cell_type": "code",
   "execution_count": 27,
   "metadata": {},
   "outputs": [
    {
     "data": {
      "text/plain": [
       "dict_keys(['mean_fit_time', 'std_fit_time', 'mean_score_time', 'std_score_time', 'param_C', 'param_gamma', 'params', 'split0_test_roc_auc', 'split1_test_roc_auc', 'split2_test_roc_auc', 'split3_test_roc_auc', 'split4_test_roc_auc', 'split5_test_roc_auc', 'split6_test_roc_auc', 'split7_test_roc_auc', 'split8_test_roc_auc', 'split9_test_roc_auc', 'mean_test_roc_auc', 'std_test_roc_auc', 'rank_test_roc_auc', 'split0_test_accuracy', 'split1_test_accuracy', 'split2_test_accuracy', 'split3_test_accuracy', 'split4_test_accuracy', 'split5_test_accuracy', 'split6_test_accuracy', 'split7_test_accuracy', 'split8_test_accuracy', 'split9_test_accuracy', 'mean_test_accuracy', 'std_test_accuracy', 'rank_test_accuracy'])"
      ]
     },
     "execution_count": 27,
     "metadata": {},
     "output_type": "execute_result"
    }
   ],
   "source": [
    "# Valores que devuelve la busqueda grid\n",
    "busqueda_grid.cv_results_.keys()"
   ]
  },
  {
   "cell_type": "code",
   "execution_count": 28,
   "metadata": {
    "scrolled": true
   },
   "outputs": [
    {
     "data": {
      "text/html": [
       "<div>\n",
       "<style scoped>\n",
       "    .dataframe tbody tr th:only-of-type {\n",
       "        vertical-align: middle;\n",
       "    }\n",
       "\n",
       "    .dataframe tbody tr th {\n",
       "        vertical-align: top;\n",
       "    }\n",
       "\n",
       "    .dataframe thead th {\n",
       "        text-align: right;\n",
       "    }\n",
       "</style>\n",
       "<table border=\"1\" class=\"dataframe\">\n",
       "  <thead>\n",
       "    <tr style=\"text-align: right;\">\n",
       "      <th></th>\n",
       "      <th>C</th>\n",
       "      <th>gamma</th>\n",
       "      <th>mean_accuracy</th>\n",
       "      <th>std_accuracy</th>\n",
       "    </tr>\n",
       "  </thead>\n",
       "  <tbody>\n",
       "    <tr>\n",
       "      <th>0</th>\n",
       "      <td>0.001</td>\n",
       "      <td>0.01</td>\n",
       "      <td>0.620342</td>\n",
       "      <td>0.004247</td>\n",
       "    </tr>\n",
       "    <tr>\n",
       "      <th>1</th>\n",
       "      <td>0.001</td>\n",
       "      <td>0.10</td>\n",
       "      <td>0.620342</td>\n",
       "      <td>0.004247</td>\n",
       "    </tr>\n",
       "    <tr>\n",
       "      <th>2</th>\n",
       "      <td>0.001</td>\n",
       "      <td>1.00</td>\n",
       "      <td>0.620342</td>\n",
       "      <td>0.004247</td>\n",
       "    </tr>\n",
       "    <tr>\n",
       "      <th>3</th>\n",
       "      <td>0.001</td>\n",
       "      <td>5.00</td>\n",
       "      <td>0.620342</td>\n",
       "      <td>0.004247</td>\n",
       "    </tr>\n",
       "    <tr>\n",
       "      <th>4</th>\n",
       "      <td>0.001</td>\n",
       "      <td>10.00</td>\n",
       "      <td>0.620342</td>\n",
       "      <td>0.004247</td>\n",
       "    </tr>\n",
       "    <tr>\n",
       "      <th>5</th>\n",
       "      <td>0.010</td>\n",
       "      <td>0.01</td>\n",
       "      <td>0.620342</td>\n",
       "      <td>0.004247</td>\n",
       "    </tr>\n",
       "    <tr>\n",
       "      <th>6</th>\n",
       "      <td>0.010</td>\n",
       "      <td>0.10</td>\n",
       "      <td>0.620342</td>\n",
       "      <td>0.004247</td>\n",
       "    </tr>\n",
       "    <tr>\n",
       "      <th>7</th>\n",
       "      <td>0.010</td>\n",
       "      <td>1.00</td>\n",
       "      <td>0.620342</td>\n",
       "      <td>0.004247</td>\n",
       "    </tr>\n",
       "    <tr>\n",
       "      <th>8</th>\n",
       "      <td>0.010</td>\n",
       "      <td>5.00</td>\n",
       "      <td>0.620342</td>\n",
       "      <td>0.004247</td>\n",
       "    </tr>\n",
       "    <tr>\n",
       "      <th>9</th>\n",
       "      <td>0.010</td>\n",
       "      <td>10.00</td>\n",
       "      <td>0.620342</td>\n",
       "      <td>0.004247</td>\n",
       "    </tr>\n",
       "    <tr>\n",
       "      <th>10</th>\n",
       "      <td>0.100</td>\n",
       "      <td>0.01</td>\n",
       "      <td>0.800233</td>\n",
       "      <td>0.034832</td>\n",
       "    </tr>\n",
       "    <tr>\n",
       "      <th>11</th>\n",
       "      <td>0.100</td>\n",
       "      <td>0.10</td>\n",
       "      <td>0.794350</td>\n",
       "      <td>0.039760</td>\n",
       "    </tr>\n",
       "    <tr>\n",
       "      <th>12</th>\n",
       "      <td>0.100</td>\n",
       "      <td>1.00</td>\n",
       "      <td>0.667073</td>\n",
       "      <td>0.025893</td>\n",
       "    </tr>\n",
       "    <tr>\n",
       "      <th>13</th>\n",
       "      <td>0.100</td>\n",
       "      <td>5.00</td>\n",
       "      <td>0.619179</td>\n",
       "      <td>0.006297</td>\n",
       "    </tr>\n",
       "    <tr>\n",
       "      <th>14</th>\n",
       "      <td>0.100</td>\n",
       "      <td>10.00</td>\n",
       "      <td>0.620342</td>\n",
       "      <td>0.004247</td>\n",
       "    </tr>\n",
       "    <tr>\n",
       "      <th>15</th>\n",
       "      <td>0.300</td>\n",
       "      <td>0.01</td>\n",
       "      <td>0.827004</td>\n",
       "      <td>0.037287</td>\n",
       "    </tr>\n",
       "    <tr>\n",
       "      <th>16</th>\n",
       "      <td>0.300</td>\n",
       "      <td>0.10</td>\n",
       "      <td>0.809508</td>\n",
       "      <td>0.041494</td>\n",
       "    </tr>\n",
       "    <tr>\n",
       "      <th>17</th>\n",
       "      <td>0.300</td>\n",
       "      <td>1.00</td>\n",
       "      <td>0.765198</td>\n",
       "      <td>0.038651</td>\n",
       "    </tr>\n",
       "    <tr>\n",
       "      <th>18</th>\n",
       "      <td>0.300</td>\n",
       "      <td>5.00</td>\n",
       "      <td>0.711518</td>\n",
       "      <td>0.031881</td>\n",
       "    </tr>\n",
       "    <tr>\n",
       "      <th>19</th>\n",
       "      <td>0.300</td>\n",
       "      <td>10.00</td>\n",
       "      <td>0.690506</td>\n",
       "      <td>0.037649</td>\n",
       "    </tr>\n",
       "    <tr>\n",
       "      <th>20</th>\n",
       "      <td>0.500</td>\n",
       "      <td>0.01</td>\n",
       "      <td>0.827018</td>\n",
       "      <td>0.036483</td>\n",
       "    </tr>\n",
       "    <tr>\n",
       "      <th>21</th>\n",
       "      <td>0.500</td>\n",
       "      <td>0.10</td>\n",
       "      <td>0.815335</td>\n",
       "      <td>0.045900</td>\n",
       "    </tr>\n",
       "    <tr>\n",
       "      <th>22</th>\n",
       "      <td>0.500</td>\n",
       "      <td>1.00</td>\n",
       "      <td>0.782681</td>\n",
       "      <td>0.038136</td>\n",
       "    </tr>\n",
       "    <tr>\n",
       "      <th>23</th>\n",
       "      <td>0.500</td>\n",
       "      <td>5.00</td>\n",
       "      <td>0.745321</td>\n",
       "      <td>0.033260</td>\n",
       "    </tr>\n",
       "    <tr>\n",
       "      <th>24</th>\n",
       "      <td>0.500</td>\n",
       "      <td>10.00</td>\n",
       "      <td>0.719699</td>\n",
       "      <td>0.039776</td>\n",
       "    </tr>\n",
       "    <tr>\n",
       "      <th>25</th>\n",
       "      <td>1.000</td>\n",
       "      <td>0.01</td>\n",
       "      <td>0.836347</td>\n",
       "      <td>0.040902</td>\n",
       "    </tr>\n",
       "    <tr>\n",
       "      <th>26</th>\n",
       "      <td>1.000</td>\n",
       "      <td>0.10</td>\n",
       "      <td>0.807141</td>\n",
       "      <td>0.043070</td>\n",
       "    </tr>\n",
       "    <tr>\n",
       "      <th>27</th>\n",
       "      <td>1.000</td>\n",
       "      <td>1.00</td>\n",
       "      <td>0.788523</td>\n",
       "      <td>0.034878</td>\n",
       "    </tr>\n",
       "    <tr>\n",
       "      <th>28</th>\n",
       "      <td>1.000</td>\n",
       "      <td>5.00</td>\n",
       "      <td>0.776772</td>\n",
       "      <td>0.035351</td>\n",
       "    </tr>\n",
       "    <tr>\n",
       "      <th>29</th>\n",
       "      <td>1.000</td>\n",
       "      <td>10.00</td>\n",
       "      <td>0.761642</td>\n",
       "      <td>0.040267</td>\n",
       "    </tr>\n",
       "    <tr>\n",
       "      <th>30</th>\n",
       "      <td>2.000</td>\n",
       "      <td>0.01</td>\n",
       "      <td>0.834008</td>\n",
       "      <td>0.035079</td>\n",
       "    </tr>\n",
       "    <tr>\n",
       "      <th>31</th>\n",
       "      <td>2.000</td>\n",
       "      <td>0.10</td>\n",
       "      <td>0.815321</td>\n",
       "      <td>0.039169</td>\n",
       "    </tr>\n",
       "    <tr>\n",
       "      <th>32</th>\n",
       "      <td>2.000</td>\n",
       "      <td>1.00</td>\n",
       "      <td>0.777975</td>\n",
       "      <td>0.035336</td>\n",
       "    </tr>\n",
       "    <tr>\n",
       "      <th>33</th>\n",
       "      <td>2.000</td>\n",
       "      <td>5.00</td>\n",
       "      <td>0.772134</td>\n",
       "      <td>0.035807</td>\n",
       "    </tr>\n",
       "    <tr>\n",
       "      <th>34</th>\n",
       "      <td>2.000</td>\n",
       "      <td>10.00</td>\n",
       "      <td>0.763981</td>\n",
       "      <td>0.040468</td>\n",
       "    </tr>\n",
       "    <tr>\n",
       "      <th>35</th>\n",
       "      <td>3.000</td>\n",
       "      <td>0.01</td>\n",
       "      <td>0.835185</td>\n",
       "      <td>0.035635</td>\n",
       "    </tr>\n",
       "    <tr>\n",
       "      <th>36</th>\n",
       "      <td>3.000</td>\n",
       "      <td>0.10</td>\n",
       "      <td>0.812982</td>\n",
       "      <td>0.037839</td>\n",
       "    </tr>\n",
       "    <tr>\n",
       "      <th>37</th>\n",
       "      <td>3.000</td>\n",
       "      <td>1.00</td>\n",
       "      <td>0.783830</td>\n",
       "      <td>0.034147</td>\n",
       "    </tr>\n",
       "    <tr>\n",
       "      <th>38</th>\n",
       "      <td>3.000</td>\n",
       "      <td>5.00</td>\n",
       "      <td>0.766279</td>\n",
       "      <td>0.038053</td>\n",
       "    </tr>\n",
       "    <tr>\n",
       "      <th>39</th>\n",
       "      <td>3.000</td>\n",
       "      <td>10.00</td>\n",
       "      <td>0.762804</td>\n",
       "      <td>0.037078</td>\n",
       "    </tr>\n",
       "    <tr>\n",
       "      <th>40</th>\n",
       "      <td>4.000</td>\n",
       "      <td>0.01</td>\n",
       "      <td>0.830547</td>\n",
       "      <td>0.032149</td>\n",
       "    </tr>\n",
       "    <tr>\n",
       "      <th>41</th>\n",
       "      <td>4.000</td>\n",
       "      <td>0.10</td>\n",
       "      <td>0.812982</td>\n",
       "      <td>0.036787</td>\n",
       "    </tr>\n",
       "    <tr>\n",
       "      <th>42</th>\n",
       "      <td>4.000</td>\n",
       "      <td>1.00</td>\n",
       "      <td>0.788468</td>\n",
       "      <td>0.037464</td>\n",
       "    </tr>\n",
       "    <tr>\n",
       "      <th>43</th>\n",
       "      <td>4.000</td>\n",
       "      <td>5.00</td>\n",
       "      <td>0.770985</td>\n",
       "      <td>0.036820</td>\n",
       "    </tr>\n",
       "    <tr>\n",
       "      <th>44</th>\n",
       "      <td>4.000</td>\n",
       "      <td>10.00</td>\n",
       "      <td>0.754665</td>\n",
       "      <td>0.035306</td>\n",
       "    </tr>\n",
       "    <tr>\n",
       "      <th>45</th>\n",
       "      <td>5.000</td>\n",
       "      <td>0.01</td>\n",
       "      <td>0.824692</td>\n",
       "      <td>0.036199</td>\n",
       "    </tr>\n",
       "    <tr>\n",
       "      <th>46</th>\n",
       "      <td>5.000</td>\n",
       "      <td>0.10</td>\n",
       "      <td>0.815321</td>\n",
       "      <td>0.035902</td>\n",
       "    </tr>\n",
       "    <tr>\n",
       "      <th>47</th>\n",
       "      <td>5.000</td>\n",
       "      <td>1.00</td>\n",
       "      <td>0.781450</td>\n",
       "      <td>0.038793</td>\n",
       "    </tr>\n",
       "    <tr>\n",
       "      <th>48</th>\n",
       "      <td>5.000</td>\n",
       "      <td>5.00</td>\n",
       "      <td>0.770999</td>\n",
       "      <td>0.037430</td>\n",
       "    </tr>\n",
       "    <tr>\n",
       "      <th>49</th>\n",
       "      <td>5.000</td>\n",
       "      <td>10.00</td>\n",
       "      <td>0.753502</td>\n",
       "      <td>0.034277</td>\n",
       "    </tr>\n",
       "    <tr>\n",
       "      <th>50</th>\n",
       "      <td>7.000</td>\n",
       "      <td>0.01</td>\n",
       "      <td>0.823529</td>\n",
       "      <td>0.034428</td>\n",
       "    </tr>\n",
       "    <tr>\n",
       "      <th>51</th>\n",
       "      <td>7.000</td>\n",
       "      <td>0.10</td>\n",
       "      <td>0.809466</td>\n",
       "      <td>0.038666</td>\n",
       "    </tr>\n",
       "    <tr>\n",
       "      <th>52</th>\n",
       "      <td>7.000</td>\n",
       "      <td>1.00</td>\n",
       "      <td>0.779138</td>\n",
       "      <td>0.035904</td>\n",
       "    </tr>\n",
       "    <tr>\n",
       "      <th>53</th>\n",
       "      <td>7.000</td>\n",
       "      <td>5.00</td>\n",
       "      <td>0.770985</td>\n",
       "      <td>0.037838</td>\n",
       "    </tr>\n",
       "    <tr>\n",
       "      <th>54</th>\n",
       "      <td>7.000</td>\n",
       "      <td>10.00</td>\n",
       "      <td>0.757004</td>\n",
       "      <td>0.031128</td>\n",
       "    </tr>\n",
       "    <tr>\n",
       "      <th>55</th>\n",
       "      <td>10.000</td>\n",
       "      <td>0.01</td>\n",
       "      <td>0.821190</td>\n",
       "      <td>0.034302</td>\n",
       "    </tr>\n",
       "    <tr>\n",
       "      <th>56</th>\n",
       "      <td>10.000</td>\n",
       "      <td>0.10</td>\n",
       "      <td>0.809466</td>\n",
       "      <td>0.040694</td>\n",
       "    </tr>\n",
       "    <tr>\n",
       "      <th>57</th>\n",
       "      <td>10.000</td>\n",
       "      <td>1.00</td>\n",
       "      <td>0.780328</td>\n",
       "      <td>0.034323</td>\n",
       "    </tr>\n",
       "    <tr>\n",
       "      <th>58</th>\n",
       "      <td>10.000</td>\n",
       "      <td>5.00</td>\n",
       "      <td>0.765157</td>\n",
       "      <td>0.026486</td>\n",
       "    </tr>\n",
       "    <tr>\n",
       "      <th>59</th>\n",
       "      <td>10.000</td>\n",
       "      <td>10.00</td>\n",
       "      <td>0.751176</td>\n",
       "      <td>0.030245</td>\n",
       "    </tr>\n",
       "  </tbody>\n",
       "</table>\n",
       "</div>"
      ],
      "text/plain": [
       "         C  gamma  mean_accuracy  std_accuracy\n",
       "0    0.001   0.01       0.620342      0.004247\n",
       "1    0.001   0.10       0.620342      0.004247\n",
       "2    0.001   1.00       0.620342      0.004247\n",
       "3    0.001   5.00       0.620342      0.004247\n",
       "4    0.001  10.00       0.620342      0.004247\n",
       "5    0.010   0.01       0.620342      0.004247\n",
       "6    0.010   0.10       0.620342      0.004247\n",
       "7    0.010   1.00       0.620342      0.004247\n",
       "8    0.010   5.00       0.620342      0.004247\n",
       "9    0.010  10.00       0.620342      0.004247\n",
       "10   0.100   0.01       0.800233      0.034832\n",
       "11   0.100   0.10       0.794350      0.039760\n",
       "12   0.100   1.00       0.667073      0.025893\n",
       "13   0.100   5.00       0.619179      0.006297\n",
       "14   0.100  10.00       0.620342      0.004247\n",
       "15   0.300   0.01       0.827004      0.037287\n",
       "16   0.300   0.10       0.809508      0.041494\n",
       "17   0.300   1.00       0.765198      0.038651\n",
       "18   0.300   5.00       0.711518      0.031881\n",
       "19   0.300  10.00       0.690506      0.037649\n",
       "20   0.500   0.01       0.827018      0.036483\n",
       "21   0.500   0.10       0.815335      0.045900\n",
       "22   0.500   1.00       0.782681      0.038136\n",
       "23   0.500   5.00       0.745321      0.033260\n",
       "24   0.500  10.00       0.719699      0.039776\n",
       "25   1.000   0.01       0.836347      0.040902\n",
       "26   1.000   0.10       0.807141      0.043070\n",
       "27   1.000   1.00       0.788523      0.034878\n",
       "28   1.000   5.00       0.776772      0.035351\n",
       "29   1.000  10.00       0.761642      0.040267\n",
       "30   2.000   0.01       0.834008      0.035079\n",
       "31   2.000   0.10       0.815321      0.039169\n",
       "32   2.000   1.00       0.777975      0.035336\n",
       "33   2.000   5.00       0.772134      0.035807\n",
       "34   2.000  10.00       0.763981      0.040468\n",
       "35   3.000   0.01       0.835185      0.035635\n",
       "36   3.000   0.10       0.812982      0.037839\n",
       "37   3.000   1.00       0.783830      0.034147\n",
       "38   3.000   5.00       0.766279      0.038053\n",
       "39   3.000  10.00       0.762804      0.037078\n",
       "40   4.000   0.01       0.830547      0.032149\n",
       "41   4.000   0.10       0.812982      0.036787\n",
       "42   4.000   1.00       0.788468      0.037464\n",
       "43   4.000   5.00       0.770985      0.036820\n",
       "44   4.000  10.00       0.754665      0.035306\n",
       "45   5.000   0.01       0.824692      0.036199\n",
       "46   5.000   0.10       0.815321      0.035902\n",
       "47   5.000   1.00       0.781450      0.038793\n",
       "48   5.000   5.00       0.770999      0.037430\n",
       "49   5.000  10.00       0.753502      0.034277\n",
       "50   7.000   0.01       0.823529      0.034428\n",
       "51   7.000   0.10       0.809466      0.038666\n",
       "52   7.000   1.00       0.779138      0.035904\n",
       "53   7.000   5.00       0.770985      0.037838\n",
       "54   7.000  10.00       0.757004      0.031128\n",
       "55  10.000   0.01       0.821190      0.034302\n",
       "56  10.000   0.10       0.809466      0.040694\n",
       "57  10.000   1.00       0.780328      0.034323\n",
       "58  10.000   5.00       0.765157      0.026486\n",
       "59  10.000  10.00       0.751176      0.030245"
      ]
     },
     "execution_count": 28,
     "metadata": {},
     "output_type": "execute_result"
    }
   ],
   "source": [
    "# Almacenamos en variables los resultados de la busqueda grid\n",
    "C_cv = busqueda_grid.cv_results_['param_C'].tolist()\n",
    "gamma_cv = busqueda_grid.cv_results_['param_gamma'].tolist()\n",
    "\n",
    "accuracy_medio_cv = busqueda_grid.cv_results_['mean_test_accuracy'].tolist()\n",
    "accuracy_std_cv = busqueda_grid.cv_results_['std_test_accuracy'].tolist()\n",
    "\n",
    "# Generamos un data frame con los resultados de la validacion cruzada\n",
    "df_resultados_cv = pd.DataFrame({'C': C_cv, \n",
    "                                 'gamma': gamma_cv, \n",
    "                                 'mean_accuracy': accuracy_medio_cv,\n",
    "                                 'std_accuracy': accuracy_std_cv})\n",
    "                                 \n",
    "df_resultados_cv"
   ]
  },
  {
   "cell_type": "code",
   "execution_count": 29,
   "metadata": {},
   "outputs": [
    {
     "data": {
      "image/png": "[encoded data removed]",
      "text/plain": [
       "<Figure size 432x288 with 1 Axes>"
      ]
     },
     "metadata": {},
     "output_type": "display_data"
    },
    {
     "name": "stdout",
     "output_type": "stream",
     "text": [
      "Valor de coste y gamma óptimos: {'C': 1, 'gamma': 0.01} \n",
      "Accuracy asociado +- std: 0.836 +- 0.041\n"
     ]
    }
   ],
   "source": [
    "# Pivotamos el df para obtener los datos en tres columnas: C, accuracy con degree2 y accuracy con degree3\n",
    "df_resultados_cv.pivot(index = 'C', columns = 'gamma', values = 'mean_accuracy').plot()\n",
    "plt.xlabel('Coste (C)')\n",
    "plt.ylabel('Accuracy')\n",
    "plt.title('Modelo SVM radial: accuracy ~ C y gamma (10-fold cv)')\n",
    "plt.show()\n",
    "\n",
    "# Mejores hiperparametros sobre los datos hold-out\n",
    "print('Valor de coste y gamma óptimos:', busqueda_grid.best_params_,\n",
    "     '\\nAccuracy asociado +- std:', round(busqueda_grid.cv_results_['mean_test_accuracy'][busqueda_grid.best_index_],3),\n",
    "     '+-', round(busqueda_grid.cv_results_['std_test_accuracy'][busqueda_grid.best_index_],3))"
   ]
  },
  {
   "cell_type": "code",
   "execution_count": 30,
   "metadata": {},
   "outputs": [
    {
     "data": {
      "text/plain": [
       "SVC(C=1, break_ties=False, cache_size=200, class_weight=None, coef0=0.0,\n",
       "    decision_function_shape='ovr', degree=0.01, gamma='scale', kernel='rbf',\n",
       "    max_iter=-1, probability=False, random_state=0, shrinking=True, tol=0.001,\n",
       "    verbose=False)"
      ]
     },
     "execution_count": 30,
     "metadata": {},
     "output_type": "execute_result"
    }
   ],
   "source": [
    "# Ajustamos el modelo SVM lineal usando el valor de coste óptimo obtenido en cv\n",
    "modelo_svmR = svm.SVC(kernel = 'rbf', \n",
    "                      C = busqueda_grid.best_params_.get('C'), #C=1\n",
    "                      degree = busqueda_grid.best_params_.get('gamma'), #degree=0.01\n",
    "                      random_state = 0) # semilla\n",
    "                     \n",
    "# Entrenamos el modelo con los datos de entrenamiento \n",
    "modelo_svmR.fit(X_train, y_train)"
   ]
  },
  {
   "cell_type": "code",
   "execution_count": 31,
   "metadata": {},
   "outputs": [
    {
     "name": "stdout",
     "output_type": "stream",
     "text": [
      "[201 196]\n"
     ]
    }
   ],
   "source": [
    "# Nº de vectores soporte para cada clase de la variable respuesta\n",
    "print(modelo_svmR.n_support_)"
   ]
  },
  {
   "cell_type": "markdown",
   "metadata": {},
   "source": [
    "### Evaluación"
   ]
  },
  {
   "cell_type": "code",
   "execution_count": 32,
   "metadata": {},
   "outputs": [
    {
     "name": "stdout",
     "output_type": "stream",
     "text": [
      "Métricas en test:\n",
      "               precision    recall  f1-score   support\n",
      "\n",
      "          CH       0.83      0.89      0.86       122\n",
      "          MM       0.83      0.76      0.80        92\n",
      "\n",
      "    accuracy                           0.83       214\n",
      "   macro avg       0.83      0.82      0.83       214\n",
      "weighted avg       0.83      0.83      0.83       214\n",
      "\n"
     ]
    },
    {
     "data": {
      "text/plain": [
       "<sklearn.metrics._plot.confusion_matrix.ConfusionMatrixDisplay at 0xa287278>"
      ]
     },
     "execution_count": 32,
     "metadata": {},
     "output_type": "execute_result"
    },
    {
     "data": {
      "image/png": "[encoded data removed]",
      "text/plain": [
       "<Figure size 432x288 with 2 Axes>"
      ]
     },
     "metadata": {},
     "output_type": "display_data"
    }
   ],
   "source": [
    "# TEST\n",
    "\n",
    "# Obtenemos las predicciones del modelo sobre los datos de test\n",
    "y_pred = modelo_svmR.predict(X_test)\n",
    "\n",
    "# Metricas\n",
    "print('Métricas en test:\\n', classification_report(y_test, y_pred))\n",
    "\n",
    "# Matriz de confusion (0=CH, 1=MM)\n",
    "plot_confusion_matrix(modelo_svmR, X_test, y_test)"
   ]
  },
  {
   "cell_type": "markdown",
   "metadata": {},
   "source": [
    "[![CC BY 4.0][cc-by-shield]][cc-by]\n",
    "\n",
    "This work by Cristina Gil Martínez is licensed under a [Creative Commons Attribution 4.0 International License][cc-by].\n",
    "\n",
    "[![CC BY 4.0][cc-by-image]][cc-by]\n",
    "\n",
    "[cc-by]: http://creativecommons.org/licenses/by/4.0/\n",
    "[cc-by-image]: https://i.creativecommons.org/l/by/4.0/88x31.png\n",
    "[cc-by-shield]: https://img.shields.io/badge/License-CC%20BY%204.0-lightgrey.svg"
   ]
  }
 ],
 "metadata": {
  "kernelspec": {
   "display_name": "Python 3",
   "language": "python",
   "name": "python3"
  },
  "language_info": {
   "codemirror_mode": {
    "name": "ipython",
    "version": 3
   },
   "file_extension": ".py",
   "mimetype": "text/x-python",
   "name": "python",
   "nbconvert_exporter": "python",
   "pygments_lexer": "ipython3",
   "version": "3.6.5"
  },
  "toc": {
   "base_numbering": 1,
   "nav_menu": {},
   "number_sections": true,
   "sideBar": true,
   "skip_h1_title": false,
   "title_cell": "Tabla de Contenidos",
   "title_sidebar": "Contents",
   "toc_cell": true,
   "toc_position": {},
   "toc_section_display": true,
   "toc_window_display": true
  }
 },
 "nbformat": 4,
 "nbformat_minor": 2
}
